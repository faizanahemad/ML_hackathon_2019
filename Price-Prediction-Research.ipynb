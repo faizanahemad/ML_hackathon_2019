{
 "cells": [
  {
   "cell_type": "markdown",
   "metadata": {},
   "source": [
    "# Introduction"
   ]
  },
  {
   "cell_type": "markdown",
   "metadata": {},
   "source": [
    "Steps I followed\n",
    "- Understand your data, check distributions\n",
    "- **Create a good Baseline**\n",
    "- Improve using Model\n",
    "- Inspect Model\n",
    "- Iterate"
   ]
  },
  {
   "cell_type": "markdown",
   "metadata": {},
   "source": [
    "# Imports and Reading Data"
   ]
  },
  {
   "cell_type": "code",
   "execution_count": 1,
   "metadata": {
    "ExecuteTime": {
     "end_time": "2019-06-28T16:27:27.951736Z",
     "start_time": "2019-06-28T16:27:22.123601Z"
    }
   },
   "outputs": [
    {
     "name": "stderr",
     "output_type": "stream",
     "text": [
      "Using TensorFlow backend.\n",
      "[nltk_data] Downloading package punkt to /Users/ahemf/nltk_data...\n",
      "[nltk_data]   Package punkt is already up-to-date!\n",
      "[nltk_data] Downloading package stopwords to /Users/ahemf/nltk_data...\n",
      "[nltk_data]   Package stopwords is already up-to-date!\n",
      "[nltk_data] Downloading package wordnet to /Users/ahemf/nltk_data...\n",
      "[nltk_data]   Package wordnet is already up-to-date!\n",
      "[nltk_data] Downloading package averaged_perceptron_tagger to\n",
      "[nltk_data]     /Users/ahemf/nltk_data...\n",
      "[nltk_data]   Package averaged_perceptron_tagger is already up-to-\n",
      "[nltk_data]       date!\n",
      "[nltk_data] Downloading package omw to /Users/ahemf/nltk_data...\n",
      "[nltk_data]   Package omw is already up-to-date!\n"
     ]
    }
   ],
   "source": [
    "from keras import backend as K\n",
    "import time\n",
    "import matplotlib.pyplot as plt\n",
    "import numpy as np_utils\n",
    "%matplotlib inline\n",
    "from keras.models import Sequential\n",
    "from keras.layers.convolutional import Convolution2D, MaxPooling2D, DepthwiseConv2D, Conv2D, SeparableConv2D, MaxPooling1D, AveragePooling1D\n",
    "from keras.layers import Input, concatenate, LeakyReLU\n",
    "import gensim.downloader as api\n",
    "from sklearn.model_selection import train_test_split\n",
    "from keras.layers import Activation, Flatten, Dense, Dropout, SpatialDropout1D\n",
    "from keras.layers.normalization import BatchNormalization\n",
    "from keras.layers.pooling import GlobalAveragePooling2D\n",
    "from keras.utils import np_utils\n",
    "from keras.preprocessing.image import ImageDataGenerator\n",
    "from keras.optimizers import SGD, Nadam, Adam\n",
    "from keras.preprocessing.image import ImageDataGenerator\n",
    "from keras.callbacks import EarlyStopping, ModelCheckpoint, ReduceLROnPlateau, LearningRateScheduler\n",
    "from keras.regularizers import l2\n",
    "%config InlineBackend.figure_format='retina'\n",
    "from keras_contrib.callbacks import CyclicLR\n",
    "from keras.models import Model\n",
    "from keras.layers import Conv1D, GlobalMaxPooling1D, GlobalAveragePooling1D\n",
    "from data_science_utils.vision.keras import *\n",
    "from time import time\n",
    "import pandas as pd\n",
    "import numpy as np\n",
    "\n",
    "from IPython.core.interactiveshell import InteractiveShell\n",
    "InteractiveShell.ast_node_interactivity = \"all\"\n",
    "import missingno as msno\n",
    "import re\n",
    "from joblib import Parallel, delayed\n",
    "from data_science_utils import dataframe as df_utils\n",
    "from data_science_utils import models as model_utils\n",
    "from data_science_utils import plots as plot_utils\n",
    "from data_science_utils.dataframe import column as column_utils\n",
    "from data_science_utils import misc as misc\n",
    "from data_science_utils import preprocessing as pp_utils\n",
    "from data_science_utils import nlp as nlp_utils\n",
    "\n",
    "from keras.preprocessing import sequence\n",
    "from keras.models import Sequential\n",
    "from keras.layers import Dense, Dropout, Activation\n",
    "from keras.layers import Embedding\n",
    "from keras.layers import Conv1D, GlobalMaxPooling1D\n",
    "from keras.datasets import imdb\n",
    "from sklearn.preprocessing import StandardScaler\n",
    "from sklearn.impute import SimpleImputer\n",
    "from data_science_utils.dataframe import get_specific_cols\n",
    "from random import sample\n",
    "\n",
    "import more_itertools\n",
    "from more_itertools import flatten\n",
    "import ast\n",
    "from sklearn.preprocessing import LabelEncoder\n",
    "\n",
    "import gc\n",
    "from sklearn.decomposition import PCA\n",
    "\n",
    "import sys\n",
    "import os\n",
    "sys.path.append(os.getcwd())\n",
    "from importlib import reload\n",
    "import lib_research\n",
    "reload(lib_research)\n",
    "from lib_research import *\n",
    "\n",
    "import warnings\n",
    "warnings.filterwarnings('ignore')\n",
    "\n",
    "reload(model_utils)\n",
    "from data_science_utils.models import mean_absolute_percentage_error\n",
    "from data_science_utils.models import median_absolute_percentage_error\n",
    "from sklearn.metrics import mean_squared_error\n",
    "import seaborn as sns\n",
    "from more_itertools import flatten\n",
    "import dill\n",
    "from collections import Counter\n",
    "import operator\n"
   ]
  },
  {
   "cell_type": "markdown",
   "metadata": {},
   "source": [
    "# Data Preprocessing\n"
   ]
  },
  {
   "cell_type": "code",
   "execution_count": 2,
   "metadata": {
    "ExecuteTime": {
     "end_time": "2019-06-28T16:27:30.143730Z",
     "start_time": "2019-06-28T16:27:30.134034Z"
    }
   },
   "outputs": [],
   "source": [
    "jobs=2"
   ]
  },
  {
   "cell_type": "code",
   "execution_count": null,
   "metadata": {},
   "outputs": [],
   "source": [
    "df = pd.read_csv(\"price_prediction/india-asins.csv\")\n",
    "df = preprocess_for_word_cnn(df,jobs=jobs)\n",
    "df.to_csv(\"price_prediction/india-asins.csv\",index=False)\n"
   ]
  },
  {
   "cell_type": "code",
   "execution_count": null,
   "metadata": {},
   "outputs": [],
   "source": [
    "df = pd.read_csv(\"price_prediction/india-asins.csv\")\n",
    "df[\"text\"] = Parallel(n_jobs=jobs, backend=\"loky\")(delayed(ast.literal_eval)(x) for x in tqdm(df[\"text\"].values))\n",
    "df_train,df_test = train_test_split(df,test_size=0.2)"
   ]
  },
  {
   "cell_type": "code",
   "execution_count": 3,
   "metadata": {
    "ExecuteTime": {
     "end_time": "2019-06-28T16:27:30.867664Z",
     "start_time": "2019-06-28T16:27:30.677391Z"
    }
   },
   "outputs": [],
   "source": [
    "# Read Data\n",
    "df_train = pd.read_csv(\"price_prediction/india-asins-train.csv\")\n",
    "df_test = pd.read_csv(\"price_prediction/india-asins-test.csv\")"
   ]
  },
  {
   "cell_type": "code",
   "execution_count": 5,
   "metadata": {
    "ExecuteTime": {
     "end_time": "2019-06-28T16:29:15.820273Z",
     "start_time": "2019-06-28T16:27:40.100628Z"
    }
   },
   "outputs": [
    {
     "data": {
      "application/vnd.jupyter.widget-view+json": {
       "model_id": "a3ae7ddd49a948a8ba46c6635b04c1f5",
       "version_major": 2,
       "version_minor": 0
      },
      "text/plain": [
       "HBox(children=(IntProgress(value=0, max=20000), HTML(value='')))"
      ]
     },
     "metadata": {},
     "output_type": "display_data"
    },
    {
     "name": "stdout",
     "output_type": "stream",
     "text": [
      "\n"
     ]
    },
    {
     "data": {
      "application/vnd.jupyter.widget-view+json": {
       "model_id": "0bce84061fda4798a374e596b4922330",
       "version_major": 2,
       "version_minor": 0
      },
      "text/plain": [
       "HBox(children=(IntProgress(value=0, max=20000), HTML(value='')))"
      ]
     },
     "metadata": {},
     "output_type": "display_data"
    },
    {
     "name": "stdout",
     "output_type": "stream",
     "text": [
      "\n",
      "Total Words before Min frequency filtering 32295\n",
      "Total Words after Min frequency filtering 8734\n"
     ]
    },
    {
     "data": {
      "application/vnd.jupyter.widget-view+json": {
       "model_id": "e7e93e4a6d67427ba1488acd7993f187",
       "version_major": 2,
       "version_minor": 0
      },
      "text/plain": [
       "HBox(children=(IntProgress(value=0, max=20000), HTML(value='')))"
      ]
     },
     "metadata": {},
     "output_type": "display_data"
    },
    {
     "name": "stdout",
     "output_type": "stream",
     "text": [
      "\n"
     ]
    },
    {
     "data": {
      "application/vnd.jupyter.widget-view+json": {
       "model_id": "e6351a0f335d43ad9f9ce14c424b9d1a",
       "version_major": 2,
       "version_minor": 0
      },
      "text/plain": [
       "HBox(children=(IntProgress(value=0, max=5000), HTML(value='')))"
      ]
     },
     "metadata": {},
     "output_type": "display_data"
    },
    {
     "name": "stdout",
     "output_type": "stream",
     "text": [
      "\n"
     ]
    },
    {
     "data": {
      "application/vnd.jupyter.widget-view+json": {
       "model_id": "2acf40ade97e490cb5232d9ab6a86f32",
       "version_major": 2,
       "version_minor": 0
      },
      "text/plain": [
       "HBox(children=(IntProgress(value=0, max=5000), HTML(value='')))"
      ]
     },
     "metadata": {},
     "output_type": "display_data"
    },
    {
     "name": "stdout",
     "output_type": "stream",
     "text": [
      "\n"
     ]
    },
    {
     "data": {
      "text/plain": [
       "Index(['asin', 'price', 'gl', 'text_raw', 'text', 'text_encoded',\n",
       "       'gl_encoded'],\n",
       "      dtype='object')"
      ]
     },
     "execution_count": 5,
     "metadata": {},
     "output_type": "execute_result"
    },
    {
     "data": {
      "text/plain": [
       "Index(['asin', 'price', 'gl', 'text_raw', 'text', 'text_encoded',\n",
       "       'gl_encoded'],\n",
       "      dtype='object')"
      ]
     },
     "execution_count": 5,
     "metadata": {},
     "output_type": "execute_result"
    }
   ],
   "source": [
    "\n",
    "\n",
    "# Text Encoding\n",
    "df_train = preprocess_for_word_cnn(df_train,jobs=jobs)\n",
    "le_train,le_transform, le = get_text_le(\"text\",vocab_size=100000)\n",
    "_ = le_train(df_train)\n",
    "df_train['text_encoded'] = le_transform(df_train)\n",
    "\n",
    "df_test = preprocess_for_word_cnn(df_test,jobs=jobs)\n",
    "df_test['text_encoded'] = le_transform(df_test)\n",
    "\n",
    "# GL encoding\n",
    "gl_le_train,gl_le_transform, gl_le = get_le(colname=\"gl\")\n",
    "_ = gl_le_train(df_train)\n",
    "df_train['gl_encoded'] = gl_le_transform(df_train)\n",
    "df_test['gl_encoded'] = gl_le_transform(df_test)\n",
    "\n",
    "# Save Intermediate Steps\n",
    "with open(\"gl_le.save\", \"wb\") as fobj:\n",
    "    dill.dump(gl_le, fobj)\n",
    "    \n",
    "with open(\"le.save\", \"wb\") as fobj:\n",
    "    dill.dump(le, fobj)\n",
    "\n",
    "df_test.columns\n",
    "df_train.columns\n",
    "df_test = df_test[[\"asin\",\"gl\",\"gl_encoded\",\"text\",\"text_encoded\",\"price\"]]\n",
    "df_train = df_train[[\"asin\",\"gl\",\"gl_encoded\",\"text\",\"text_encoded\",\"price\"]]\n",
    "\n"
   ]
  },
  {
   "cell_type": "code",
   "execution_count": 6,
   "metadata": {
    "ExecuteTime": {
     "end_time": "2019-06-28T16:29:15.835468Z",
     "start_time": "2019-06-28T16:29:15.823714Z"
    }
   },
   "outputs": [],
   "source": [
    "\n",
    "with open(\"gl_le.save\", \"rb\") as fobj:\n",
    "    gl_le = dill.load(fobj)\n",
    "    \n",
    "with open(\"le.save\", \"rb\") as fobj:\n",
    "    le = dill.load(fobj)\n",
    "    "
   ]
  },
  {
   "cell_type": "code",
   "execution_count": 7,
   "metadata": {
    "ExecuteTime": {
     "end_time": "2019-06-28T16:30:29.759150Z",
     "start_time": "2019-06-28T16:29:15.839247Z"
    }
   },
   "outputs": [],
   "source": [
    "glove = api.load(\"glove-twitter-50\") \n",
    "ptr_glove = PreTrainedEmbeddingsTransformer(glove,size=50)"
   ]
  },
  {
   "cell_type": "code",
   "execution_count": 8,
   "metadata": {
    "ExecuteTime": {
     "end_time": "2019-06-28T16:30:32.013567Z",
     "start_time": "2019-06-28T16:30:29.761759Z"
    }
   },
   "outputs": [
    {
     "name": "stdout",
     "output_type": "stream",
     "text": [
      "Fasttext Transforms start at: 2019-06-28 22:00:29.764264\n",
      "Number of Unique Test Tokens for Fasttext transform 15756\n"
     ]
    },
    {
     "name": "stderr",
     "output_type": "stream",
     "text": [
      "100%|██████████| 5000/5000 [00:00<00:00, 53360.47it/s]\n"
     ]
    },
    {
     "name": "stdout",
     "output_type": "stream",
     "text": [
      "Fasttext Transforms done at: 2019-06-28 22:00:30.286190\n",
      "Fasttext Transforms start at: 2019-06-28 22:00:30.590054\n",
      "Number of Unique Test Tokens for Fasttext transform 32295\n"
     ]
    },
    {
     "name": "stderr",
     "output_type": "stream",
     "text": [
      "100%|██████████| 20000/20000 [00:00<00:00, 50828.65it/s]\n"
     ]
    },
    {
     "name": "stdout",
     "output_type": "stream",
     "text": [
      "Fasttext Transforms done at: 2019-06-28 22:00:31.728629\n"
     ]
    }
   ],
   "source": [
    "\n",
    "\n",
    "df_test['glove_encoded'] = ptr_glove.transform(df_test['text'].values)\n",
    "df_train['glove_encoded'] = ptr_glove.transform(df_train['text'].values)"
   ]
  },
  {
   "cell_type": "markdown",
   "metadata": {},
   "source": [
    "# Feature Engg\n",
    "\n",
    "- Word Average Price channel (word_prices)\n",
    "- word importance (word_idf)\n",
    "- baseline price of asin based on word (average_word_price)"
   ]
  },
  {
   "cell_type": "code",
   "execution_count": 9,
   "metadata": {
    "ExecuteTime": {
     "end_time": "2019-06-28T16:30:34.397733Z",
     "start_time": "2019-06-28T16:30:32.016153Z"
    }
   },
   "outputs": [],
   "source": [
    "from collections import Counter\n",
    "word_document_occurence_counter = Counter()\n",
    "word_price_dict = dict()\n",
    "doc_count = df_train.shape[0]\n",
    "for word_array,price in df_train[['text',\"price\"]].values:\n",
    "    for word in word_array:\n",
    "        if word in word_price_dict:\n",
    "            word_price_dict[word][\"price\"].append(price)\n",
    "        else:\n",
    "            word_price_dict[word] = {\"price\":[price]}\n",
    "    word_document_occurence_counter.update(set(word_array))\n",
    "            \n",
    "word_price_dict = {k:np.mean(v['price']) for k,v in word_price_dict.items() if k in le['wd'] }\n",
    "word_idf_dict = {k:doc_count/word_document_occurence_counter[k] for k,v in word_price_dict.items() if k in le['wd'] }\n",
    "word_idf_dict = dict(zip(word_idf_dict.keys(),np.log(list(word_idf_dict.values()))))\n",
    "\n",
    "word_price_table = [(k,v,le['wd'][k]) for k,v in word_price_dict.items()]\n",
    "word_price_df = pd.DataFrame(word_price_table,columns=[\"word\",\"avg_price\",\"encoding\"]).sort_values([\"avg_price\"])\n",
    "\n",
    "df_train['word_prices'] = df_train[\"text\"].apply(lambda row:[word_price_dict[w] if w in word_price_dict else 0.0 for w in row])\n",
    "df_train['word_idf'] = df_train[\"text\"].apply(lambda row:[word_idf_dict[w] if w in word_price_dict else 0.0 for w in row ])\n",
    "# df_train['average_word_price'] = df_train.apply(lambda row:np.average(row[\"word_prices\"],weights=row[\"word_idf\"]),axis=1)\n",
    "df_train['average_word_price'] = list(map(lambda x:np.average(x[0],weights=x[1]),zip(df_train['word_prices'].values,df_train['word_idf'].values)))\n",
    "df_test['word_prices'] = df_test[\"text\"].apply(lambda row:[word_price_dict[w] if w in word_price_dict else 0.0 for w in row])\n",
    "df_test['word_idf'] = df_test[\"text\"].apply(lambda row:[word_idf_dict[w] if w in word_price_dict else 0.0  for w in row])\n",
    "# df_test['average_word_price'] = df_test.apply(lambda row:np.average(row[\"word_prices\"],weights=row[\"word_idf\"]),axis=1)\n",
    "\n",
    "df_test['average_word_price'] = list(map(lambda x:np.average(x[0],weights=x[1]),zip(df_test['word_prices'].values,df_test['word_idf'].values)))\n"
   ]
  },
  {
   "cell_type": "code",
   "execution_count": 10,
   "metadata": {
    "ExecuteTime": {
     "end_time": "2019-06-28T16:30:34.438829Z",
     "start_time": "2019-06-28T16:30:34.399259Z"
    }
   },
   "outputs": [],
   "source": [
    "unmatch = [a!=b for a,b in zip(df_train['word_prices'].apply(len),df_train['text'].apply(len))]\n",
    "assert np.sum(unmatch)==0\n",
    "\n",
    "unmatch = [a!=b for a,b in zip(df_train['word_idf'].apply(len),df_train['text'].apply(len))]\n",
    "assert np.sum(unmatch)==0\n"
   ]
  },
  {
   "cell_type": "code",
   "execution_count": 46,
   "metadata": {
    "ExecuteTime": {
     "end_time": "2019-06-27T13:30:40.241607Z",
     "start_time": "2019-06-27T13:30:18.477047Z"
    }
   },
   "outputs": [
    {
     "name": "stdout",
     "output_type": "stream",
     "text": [
      "1.98 s ± 402 ms per loop (mean ± std. dev. of 7 runs, 1 loop each)\n",
      "806 ms ± 156 ms per loop (mean ± std. dev. of 7 runs, 1 loop each)\n"
     ]
    }
   ],
   "source": [
    "%timeit a = np.sum(df_train.apply(lambda row:np.average(row[\"word_prices\"],weights=row[\"word_idf\"]),axis=1))\n",
    "%timeit b = np.sum(list(map(lambda x:np.average(x[0],weights=x[1]),zip(df_train['word_prices'].values,df_train['word_idf'].values))))"
   ]
  },
  {
   "cell_type": "markdown",
   "metadata": {},
   "source": [
    "# Lib"
   ]
  },
  {
   "cell_type": "code",
   "execution_count": 11,
   "metadata": {
    "ExecuteTime": {
     "end_time": "2019-06-28T16:30:34.447251Z",
     "start_time": "2019-06-28T16:30:34.441493Z"
    }
   },
   "outputs": [],
   "source": [
    "def show_results(y_test,y_validation):\n",
    "    mse = mean_squared_error(y_test,y_validation)\n",
    "    mape = mean_absolute_percentage_error(y_test,y_validation)\n",
    "    medape = median_absolute_percentage_error(y_test,y_validation)\n",
    "    print(\"MSE = %.2f, MAPE = %.2f, MEDAPE = %.2f\"%(mse,mape, medape))\n",
    "    return (mse,mape, medape)"
   ]
  },
  {
   "cell_type": "code",
   "execution_count": 12,
   "metadata": {
    "ExecuteTime": {
     "end_time": "2019-06-28T16:30:34.458395Z",
     "start_time": "2019-06-28T16:30:34.452395Z"
    }
   },
   "outputs": [],
   "source": [
    "def mape_error(y_true, y_pred):\n",
    "    diff = K.abs((y_true - y_pred) / K.clip(K.abs(y_true),\n",
    "                                            K.epsilon(),\n",
    "                                            None))\n",
    "    return 100. * K.mean(diff)\n"
   ]
  },
  {
   "cell_type": "code",
   "execution_count": null,
   "metadata": {},
   "outputs": [],
   "source": [
    "def root_mean_squared_log_error(y_true, y_pred):\n",
    "    return K.sqrt(K.mean(K.square(K.log(y_pred+1) - K.log(y_true+1)), axis=-1))"
   ]
  },
  {
   "cell_type": "code",
   "execution_count": 63,
   "metadata": {
    "ExecuteTime": {
     "end_time": "2019-06-28T18:30:10.609270Z",
     "start_time": "2019-06-28T18:30:10.589031Z"
    }
   },
   "outputs": [],
   "source": [
    "class MakeIter(object):\n",
    "    def __init__(self,generator_func,df,length):\n",
    "        self.generator_func = generator_func\n",
    "        self.length = length\n",
    "        self.df = df\n",
    "        self.iter = self.generator_func(self.df)\n",
    "        \n",
    "        \n",
    "    def __iter__(self):\n",
    "        while True:\n",
    "            try:\n",
    "                yield next(self.iter)\n",
    "            except StopIteration:\n",
    "                self.iter = self.generator_func(self.df)\n",
    "            \n",
    "    \n",
    "        \n",
    "    def __len__(self): \n",
    "        return self.length\n",
    "    def __next__(self):\n",
    "        try:\n",
    "            return next(self.iter)\n",
    "        except StopIteration:\n",
    "            self.iter = self.generator_func(self.df)\n",
    "            return next(self.iter)\n",
    "            \n",
    "        \n",
    "    def next(self):\n",
    "        return next(self.iter)\n",
    "    \n",
    "    \n",
    "# RICAP Generator\n",
    "class DataGenerator(object):\n",
    "    def __init__(self, batch_size,maxlen,enable_disambiguation):\n",
    "        self.batch_size = batch_size\n",
    "        self.enable_disambiguation = enable_disambiguation\n",
    "        self.maxlen = maxlen\n",
    "        \n",
    "\n",
    "    def flow_from_directory(self):\n",
    "        raise NotImplementedError()\n",
    "            \n",
    "    def gen_fn_flow(self,df):\n",
    "        for k,g in df.groupby(np.arange(len(df))//self.batch_size):\n",
    "            # Processing\n",
    "            x,x_pt = g['text_encoded'].values,g['glove_encoded'].values\n",
    "            x_gl,y = g['gl_encoded'].values,g['price'].values\n",
    "            gl_stats = g[['gl_mean','gl_min','gl_max']].values\n",
    "            x = sequence.pad_sequences(x, maxlen=self.maxlen)\n",
    "            x_pt = sequence.pad_sequences(x_pt, maxlen=self.maxlen)\n",
    "            X = [x,x_pt,x_gl,gl_stats]\n",
    "            \n",
    "            if not self.enable_disambiguation:\n",
    "                yield X,y\n",
    "            else:\n",
    "                g = g.sample(frac=1)\n",
    "                x,x_pt = g['text_encoded'].values,g['glove_encoded'].values\n",
    "                x_gl,y_2 = g['gl_encoded'].values,g['price'].values\n",
    "                gl_stats = g[['gl_mean','gl_min','gl_max']].values\n",
    "                x = sequence.pad_sequences(x, maxlen=self.maxlen)\n",
    "                x_pt = sequence.pad_sequences(x_pt, maxlen=self.maxlen)\n",
    "                X = X + [x,x_pt,x_gl,gl_stats]\n",
    "                y = [y,y_2,y-y_2]\n",
    "                yield X,y\n",
    "                \n",
    "      \n",
    "    def flow(self,df):\n",
    "        length = int(np.ceil(len(df)/self.batch_size))\n",
    "        return MakeIter(self.gen_fn_flow,df,length)\n",
    "            \n",
    "    def __len__(self): \n",
    "        return self.length\n",
    "      \n",
    "dg = DataGenerator(5,maxlen)\n",
    "itr = dg.flow(df_train.sample(10))\n"
   ]
  },
  {
   "cell_type": "markdown",
   "metadata": {},
   "source": [
    "# Modelling\n",
    "\n",
    "- For Price Difference use mape or rmsle\n",
    "- For Hierarchical categories use custom hierarchy for Level 1 and logspace/linspace the Level 2\n",
    "- For Hierarchical prediction we only predict for 1st Asin\n",
    "- For making price difference we use generator and randomly pair examples within same batch.\n",
    "    - We ensure that the generator after each epoch is randomly shuffled\n",
    "    - We may be able to use ImageDataGenerator, though it allows only one X,y pair\n",
    "    \n",
    "- For MAPE error if error below x% APE then ignore, so that model can focus on high error samples."
   ]
  },
  {
   "cell_type": "code",
   "execution_count": 65,
   "metadata": {
    "ExecuteTime": {
     "end_time": "2019-06-28T18:37:58.675012Z",
     "start_time": "2019-06-28T18:37:58.665898Z"
    }
   },
   "outputs": [],
   "source": [
    "def asin_embedder_layer(inputs):\n",
    "    main_input = inputs[0]\n",
    "    pretrained_embedding_input = inputs[1]\n",
    "    auxiliary_input =  inputs[2]\n",
    "    gl_stats_input =  inputs[3]\n",
    "    \n",
    "    \n",
    "\n",
    "    embedding = Embedding(max_features,\n",
    "                        embedding_dims,\n",
    "                        input_length=maxlen,\n",
    "                        name=\"Text_Embedding\")(main_input)\n",
    "\n",
    "    xf = concatenate([embedding,pretrained_embedding_input])\n",
    "    xf = conv_layer(xf,n_kernels=64,kernel_size=3,padding='valid')\n",
    "    xf = GlobalAveragePooling1D()(xf)\n",
    "\n",
    "\n",
    "    x = Conv1D(filters,\n",
    "                     kernel_size,\n",
    "                     padding='valid',\n",
    "                     activation='relu',\n",
    "                     strides=1)(embedding)\n",
    "    x = SpatialDropout1D(0.05)(x)\n",
    "    x = GlobalMaxPooling1D()(x)\n",
    "    aux = Embedding(len(gl_le.classes_),\n",
    "                        8,\n",
    "                        input_length=1,\n",
    "                        name=\"GL_embedding\")(auxiliary_input)\n",
    "    aux = Flatten()(aux)\n",
    "    aux = Dropout(0.05)(aux)\n",
    "    K.int_shape(xf)\n",
    "\n",
    "    gl_inputs = BatchNormalization()(gl_stats_input)\n",
    "\n",
    "    gl_inputs = concatenate([gl_inputs,aux])\n",
    "    gl_inputs = Dense(8)(gl_inputs)\n",
    "    K.int_shape(xf)\n",
    "    x = concatenate([xf,x,gl_inputs])\n",
    "\n",
    "    # We add a vanilla hidden layer:\n",
    "    x = Dense(hidden_dims)(x)\n",
    "    x = Activation('relu')(x)\n",
    "    \n",
    "    return x"
   ]
  },
  {
   "cell_type": "code",
   "execution_count": 85,
   "metadata": {
    "ExecuteTime": {
     "end_time": "2019-06-28T19:40:28.457288Z",
     "start_time": "2019-06-28T19:40:28.395390Z"
    }
   },
   "outputs": [],
   "source": [
    "# set parameters:\n",
    "max_features = 100000\n",
    "maxlen = 100\n",
    "batch_size = 256\n",
    "embedding_dims = 50\n",
    "pretrained_dims = 50\n",
    "filters = 256\n",
    "kernel_size = 3\n",
    "hidden_dims = 256\n",
    "\n",
    "\n",
    "enable_disambiguation = False\n",
    "enable_classification = True\n",
    "enable_hierarchical_classification = True\n",
    "\n",
    "y_train = df_train['price'].values\n",
    "y_test = df_test['price'].values\n",
    "\n",
    "train_gl_stats = df_train.groupby([\"gl\"])[\"price\"].agg(['mean','min','max']).reset_index()\n",
    "validation_gl_stats = df_test[[\"gl\"]].merge(train_gl_stats,on=\"gl\",how=\"left\")\n",
    "validation_gl_stats = validation_gl_stats.fillna(validation_gl_stats.mean())\n",
    "df_test[['gl_mean','gl_min','gl_max']] = validation_gl_stats[['mean','min','max']]\n",
    "\n",
    "train_gl_stats = df_train[[\"gl\"]].merge(train_gl_stats,on=\"gl\",how=\"left\")\n",
    "df_train[['gl_mean','gl_min','gl_max']] = train_gl_stats[['mean','min','max']]\n"
   ]
  },
  {
   "cell_type": "code",
   "execution_count": 86,
   "metadata": {
    "ExecuteTime": {
     "end_time": "2019-06-28T19:40:38.447901Z",
     "start_time": "2019-06-28T19:40:36.343712Z"
    }
   },
   "outputs": [],
   "source": [
    "\n",
    "text_input = Input(shape=(maxlen,), dtype='int32')\n",
    "pretrained_embedding_input = Input(shape=(maxlen,pretrained_dims), dtype='float32')\n",
    "gle_input =  Input(shape=(1,), dtype='int32')\n",
    "gl_stats_input =  Input(shape=(3,), dtype='float32')\n",
    "asin_embedder = Lambda(asin_embedder_layer)\n",
    "embeddings_1 = asin_embedder([text_input,pretrained_embedding_input,gle_input,gl_stats_input])\n",
    "x1 = Dense(64)(embeddings_1)\n",
    "x1 = Activation('relu')(x1)\n",
    "price_1 = Dense(1)(x1)\n",
    "\n",
    "if enable_disambiguation:\n",
    "    text_input_2 = Input(shape=(maxlen,), dtype='int32')\n",
    "    pretrained_embedding_input_2 = Input(shape=(maxlen,pretrained_dims), dtype='float32')\n",
    "    gle_input_2 =  Input(shape=(1,), dtype='int32')\n",
    "    gl_stats_input_2 =  Input(shape=(3,), dtype='float32')\n",
    "    embeddings_2 = asin_embedder([text_input_2,pretrained_embedding_input_2,gle_input_2,gl_stats_input_2])\n",
    "    x2 = Dense(64)(embeddings_2)\n",
    "    x2 = Activation('relu')(x2)\n",
    "    price_2 = Dense(1)(x2)\n",
    "    \n",
    "    diff = concatenate([embeddings_1,embeddings_2])\n",
    "    diff = Dense(64)(diff)\n",
    "    diff = Activation('relu')(diff)\n",
    "    diff = Dense(1)(diff)\n",
    "    model = Model(inputs=[text_input,pretrained_embedding_input, gle_input, gl_stats_input,\n",
    "                         text_input_2,pretrained_embedding_input_2, gle_input_2, gl_stats_input_2], \n",
    "                  outputs=[price_1,price_2,diff])\n",
    "\n",
    "    model.compile(loss=[mape_error,mape_error,mape_error],\n",
    "                  optimizer='adam',\n",
    "                  metrics=[mape_error],loss_weights=[1., 1., 0.1])\n",
    "    price_model = Model(inputs=[text_input,pretrained_embedding_input, gle_input, gl_stats_input], \n",
    "                  outputs=[price_1])\n",
    "    \n",
    "else:\n",
    "    model = Model(inputs=[text_input,pretrained_embedding_input, gle_input, gl_stats_input], \n",
    "                  outputs=[price_1])\n",
    "\n",
    "    model.compile(loss=[mape_error],\n",
    "                  optimizer='adam',\n",
    "                  metrics=[mape_error],)\n",
    "    price_model = model"
   ]
  },
  {
   "cell_type": "code",
   "execution_count": 87,
   "metadata": {
    "ExecuteTime": {
     "end_time": "2019-06-28T19:41:34.105294Z",
     "start_time": "2019-06-28T19:40:42.817043Z"
    }
   },
   "outputs": [
    {
     "name": "stdout",
     "output_type": "stream",
     "text": [
      "Param count =  16513\n",
      "Epoch 1/5\n",
      "79/79 [==============================] - 11s 138ms/step - loss: 381343.0859 - mape_error: 381343.0688 - val_loss: 17087123163.1589 - val_mape_error: 17087122743.7284\n",
      " - lr: 0.00208 \n",
      "Epoch 2/5\n",
      "79/79 [==============================] - 10s 126ms/step - loss: 285393.4850 - mape_error: 285393.4848 - val_loss: 44743297556.5576 - val_mape_error: 44743300492.5707\n",
      " - lr: 0.00398 \n",
      "Epoch 3/5\n",
      "79/79 [==============================] - 9s 116ms/step - loss: 188946.2526 - mape_error: 188946.2689 - val_loss: 67204849162.9101 - val_mape_error: 67204848324.0499\n",
      " - lr: 0.00212 \n",
      "Epoch 4/5\n",
      "79/79 [==============================] - 9s 118ms/step - loss: 98870.8772 - mape_error: 98870.8861 - val_loss: 76708644065.9618 - val_mape_error: 76708645324.2526\n",
      " - lr: 0.00022 \n",
      "Epoch 5/5\n",
      "79/79 [==============================] - 10s 130ms/step - loss: 57824.6934 - mape_error: 57824.6892 - val_loss: 77555184912.3875 - val_mape_error: 77555188058.1152\n",
      " - lr: 0.00000 \n",
      "Layer Names:  ['input_25', 'input_26', 'input_27', 'input_28', 'lambda_6', 'dense_66', 'activation_33', 'dense_67']\n"
     ]
    }
   ],
   "source": [
    "print(\"Param count = \", model.count_params())\n",
    "datagen = DataGenerator(batch_size=batch_size,maxlen=maxlen,enable_disambiguation=enable_disambiguation)\n",
    "datagen_validation = DataGenerator(batch_size=batch_size,maxlen=maxlen,enable_disambiguation=enable_disambiguation)\n",
    "\n",
    "train_iterator = datagen.flow(df_train)\n",
    "validation_iterator = datagen_validation.flow(df_test)\n",
    "\n",
    "# clr = CyclicLR(base_lr=0.0001, max_lr=0.005,step_size=800, mode='triangular2')\n",
    "lr_manager = OneCycleLR(samples=df_train.shape[0], epochs=5, batch_size=batch_size,\n",
    "                        steps=len(train_iterator), max_lr=0.001,\n",
    "                        end_percentage=0.2, scale_percentage=None,\n",
    "                        maximum_momentum=None, minimum_momentum=None)\n",
    "\n",
    "callbacks_list = [lr_manager]\n",
    "train_history = model.fit_generator(train_iterator,\n",
    "                    steps_per_epoch=len(train_iterator), \n",
    "                    validation_data = validation_iterator, \n",
    "                    validation_steps = len(validation_iterator),\n",
    "                    epochs=5, verbose=1,\n",
    "                    callbacks=callbacks_list,)\n",
    "\n",
    "print(\"Layer Names: \",[layer.name for layer in model.layers[0:]])\n"
   ]
  },
  {
   "cell_type": "code",
   "execution_count": 89,
   "metadata": {
    "ExecuteTime": {
     "end_time": "2019-06-28T19:42:17.693925Z",
     "start_time": "2019-06-28T19:42:17.687982Z"
    }
   },
   "outputs": [],
   "source": [
    "if enable_disambiguation:\n",
    "    iterator = datagen.flow(df_train)\n",
    "    y_train_pred = model.predict_generator(iterator,steps=len(iterator))[0]\n",
    "\n",
    "    iterator = datagen_validation.flow(df_test)\n",
    "    y_test_pred = model.predict_generator(iterator,steps=len(iterator))[0]\n",
    "\n",
    "    show_results(y_train,y_train_pred.reshape((-1)));\n",
    "    show_results(y_test,y_test_pred.reshape((-1)));\n",
    "\n",
    "# MSE = 4991136695.91, MAPE = 25227024.37, MEDAPE = 3436.39\n",
    "# MSE = 4850742216.40, MAPE = 23047078.85, MEDAPE = 3524.33"
   ]
  },
  {
   "cell_type": "code",
   "execution_count": 90,
   "metadata": {
    "ExecuteTime": {
     "end_time": "2019-06-28T19:42:26.404342Z",
     "start_time": "2019-06-28T19:42:18.858190Z"
    }
   },
   "outputs": [
    {
     "name": "stdout",
     "output_type": "stream",
     "text": [
      "MSE = 55320681613.32, MAPE = 84926693.14, MEDAPE = 11868.71\n",
      "MSE = 53663748591.80, MAPE = 77587527.60, MEDAPE = 12134.06\n"
     ]
    }
   ],
   "source": [
    "datagen = DataGenerator(batch_size=batch_size,maxlen=maxlen,enable_disambiguation=False)\n",
    "datagen_validation = DataGenerator(batch_size=batch_size,maxlen=maxlen,enable_disambiguation=False)\n",
    "\n",
    "\n",
    "iterator = datagen.flow(df_train)\n",
    "y_train_pred = price_model.predict_generator(iterator,steps=len(iterator))\n",
    "\n",
    "iterator = datagen_validation.flow(df_test)\n",
    "y_test_pred = price_model.predict_generator(iterator,steps=len(iterator))\n",
    "\n",
    "show_results(y_train,y_train_pred.reshape((-1)));\n",
    "show_results(y_test,y_test_pred.reshape((-1)));"
   ]
  },
  {
   "cell_type": "code",
   "execution_count": 303,
   "metadata": {},
   "outputs": [],
   "source": [
    "from keras.models import load_model\n",
    "model.save('model.h5')\n"
   ]
  },
  {
   "cell_type": "code",
   "execution_count": 10,
   "metadata": {},
   "outputs": [],
   "source": [
    "from keras.models import load_model\n",
    "model = load_model('model.h5',custom_objects={'mape_error': mape_error})"
   ]
  },
  {
   "cell_type": "markdown",
   "metadata": {},
   "source": [
    "# Inspecting the Model"
   ]
  },
  {
   "cell_type": "markdown",
   "metadata": {},
   "source": [
    "## Model Image representation"
   ]
  },
  {
   "cell_type": "code",
   "execution_count": 93,
   "metadata": {
    "ExecuteTime": {
     "end_time": "2019-06-28T19:43:38.069551Z",
     "start_time": "2019-06-28T19:43:37.805738Z"
    }
   },
   "outputs": [],
   "source": [
    "!rm -rf model-research.png\n",
    "from keras.utils import plot_model\n",
    "plot_model(model, to_file='model-research.png')\n"
   ]
  },
  {
   "cell_type": "markdown",
   "metadata": {},
   "source": [
    "\n",
    "<img src=\"model-research.png?modified=12365678\" width=\"800\" />"
   ]
  },
  {
   "cell_type": "code",
   "execution_count": null,
   "metadata": {},
   "outputs": [],
   "source": []
  },
  {
   "cell_type": "markdown",
   "metadata": {},
   "source": [
    "## Error Inspection\n",
    "- Error Distribution\n",
    "- Actual Price vs Predicted Price Plot\n",
    "\n",
    "[Reference](https://www.qualtrics.com/support/stats-iq/analyses/regression-guides/interpreting-residual-plots-improve-regression/)"
   ]
  },
  {
   "cell_type": "code",
   "execution_count": 203,
   "metadata": {},
   "outputs": [],
   "source": [
    "df_preds = pd.DataFrame({\"actual\":y_test,\"prediction\":y_validation.reshape((-1)),\n",
    "                         \"TITLE\":df_train_split_2[\"TITLE\"],\"BULLET_POINTS\":df_train_split_2[\"BULLET_POINTS\"],\"GL\":df_train_split_2[\"GL\"]})\n",
    "df_preds['ape'] = 100*np.abs(df_preds['actual'] - df_preds['prediction'])/np.clip(np.abs(df_preds['actual']),1e-3,None)\n",
    "df_preds['error'] = df_preds['prediction'] - df_preds['actual']\n",
    "\n"
   ]
  },
  {
   "cell_type": "code",
   "execution_count": 246,
   "metadata": {},
   "outputs": [
    {
     "data": {
      "text/plain": [
       "count    289922.000000\n",
       "mean       -520.006871\n",
       "std        4295.906179\n",
       "min     -974357.248613\n",
       "25%        -264.789635\n",
       "50%         -51.106886\n",
       "75%          24.995694\n",
       "max        4153.449866\n",
       "Name: error, dtype: float64"
      ]
     },
     "execution_count": 246,
     "metadata": {},
     "output_type": "execute_result"
    }
   ],
   "source": [
    "df_preds['error'].describe()"
   ]
  },
  {
   "cell_type": "code",
   "execution_count": 226,
   "metadata": {},
   "outputs": [
    {
     "data": {
      "text/plain": [
       "<matplotlib.axes._subplots.AxesSubplot at 0x7f89b9999c18>"
      ]
     },
     "execution_count": 226,
     "metadata": {},
     "output_type": "execute_result"
    },
    {
     "data": {
      "image/png": "[encoded data removed]",
      "text/plain": [
       "<Figure size 576x576 with 1 Axes>"
      ]
     },
     "metadata": {
      "image/png": {
       "height": 481,
       "width": 528
      }
     },
     "output_type": "display_data"
    }
   ],
   "source": [
    "fig = plt.figure(figsize=(8,8));\n",
    "ax = fig.add_subplot(1, 1, 1)\n",
    "data = df_preds[(df_preds[\"prediction\"]>=1000)&(df_preds[\"prediction\"]<=20000)]\n",
    "sns.regplot(x='prediction',y='error',data=data.sample(1000),ax=ax)"
   ]
  },
  {
   "cell_type": "code",
   "execution_count": 257,
   "metadata": {},
   "outputs": [
    {
     "name": "stdout",
     "output_type": "stream",
     "text": [
      "(1000.0, 9276.310546875)\n"
     ]
    },
    {
     "data": {
      "image/png": "[encoded data removed]",
      "text/plain": [
       "<Figure size 576x576 with 1 Axes>"
      ]
     },
     "metadata": {
      "image/png": {
       "height": 494,
       "width": 508
      }
     },
     "output_type": "display_data"
    }
   ],
   "source": [
    "def actual_vs_other_column(column,actual_range):\n",
    "\n",
    "    fig = plt.figure(figsize=(8,8));\n",
    "    ax = fig.add_subplot(1, 1, 1)\n",
    "    ax.set_title(\"%s vs Actual Price\"%(column))\n",
    "    rng = actual_range\n",
    "    data = df_preds[(df_preds[\"actual\"]>=rng[0])&(df_preds[\"actual\"]<=rng[1])]\n",
    "    plot_range = (data[['actual',column]].min().max(),data[['actual',column]].max().min())\n",
    "    print(plot_range)\n",
    "    sns.regplot(x=\"actual\", y=column, data=data.sample(1000), color=\"b\", ax = ax,fit_reg=True);\n",
    "    plt.xlim(plot_range)\n",
    "    plt.ylim(plot_range)\n",
    "    plt.show()\n",
    "actual_vs_other_column('prediction',(1000,10000))"
   ]
  },
  {
   "cell_type": "code",
   "execution_count": 311,
   "metadata": {},
   "outputs": [
    {
     "data": {
      "text/html": [
       "<div>\n",
       "<style scoped>\n",
       "    .dataframe tbody tr th:only-of-type {\n",
       "        vertical-align: middle;\n",
       "    }\n",
       "\n",
       "    .dataframe tbody tr th {\n",
       "        vertical-align: top;\n",
       "    }\n",
       "\n",
       "    .dataframe thead tr th {\n",
       "        text-align: left;\n",
       "    }\n",
       "\n",
       "    .dataframe thead tr:last-of-type th {\n",
       "        text-align: right;\n",
       "    }\n",
       "</style>\n",
       "<table border=\"1\" class=\"dataframe\">\n",
       "  <thead>\n",
       "    <tr>\n",
       "      <th></th>\n",
       "      <th>actual</th>\n",
       "      <th>prediction</th>\n",
       "    </tr>\n",
       "    <tr>\n",
       "      <th></th>\n",
       "      <th>mean</th>\n",
       "      <th>mean</th>\n",
       "    </tr>\n",
       "    <tr>\n",
       "      <th>GL</th>\n",
       "      <th></th>\n",
       "      <th></th>\n",
       "    </tr>\n",
       "  </thead>\n",
       "  <tbody>\n",
       "    <tr>\n",
       "      <th>gl_musical_instruments</th>\n",
       "      <td>5171.146724</td>\n",
       "      <td>715.133362</td>\n",
       "    </tr>\n",
       "    <tr>\n",
       "      <th>gl_value_added_services</th>\n",
       "      <td>635.590000</td>\n",
       "      <td>367.704071</td>\n",
       "    </tr>\n",
       "    <tr>\n",
       "      <th>gl_sports_memorabilia</th>\n",
       "      <td>603.917278</td>\n",
       "      <td>402.404510</td>\n",
       "    </tr>\n",
       "    <tr>\n",
       "      <th>gl_jewelry</th>\n",
       "      <td>1297.509825</td>\n",
       "      <td>490.066193</td>\n",
       "    </tr>\n",
       "    <tr>\n",
       "      <th>gl_luxury_beauty</th>\n",
       "      <td>2306.180791</td>\n",
       "      <td>1297.581177</td>\n",
       "    </tr>\n",
       "    <tr>\n",
       "      <th>gl_grocery</th>\n",
       "      <td>471.721328</td>\n",
       "      <td>244.410095</td>\n",
       "    </tr>\n",
       "    <tr>\n",
       "      <th>gl_sdp_misc</th>\n",
       "      <td>2222.804594</td>\n",
       "      <td>497.403198</td>\n",
       "    </tr>\n",
       "    <tr>\n",
       "      <th>gl_toy</th>\n",
       "      <td>1230.344672</td>\n",
       "      <td>463.639679</td>\n",
       "    </tr>\n",
       "    <tr>\n",
       "      <th>gl_arts_collectibles</th>\n",
       "      <td>1850.000000</td>\n",
       "      <td>697.336304</td>\n",
       "    </tr>\n",
       "    <tr>\n",
       "      <th>gl_dvd</th>\n",
       "      <td>659.485837</td>\n",
       "      <td>272.755157</td>\n",
       "    </tr>\n",
       "  </tbody>\n",
       "</table>\n",
       "</div>"
      ],
      "text/plain": [
       "                              actual   prediction\n",
       "                                mean         mean\n",
       "GL                                               \n",
       "gl_musical_instruments   5171.146724   715.133362\n",
       "gl_value_added_services   635.590000   367.704071\n",
       "gl_sports_memorabilia     603.917278   402.404510\n",
       "gl_jewelry               1297.509825   490.066193\n",
       "gl_luxury_beauty         2306.180791  1297.581177\n",
       "gl_grocery                471.721328   244.410095\n",
       "gl_sdp_misc              2222.804594   497.403198\n",
       "gl_toy                   1230.344672   463.639679\n",
       "gl_arts_collectibles     1850.000000   697.336304\n",
       "gl_dvd                    659.485837   272.755157"
      ]
     },
     "execution_count": 311,
     "metadata": {},
     "output_type": "execute_result"
    }
   ],
   "source": [
    "df_preds.groupby([\"GL\"])[[\"actual\",\"prediction\"]].agg(['mean']).sample(10)"
   ]
  },
  {
   "cell_type": "markdown",
   "metadata": {},
   "source": [
    "# Observations and Suggestion for Improvements"
   ]
  },
  {
   "cell_type": "markdown",
   "metadata": {},
   "source": [
    "## Observations"
   ]
  },
  {
   "cell_type": "markdown",
   "metadata": {},
   "source": [
    "- Combining Pretrained embeddings with Trained Embeddings helped.\n",
    "- Resnet Architecture Skip Connections boost performance (Vanishing Gradients).\n",
    "- Saving Intermediate preprocessing steps helped in gaining speed.\n",
    "- P3.8x Large Sagemaker Instance has multi-gpu (8 total), this needs separate Tensorflow sessions, I used separate notebooks\n",
    "- Normalizing word vectors for Pretrained model was lowering performance, word vector lengths matter when you consider Text classification tasks, for NLP tasks like similarity they don't since cosine distance is used.\n",
    "- The Process of using Word CNNs is easily carried over to Sub-categories Classification\n",
    "- Why Ensembling Did not work?\n",
    "    - Models with dropouts are like ensembles themselves\n",
    "    - Only significant architecture or preprocessing step difference will help\n",
    "- Why Char CNN did not work?\n",
    "    - Long training time and huge number of computations\n",
    "- Think about using a Non CNN deep network.\n",
    "    - Process 1: Tf-Idf: 50k words -> 256x256 inner layer: 13 Million Params, No concept of sequence of words\n",
    "    - Average Pretrained embeddings (300x256 + 256x256)= 140k params, No concept of sequence of words (Haven't tried)\n",
    "    - LSTM/RNN: May perform better since handles sequences.\n"
   ]
  },
  {
   "cell_type": "markdown",
   "metadata": {},
   "source": [
    "## Improvements"
   ]
  },
  {
   "cell_type": "markdown",
   "metadata": {},
   "source": [
    "- **Improving Word Embeddings**\n",
    "    - Use Bigger Vocab (I trimmed at 50k to keep computational cost down)\n",
    "    - Fasttext or Bert/Elmo Models for text representation.\n",
    "    - Try word-prices as additional input sequence.\n",
    "- **Target Variable**\n",
    "    - Training with Log/CubeRoot/Standard Scaling of target since target is skewed.\n",
    "    - Bucketing/Quantizing: Dividing prices into cube-rooted buckets and then feeding the top 10 bucket prediction to final model.\n",
    "\n",
    "- **Other Suggestions**\n",
    "    - Inspecting Errors and finding text patterns we missed\n",
    "    "
   ]
  },
  {
   "cell_type": "code",
   "execution_count": 305,
   "metadata": {},
   "outputs": [],
   "source": [
    "# Competition Architecture\n",
    "# ======== Using MSE as the Error Fn ==========\n",
    "# MSE = 14706004.62, MAPE = 77.08, MEDAPE = 48.70\n",
    "# MSE = 14646295.58, MAPE = 84.37, MEDAPE = 44.54\n",
    "# MSE = 14438024.00, MAPE = 88.92, MEDAPE = 46.23\n",
    "\n",
    "# ======= Using MAPE as the Error Fn ==========\n",
    "# MSE = 19208402.34, MAPE = 35.03, MEDAPE = 27.54\n",
    "# MSE = 19170641.31, MAPE = 34.86, MEDAPE = 27.29"
   ]
  }
 ],
 "metadata": {
  "kernelspec": {
   "display_name": "Python 3",
   "language": "python",
   "name": "python3"
  },
  "language_info": {
   "codemirror_mode": {
    "name": "ipython",
    "version": 3
   },
   "file_extension": ".py",
   "mimetype": "text/x-python",
   "name": "python",
   "nbconvert_exporter": "python",
   "pygments_lexer": "ipython3",
   "version": "3.7.3"
  },
  "toc": {
   "base_numbering": 1,
   "nav_menu": {},
   "number_sections": true,
   "sideBar": true,
   "skip_h1_title": false,
   "title_cell": "Table of Contents",
   "title_sidebar": "Contents",
   "toc_cell": false,
   "toc_position": {
    "height": "calc(100% - 180px)",
    "left": "10px",
    "top": "150px",
    "width": "288px"
   },
   "toc_section_display": true,
   "toc_window_display": true
  }
 },
 "nbformat": 4,
 "nbformat_minor": 2
}
