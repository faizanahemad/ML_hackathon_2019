{
 "cells": [
  {
   "cell_type": "markdown",
   "metadata": {},
   "source": [
    "# Imports and Reading Data"
   ]
  },
  {
   "cell_type": "code",
   "execution_count": 2,
   "metadata": {
    "ExecuteTime": {
     "end_time": "2019-06-29T18:50:59.051959Z",
     "start_time": "2019-06-29T18:50:58.963709Z"
    }
   },
   "outputs": [
    {
     "data": {
      "text/plain": [
       "<module 'lib_research' from '/home/ec2-user/SageMaker/ML_hackathon_2019/lib_research.py'>"
      ]
     },
     "execution_count": 2,
     "metadata": {},
     "output_type": "execute_result"
    },
    {
     "data": {
      "text/plain": [
       "<module 'data_science_utils.models' from '/home/ec2-user/anaconda3/envs/tensorflow_p36/lib/python3.6/site-packages/data_science_utils/models/__init__.py'>"
      ]
     },
     "execution_count": 2,
     "metadata": {},
     "output_type": "execute_result"
    }
   ],
   "source": [
    "from keras import backend as K\n",
    "import time\n",
    "import matplotlib.pyplot as plt\n",
    "import numpy as np_utils\n",
    "%matplotlib inline\n",
    "from keras.models import Sequential\n",
    "from keras.layers.convolutional import Convolution2D, MaxPooling2D, DepthwiseConv2D, Conv2D, SeparableConv2D, MaxPooling1D, AveragePooling1D\n",
    "from keras.layers import Input, concatenate, LeakyReLU\n",
    "import gensim.downloader as api\n",
    "from sklearn.model_selection import train_test_split\n",
    "from keras.layers import Activation, Flatten, Dense, Dropout, SpatialDropout1D\n",
    "from keras.layers.normalization import BatchNormalization\n",
    "from keras.layers.pooling import GlobalAveragePooling2D\n",
    "from keras.utils import np_utils\n",
    "from keras.preprocessing.image import ImageDataGenerator\n",
    "from keras.optimizers import SGD, Nadam, Adam\n",
    "from keras.preprocessing.image import ImageDataGenerator\n",
    "from keras.callbacks import EarlyStopping, ModelCheckpoint, ReduceLROnPlateau, LearningRateScheduler\n",
    "from keras.regularizers import l2\n",
    "%config InlineBackend.figure_format='retina'\n",
    "from keras_contrib.callbacks import CyclicLR\n",
    "from keras.models import Model\n",
    "from keras.layers import Conv1D, GlobalMaxPooling1D, GlobalAveragePooling1D\n",
    "from data_science_utils.vision.keras import *\n",
    "from time import time\n",
    "import pandas as pd\n",
    "import numpy as np\n",
    "\n",
    "from IPython.core.interactiveshell import InteractiveShell\n",
    "InteractiveShell.ast_node_interactivity = \"all\"\n",
    "import missingno as msno\n",
    "import re\n",
    "from joblib import Parallel, delayed\n",
    "from data_science_utils import dataframe as df_utils\n",
    "from data_science_utils import models as model_utils\n",
    "from data_science_utils import plots as plot_utils\n",
    "from data_science_utils.dataframe import column as column_utils\n",
    "from data_science_utils import misc as misc\n",
    "from data_science_utils import preprocessing as pp_utils\n",
    "from data_science_utils import nlp as nlp_utils\n",
    "\n",
    "from keras.preprocessing import sequence\n",
    "from keras.models import Sequential\n",
    "from keras.layers import Dense, Dropout, Activation\n",
    "from keras.layers import Embedding\n",
    "from keras.layers import Conv1D, GlobalMaxPooling1D\n",
    "from keras.datasets import imdb\n",
    "from sklearn.preprocessing import StandardScaler\n",
    "from sklearn.impute import SimpleImputer\n",
    "from data_science_utils.dataframe import get_specific_cols\n",
    "from random import sample\n",
    "\n",
    "import more_itertools\n",
    "from more_itertools import flatten\n",
    "import ast\n",
    "from sklearn.preprocessing import LabelEncoder\n",
    "\n",
    "import gc\n",
    "from sklearn.decomposition import PCA\n",
    "\n",
    "import sys\n",
    "import os\n",
    "sys.path.append(os.getcwd())\n",
    "from importlib import reload\n",
    "import lib_research\n",
    "reload(lib_research)\n",
    "from lib_research import *\n",
    "\n",
    "import warnings\n",
    "warnings.filterwarnings('ignore')\n",
    "\n",
    "reload(model_utils)\n",
    "from data_science_utils.models import mean_absolute_percentage_error\n",
    "from data_science_utils.models import median_absolute_percentage_error\n",
    "from sklearn.metrics import mean_squared_error\n",
    "import seaborn as sns\n",
    "from more_itertools import flatten\n",
    "import dill\n",
    "from collections import Counter\n",
    "import operator\n",
    "\n",
    "from gensim.test.utils import datapath\n",
    "from gensim.utils import tokenize\n",
    "from gensim.models.fasttext import load_facebook_model\n"
   ]
  },
  {
   "cell_type": "code",
   "execution_count": 5,
   "metadata": {},
   "outputs": [],
   "source": [
    "\n",
    "crawl = datapath(os.getcwd()+\"/crawl-300d-2M-subword.bin\")\n",
    "fb_model = load_facebook_model(crawl)"
   ]
  },
  {
   "cell_type": "code",
   "execution_count": 28,
   "metadata": {},
   "outputs": [],
   "source": [
    "df = pd.read_csv(\"price_prediction/india-asins.csv\",sep='\\t',header=None,names=[\"asin\",\"price\",\"gl\",\"text_raw\"])\n",
    "\n",
    "df_utils.drop_columns_safely(df,[\"asin\",\"gl\"],inplace=True)"
   ]
  },
  {
   "cell_type": "code",
   "execution_count": 29,
   "metadata": {},
   "outputs": [
    {
     "data": {
      "text/html": [
       "<div>\n",
       "<style scoped>\n",
       "    .dataframe tbody tr th:only-of-type {\n",
       "        vertical-align: middle;\n",
       "    }\n",
       "\n",
       "    .dataframe tbody tr th {\n",
       "        vertical-align: top;\n",
       "    }\n",
       "\n",
       "    .dataframe thead th {\n",
       "        text-align: right;\n",
       "    }\n",
       "</style>\n",
       "<table border=\"1\" class=\"dataframe\">\n",
       "  <thead>\n",
       "    <tr style=\"text-align: right;\">\n",
       "      <th></th>\n",
       "      <th>price</th>\n",
       "      <th>text_raw</th>\n",
       "    </tr>\n",
       "  </thead>\n",
       "  <tbody>\n",
       "    <tr>\n",
       "      <th>0</th>\n",
       "      <td>157.71</td>\n",
       "      <td>book an easy way to ksr</td>\n",
       "    </tr>\n",
       "    <tr>\n",
       "      <th>1</th>\n",
       "      <td>123.18</td>\n",
       "      <td>book lectures on contract 1  general principle...</td>\n",
       "    </tr>\n",
       "    <tr>\n",
       "      <th>2</th>\n",
       "      <td>69.00</td>\n",
       "      <td>book bangaru kalalu</td>\n",
       "    </tr>\n",
       "    <tr>\n",
       "      <th>3</th>\n",
       "      <td>7660.62</td>\n",
       "      <td>book mbbs first year textbook sets  14 books s...</td>\n",
       "    </tr>\n",
       "    <tr>\n",
       "      <th>4</th>\n",
       "      <td>247.04</td>\n",
       "      <td>book e cet   2018  electrical   electronics en...</td>\n",
       "    </tr>\n",
       "  </tbody>\n",
       "</table>\n",
       "</div>"
      ],
      "text/plain": [
       "     price                                           text_raw\n",
       "0   157.71                       book an easy way to ksr     \n",
       "1   123.18  book lectures on contract 1  general principle...\n",
       "2    69.00                           book bangaru kalalu     \n",
       "3  7660.62  book mbbs first year textbook sets  14 books s...\n",
       "4   247.04  book e cet   2018  electrical   electronics en..."
      ]
     },
     "execution_count": 29,
     "metadata": {},
     "output_type": "execute_result"
    }
   ],
   "source": [
    "df.head()"
   ]
  },
  {
   "cell_type": "code",
   "execution_count": 30,
   "metadata": {},
   "outputs": [
    {
     "data": {
      "text/plain": [
       "(4305099, 2)"
      ]
     },
     "execution_count": 30,
     "metadata": {},
     "output_type": "execute_result"
    }
   ],
   "source": [
    "df.shape"
   ]
  },
  {
   "cell_type": "code",
   "execution_count": 31,
   "metadata": {},
   "outputs": [
    {
     "data": {
      "text/plain": [
       "(217629, 2)"
      ]
     },
     "execution_count": 31,
     "metadata": {},
     "output_type": "execute_result"
    }
   ],
   "source": [
    "df[df.price<100].shape"
   ]
  },
  {
   "cell_type": "code",
   "execution_count": 32,
   "metadata": {},
   "outputs": [],
   "source": [
    "def log_base_n(arr,base):\n",
    "    return np.log(arr) / np.log(base)"
   ]
  },
  {
   "cell_type": "code",
   "execution_count": 33,
   "metadata": {},
   "outputs": [],
   "source": [
    "df[\"log_1\"] = np.ceil(log_base_n(df.price+1,1.25)).astype(int)\n",
    "df[\"log_2\"] = np.ceil(np.log2(df.price+1)).astype(int)\n",
    "df[\"log_3\"] = np.ceil(np.log10(df.price+1)).astype(int)\n",
    "df[\"sqrt\"] = np.ceil(np.sqrt(df.price)).astype(int)\n",
    "df[\"cbrt\"] = np.ceil(np.cbrt(df.price)).astype(int)"
   ]
  },
  {
   "cell_type": "code",
   "execution_count": 38,
   "metadata": {},
   "outputs": [],
   "source": [
    "df[\"log_1\"] = df[\"log_1\"].astype(str)\n",
    "df[\"log_2\"] = df[\"log_2\"].astype(str)\n",
    "df[\"log_3\"] = df[\"log_3\"].astype(str)\n",
    "df[\"sqrt\"] = df[\"sqrt\"].astype(str)\n",
    "df[\"cbrt\"] = df[\"cbrt\"].astype(str)"
   ]
  },
  {
   "cell_type": "code",
   "execution_count": 41,
   "metadata": {},
   "outputs": [],
   "source": [
    "df[\"log_1\"] = \"_L@O#G_1_\" + df[\"log_1\"]\n",
    "df[\"log_2\"] = \"_L@O#G_2_\" + df[\"log_2\"]\n",
    "df[\"log_3\"] = \"_L@O#G_3_\" + df[\"log_3\"]\n",
    "df[\"sqrt\"] = \"_SQ@#RT_\" + df[\"sqrt\"]\n",
    "df[\"cbrt\"] = \"_CB@#RT_\" + df[\"cbrt\"]"
   ]
  },
  {
   "cell_type": "code",
   "execution_count": 51,
   "metadata": {},
   "outputs": [],
   "source": [
    "df.price = df.price/40\n",
    "df.price = df.price.astype(int).astype(str)\n",
    "df.price = \"_PR#I$CE_\" + df.price"
   ]
  },
  {
   "cell_type": "code",
   "execution_count": 55,
   "metadata": {},
   "outputs": [
    {
     "data": {
      "text/html": [
       "<div>\n",
       "<style scoped>\n",
       "    .dataframe tbody tr th:only-of-type {\n",
       "        vertical-align: middle;\n",
       "    }\n",
       "\n",
       "    .dataframe tbody tr th {\n",
       "        vertical-align: top;\n",
       "    }\n",
       "\n",
       "    .dataframe thead th {\n",
       "        text-align: right;\n",
       "    }\n",
       "</style>\n",
       "<table border=\"1\" class=\"dataframe\">\n",
       "  <thead>\n",
       "    <tr style=\"text-align: right;\">\n",
       "      <th></th>\n",
       "      <th>price</th>\n",
       "      <th>text_raw</th>\n",
       "      <th>log_1</th>\n",
       "      <th>log_2</th>\n",
       "      <th>log_3</th>\n",
       "      <th>sqrt</th>\n",
       "      <th>cbrt</th>\n",
       "    </tr>\n",
       "  </thead>\n",
       "  <tbody>\n",
       "    <tr>\n",
       "      <th>0</th>\n",
       "      <td>_PR#I$CE_3</td>\n",
       "      <td>book an easy way to ksr</td>\n",
       "      <td>_L@O#G_1_23</td>\n",
       "      <td>_L@O#G_2_8</td>\n",
       "      <td>_L@O#G_3_3</td>\n",
       "      <td>_SQ@#RT_13</td>\n",
       "      <td>_CB@#RT_6</td>\n",
       "    </tr>\n",
       "    <tr>\n",
       "      <th>1</th>\n",
       "      <td>_PR#I$CE_3</td>\n",
       "      <td>book lectures on contract 1  general principle...</td>\n",
       "      <td>_L@O#G_1_22</td>\n",
       "      <td>_L@O#G_2_7</td>\n",
       "      <td>_L@O#G_3_3</td>\n",
       "      <td>_SQ@#RT_12</td>\n",
       "      <td>_CB@#RT_5</td>\n",
       "    </tr>\n",
       "    <tr>\n",
       "      <th>2</th>\n",
       "      <td>_PR#I$CE_1</td>\n",
       "      <td>book bangaru kalalu</td>\n",
       "      <td>_L@O#G_1_20</td>\n",
       "      <td>_L@O#G_2_7</td>\n",
       "      <td>_L@O#G_3_2</td>\n",
       "      <td>_SQ@#RT_9</td>\n",
       "      <td>_CB@#RT_5</td>\n",
       "    </tr>\n",
       "    <tr>\n",
       "      <th>3</th>\n",
       "      <td>_PR#I$CE_191</td>\n",
       "      <td>book mbbs first year textbook sets  14 books s...</td>\n",
       "      <td>_L@O#G_1_41</td>\n",
       "      <td>_L@O#G_2_13</td>\n",
       "      <td>_L@O#G_3_4</td>\n",
       "      <td>_SQ@#RT_88</td>\n",
       "      <td>_CB@#RT_20</td>\n",
       "    </tr>\n",
       "    <tr>\n",
       "      <th>4</th>\n",
       "      <td>_PR#I$CE_6</td>\n",
       "      <td>book e cet   2018  electrical   electronics en...</td>\n",
       "      <td>_L@O#G_1_25</td>\n",
       "      <td>_L@O#G_2_8</td>\n",
       "      <td>_L@O#G_3_3</td>\n",
       "      <td>_SQ@#RT_16</td>\n",
       "      <td>_CB@#RT_7</td>\n",
       "    </tr>\n",
       "  </tbody>\n",
       "</table>\n",
       "</div>"
      ],
      "text/plain": [
       "          price                                           text_raw  \\\n",
       "0    _PR#I$CE_3                       book an easy way to ksr        \n",
       "1    _PR#I$CE_3  book lectures on contract 1  general principle...   \n",
       "2    _PR#I$CE_1                           book bangaru kalalu        \n",
       "3  _PR#I$CE_191  book mbbs first year textbook sets  14 books s...   \n",
       "4    _PR#I$CE_6  book e cet   2018  electrical   electronics en...   \n",
       "\n",
       "         log_1        log_2       log_3        sqrt        cbrt  \n",
       "0  _L@O#G_1_23   _L@O#G_2_8  _L@O#G_3_3  _SQ@#RT_13   _CB@#RT_6  \n",
       "1  _L@O#G_1_22   _L@O#G_2_7  _L@O#G_3_3  _SQ@#RT_12   _CB@#RT_5  \n",
       "2  _L@O#G_1_20   _L@O#G_2_7  _L@O#G_3_2   _SQ@#RT_9   _CB@#RT_5  \n",
       "3  _L@O#G_1_41  _L@O#G_2_13  _L@O#G_3_4  _SQ@#RT_88  _CB@#RT_20  \n",
       "4  _L@O#G_1_25   _L@O#G_2_8  _L@O#G_3_3  _SQ@#RT_16   _CB@#RT_7  "
      ]
     },
     "execution_count": 55,
     "metadata": {},
     "output_type": "execute_result"
    }
   ],
   "source": [
    "df.head()"
   ]
  },
  {
   "cell_type": "code",
   "execution_count": 67,
   "metadata": {},
   "outputs": [],
   "source": [
    "df.dropna(inplace=True)"
   ]
  },
  {
   "cell_type": "code",
   "execution_count": 71,
   "metadata": {},
   "outputs": [],
   "source": [
    "def sp_join(row):\n",
    "    s = row[\"text_raw\"]\n",
    "    fp, sp = s[:int(len(s)/2)], s[int(len(s)/2):]\n",
    "    return fp + \" \" +row[\"log_2\"] +\" \"+ row[\"cbrt\"]+\" \" + sp \n",
    "\n",
    "df[\"text\"] = df.apply(sp_join,axis=1)"
   ]
  },
  {
   "cell_type": "code",
   "execution_count": 72,
   "metadata": {},
   "outputs": [],
   "source": [
    "df['text'] = df.price+ \" \"  + df.log_1+ \" \" + df.text + \" \" + df.log_3 + \" \" + df.sqrt"
   ]
  },
  {
   "cell_type": "code",
   "execution_count": 73,
   "metadata": {},
   "outputs": [
    {
     "data": {
      "text/html": [
       "<div>\n",
       "<style scoped>\n",
       "    .dataframe tbody tr th:only-of-type {\n",
       "        vertical-align: middle;\n",
       "    }\n",
       "\n",
       "    .dataframe tbody tr th {\n",
       "        vertical-align: top;\n",
       "    }\n",
       "\n",
       "    .dataframe thead th {\n",
       "        text-align: right;\n",
       "    }\n",
       "</style>\n",
       "<table border=\"1\" class=\"dataframe\">\n",
       "  <thead>\n",
       "    <tr style=\"text-align: right;\">\n",
       "      <th></th>\n",
       "      <th>price</th>\n",
       "      <th>text_raw</th>\n",
       "      <th>log_1</th>\n",
       "      <th>log_2</th>\n",
       "      <th>log_3</th>\n",
       "      <th>sqrt</th>\n",
       "      <th>cbrt</th>\n",
       "      <th>text</th>\n",
       "    </tr>\n",
       "  </thead>\n",
       "  <tbody>\n",
       "    <tr>\n",
       "      <th>0</th>\n",
       "      <td>_PR#I$CE_3</td>\n",
       "      <td>book an easy way to ksr</td>\n",
       "      <td>_L@O#G_1_23</td>\n",
       "      <td>_L@O#G_2_8</td>\n",
       "      <td>_L@O#G_3_3</td>\n",
       "      <td>_SQ@#RT_13</td>\n",
       "      <td>_CB@#RT_6</td>\n",
       "      <td>_PR#I$CE_3 _L@O#G_1_23 book an easy w _L@O#G_2...</td>\n",
       "    </tr>\n",
       "    <tr>\n",
       "      <th>1</th>\n",
       "      <td>_PR#I$CE_3</td>\n",
       "      <td>book lectures on contract 1  general principle...</td>\n",
       "      <td>_L@O#G_1_22</td>\n",
       "      <td>_L@O#G_2_7</td>\n",
       "      <td>_L@O#G_3_3</td>\n",
       "      <td>_SQ@#RT_12</td>\n",
       "      <td>_CB@#RT_5</td>\n",
       "      <td>_PR#I$CE_3 _L@O#G_1_22 book lectures on contra...</td>\n",
       "    </tr>\n",
       "    <tr>\n",
       "      <th>2</th>\n",
       "      <td>_PR#I$CE_1</td>\n",
       "      <td>book bangaru kalalu</td>\n",
       "      <td>_L@O#G_1_20</td>\n",
       "      <td>_L@O#G_2_7</td>\n",
       "      <td>_L@O#G_3_2</td>\n",
       "      <td>_SQ@#RT_9</td>\n",
       "      <td>_CB@#RT_5</td>\n",
       "      <td>_PR#I$CE_1 _L@O#G_1_20 book bangaru _L@O#G_2_7...</td>\n",
       "    </tr>\n",
       "    <tr>\n",
       "      <th>3</th>\n",
       "      <td>_PR#I$CE_191</td>\n",
       "      <td>book mbbs first year textbook sets  14 books s...</td>\n",
       "      <td>_L@O#G_1_41</td>\n",
       "      <td>_L@O#G_2_13</td>\n",
       "      <td>_L@O#G_3_4</td>\n",
       "      <td>_SQ@#RT_88</td>\n",
       "      <td>_CB@#RT_20</td>\n",
       "      <td>_PR#I$CE_191 _L@O#G_1_41 book mbbs first year ...</td>\n",
       "    </tr>\n",
       "    <tr>\n",
       "      <th>4</th>\n",
       "      <td>_PR#I$CE_6</td>\n",
       "      <td>book e cet   2018  electrical   electronics en...</td>\n",
       "      <td>_L@O#G_1_25</td>\n",
       "      <td>_L@O#G_2_8</td>\n",
       "      <td>_L@O#G_3_3</td>\n",
       "      <td>_SQ@#RT_16</td>\n",
       "      <td>_CB@#RT_7</td>\n",
       "      <td>_PR#I$CE_6 _L@O#G_1_25 book e cet   2018  elec...</td>\n",
       "    </tr>\n",
       "  </tbody>\n",
       "</table>\n",
       "</div>"
      ],
      "text/plain": [
       "          price                                           text_raw  \\\n",
       "0    _PR#I$CE_3                       book an easy way to ksr        \n",
       "1    _PR#I$CE_3  book lectures on contract 1  general principle...   \n",
       "2    _PR#I$CE_1                           book bangaru kalalu        \n",
       "3  _PR#I$CE_191  book mbbs first year textbook sets  14 books s...   \n",
       "4    _PR#I$CE_6  book e cet   2018  electrical   electronics en...   \n",
       "\n",
       "         log_1        log_2       log_3        sqrt        cbrt  \\\n",
       "0  _L@O#G_1_23   _L@O#G_2_8  _L@O#G_3_3  _SQ@#RT_13   _CB@#RT_6   \n",
       "1  _L@O#G_1_22   _L@O#G_2_7  _L@O#G_3_3  _SQ@#RT_12   _CB@#RT_5   \n",
       "2  _L@O#G_1_20   _L@O#G_2_7  _L@O#G_3_2   _SQ@#RT_9   _CB@#RT_5   \n",
       "3  _L@O#G_1_41  _L@O#G_2_13  _L@O#G_3_4  _SQ@#RT_88  _CB@#RT_20   \n",
       "4  _L@O#G_1_25   _L@O#G_2_8  _L@O#G_3_3  _SQ@#RT_16   _CB@#RT_7   \n",
       "\n",
       "                                                text  \n",
       "0  _PR#I$CE_3 _L@O#G_1_23 book an easy w _L@O#G_2...  \n",
       "1  _PR#I$CE_3 _L@O#G_1_22 book lectures on contra...  \n",
       "2  _PR#I$CE_1 _L@O#G_1_20 book bangaru _L@O#G_2_7...  \n",
       "3  _PR#I$CE_191 _L@O#G_1_41 book mbbs first year ...  \n",
       "4  _PR#I$CE_6 _L@O#G_1_25 book e cet   2018  elec...  "
      ]
     },
     "execution_count": 73,
     "metadata": {},
     "output_type": "execute_result"
    }
   ],
   "source": [
    "df.head()"
   ]
  },
  {
   "cell_type": "code",
   "execution_count": 74,
   "metadata": {},
   "outputs": [],
   "source": [
    "df[['text']].to_csv(\"price_prediction/fasttext-training.txt\",index=False,header=False,sep='\\t',)"
   ]
  },
  {
   "cell_type": "code",
   "execution_count": 84,
   "metadata": {},
   "outputs": [],
   "source": [
    "from numpy import dot\n",
    "from numpy.linalg import norm\n",
    "def cos_sim(a,b):\n",
    "    return dot(a, b)/(norm(a)*norm(b))"
   ]
  },
  {
   "cell_type": "markdown",
   "metadata": {},
   "source": [
    "# FastText"
   ]
  },
  {
   "cell_type": "code",
   "execution_count": 91,
   "metadata": {},
   "outputs": [
    {
     "data": {
      "text/plain": [
       "0.7245769"
      ]
     },
     "execution_count": 91,
     "metadata": {},
     "output_type": "execute_result"
    },
    {
     "data": {
      "text/plain": [
       "[('iPhone4', 0.368141770362854),\n",
       " ('3gs', 0.3644121289253235),\n",
       " ('iPone', 0.36181482672691345),\n",
       " ('iTouch', 0.3538857698440552),\n",
       " ('iphone4', 0.34788134694099426),\n",
       " ('3GS', 0.34028321504592896),\n",
       " ('Lifeproof', 0.32989436388015747),\n",
       " ('3Gs', 0.32855722308158875),\n",
       " ('6plus', 0.3278677761554718),\n",
       " ('Iphone4', 0.3245745897293091)]"
      ]
     },
     "execution_count": 91,
     "metadata": {},
     "output_type": "execute_result"
    },
    {
     "data": {
      "text/plain": [
       "[('Oneplus', 0.3718072474002838),\n",
       " ('2Ts', 0.31908345222473145),\n",
       " ('KL0', 0.30332058668136597),\n",
       " ('XZs', 0.28037065267562866),\n",
       " ('HT.', 0.2756316661834717),\n",
       " ('4Ts', 0.2743503153324127),\n",
       " ('47T', 0.2731747627258301),\n",
       " ('ncix', 0.2727956175804138),\n",
       " ('6q', 0.26711007952690125),\n",
       " ('71V', 0.26589474081993103)]"
      ]
     },
     "execution_count": 91,
     "metadata": {},
     "output_type": "execute_result"
    }
   ],
   "source": [
    "cos_sim(fb_model.wv[\"iphone\"],fb_model.wv[\"android\"])\n",
    "fb_model.wv.most_similar(positive=['iphone'], negative=['android'])\n",
    "fb_model.wv.most_similar(positive=['oneplus'], negative=['android'])\n"
   ]
  },
  {
   "cell_type": "code",
   "execution_count": 75,
   "metadata": {},
   "outputs": [],
   "source": [
    "fb_model.build_vocab(corpus_file=\"price_prediction/fasttext-training.txt\", update=True)"
   ]
  },
  {
   "cell_type": "code",
   "execution_count": 95,
   "metadata": {},
   "outputs": [],
   "source": [
    "fb_model.train(corpus_file=\"price_prediction/fasttext-training.txt\", \n",
    "               total_examples=4305090, epochs=5, total_words=fb_model.corpus_total_words)"
   ]
  },
  {
   "cell_type": "code",
   "execution_count": null,
   "metadata": {},
   "outputs": [],
   "source": [
    "# total_examples = model4.corpus_count"
   ]
  },
  {
   "cell_type": "code",
   "execution_count": null,
   "metadata": {},
   "outputs": [],
   "source": [
    "\n",
    "from gensim.test.utils import get_tmpfile\n",
    "\n",
    "fname = get_tmpfile(\"fasttext.model\")\n",
    "\n",
    "fb_model.save(fname)\n"
   ]
  },
  {
   "cell_type": "code",
   "execution_count": 97,
   "metadata": {},
   "outputs": [],
   "source": [
    "from gensim.models import FastText\n",
    "model = FastText.load(fname)"
   ]
  },
  {
   "cell_type": "code",
   "execution_count": 99,
   "metadata": {},
   "outputs": [],
   "source": [
    "!ls -ltrh | grep \"fasttext.model\""
   ]
  },
  {
   "cell_type": "code",
   "execution_count": 102,
   "metadata": {},
   "outputs": [
    {
     "data": {
      "text/plain": [
       "'/home/ec2-user/SageMaker/ML_hackathon_2019'"
      ]
     },
     "execution_count": 102,
     "metadata": {},
     "output_type": "execute_result"
    }
   ],
   "source": [
    "os.getcwd()"
   ]
  },
  {
   "cell_type": "code",
   "execution_count": 103,
   "metadata": {},
   "outputs": [
    {
     "name": "stdout",
     "output_type": "stream",
     "text": [
      "anaconda3    nltk_data\t\t    SageMaker\t\t\t src\r\n",
      "examples     Nvidia_Cloud_EULA.pdf  sample-notebooks\t\t tools\r\n",
      "gensim-data  README\t\t    sample-notebooks-1561939239  tutorials\r\n"
     ]
    }
   ],
   "source": [
    "!ls /home/ec2-user"
   ]
  },
  {
   "cell_type": "code",
   "execution_count": null,
   "metadata": {},
   "outputs": [],
   "source": []
  }
 ],
 "metadata": {
  "kernelspec": {
   "display_name": "conda_tensorflow_p36",
   "language": "python",
   "name": "conda_tensorflow_p36"
  },
  "language_info": {
   "codemirror_mode": {
    "name": "ipython",
    "version": 3
   },
   "file_extension": ".py",
   "mimetype": "text/x-python",
   "name": "python",
   "nbconvert_exporter": "python",
   "pygments_lexer": "ipython3",
   "version": "3.6.5"
  },
  "toc": {
   "base_numbering": 1,
   "nav_menu": {},
   "number_sections": true,
   "sideBar": true,
   "skip_h1_title": false,
   "title_cell": "Table of Contents",
   "title_sidebar": "Contents",
   "toc_cell": false,
   "toc_position": {
    "height": "calc(100% - 180px)",
    "left": "10px",
    "top": "150px",
    "width": "288px"
   },
   "toc_section_display": true,
   "toc_window_display": true
  }
 },
 "nbformat": 4,
 "nbformat_minor": 2
}
