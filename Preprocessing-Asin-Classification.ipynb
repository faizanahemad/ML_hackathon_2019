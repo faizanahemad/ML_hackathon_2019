{
 "cells": [
  {
   "cell_type": "markdown",
   "metadata": {},
   "source": [
    "# Imports"
   ]
  },
  {
   "cell_type": "code",
   "execution_count": 1,
   "metadata": {},
   "outputs": [
    {
     "name": "stderr",
     "output_type": "stream",
     "text": [
      "Using TensorFlow backend.\n"
     ]
    },
    {
     "name": "stdout",
     "output_type": "stream",
     "text": [
      "[nltk_data] Downloading package punkt to /home/ec2-user/nltk_data...\n",
      "[nltk_data]   Package punkt is already up-to-date!\n",
      "[nltk_data] Downloading package stopwords to\n",
      "[nltk_data]     /home/ec2-user/nltk_data...\n",
      "[nltk_data]   Package stopwords is already up-to-date!\n",
      "[nltk_data] Downloading package wordnet to /home/ec2-user/nltk_data...\n",
      "[nltk_data]   Package wordnet is already up-to-date!\n",
      "[nltk_data] Downloading package averaged_perceptron_tagger to\n",
      "[nltk_data]     /home/ec2-user/nltk_data...\n",
      "[nltk_data]   Package averaged_perceptron_tagger is already up-to-\n",
      "[nltk_data]       date!\n",
      "[nltk_data] Downloading package omw to /home/ec2-user/nltk_data...\n",
      "[nltk_data]   Package omw is already up-to-date!\n"
     ]
    }
   ],
   "source": [
    "from keras import backend as K\n",
    "import time\n",
    "import matplotlib.pyplot as plt\n",
    "import numpy as np_utils\n",
    "%matplotlib inline\n",
    "\n",
    "from keras.models import Sequential\n",
    "from keras.layers.convolutional import Convolution2D, MaxPooling2D, DepthwiseConv2D, Conv2D, SeparableConv2D, MaxPooling1D\n",
    "from keras.layers import Input, concatenate\n",
    "import gensim.downloader as api\n",
    "from sklearn.model_selection import train_test_split\n",
    "from keras.layers import Activation, Flatten, Dense, Dropout\n",
    "from keras.layers.normalization import BatchNormalization\n",
    "from keras.layers.pooling import GlobalAveragePooling2D\n",
    "from keras.utils import np_utils\n",
    "from keras.preprocessing.image import ImageDataGenerator\n",
    "from keras.optimizers import SGD, Nadam, Adam\n",
    "from keras.preprocessing.image import ImageDataGenerator\n",
    "from keras.callbacks import EarlyStopping, ModelCheckpoint, ReduceLROnPlateau, LearningRateScheduler\n",
    "from keras.regularizers import l2\n",
    "%config InlineBackend.figure_format='retina'\n",
    "from keras_contrib.callbacks import CyclicLR\n",
    "from keras.models import Model\n",
    "from keras.layers import Conv1D, GlobalMaxPooling1D, GlobalAveragePooling1D\n",
    "from data_science_utils.vision.keras import *\n",
    "from time import time\n",
    "import pandas as pd\n",
    "import numpy as np\n",
    "\n",
    "from IPython.core.interactiveshell import InteractiveShell\n",
    "InteractiveShell.ast_node_interactivity = \"all\"\n",
    "import missingno as msno\n",
    "import re\n",
    "from joblib import Parallel, delayed\n",
    "from data_science_utils import dataframe as df_utils\n",
    "from data_science_utils import models as model_utils\n",
    "from data_science_utils import plots as plot_utils\n",
    "from data_science_utils.dataframe import column as column_utils\n",
    "from data_science_utils import misc as misc\n",
    "from data_science_utils import preprocessing as pp_utils\n",
    "from data_science_utils import nlp as nlp_utils\n",
    "\n",
    "from keras.preprocessing import sequence\n",
    "from keras.models import Sequential\n",
    "from keras.layers import Dense, Dropout, Activation\n",
    "from keras.layers import Embedding\n",
    "from keras.layers import Conv1D, GlobalMaxPooling1D\n",
    "from keras.datasets import imdb\n",
    "from sklearn.preprocessing import StandardScaler\n",
    "from sklearn.impute import SimpleImputer\n",
    "from data_science_utils.dataframe import get_specific_cols\n",
    "\n",
    "import numpy as np\n",
    "import more_itertools\n",
    "from more_itertools import flatten\n",
    "import ast\n",
    "from sklearn.preprocessing import LabelEncoder"
   ]
  },
  {
   "cell_type": "code",
   "execution_count": 2,
   "metadata": {},
   "outputs": [],
   "source": [
    "df_train = pd.read_csv(\"asin_classification/train_file\")\n",
    "df_test = pd.read_csv(\"asin_classification/test_file\")"
   ]
  },
  {
   "cell_type": "code",
   "execution_count": 4,
   "metadata": {},
   "outputs": [
    {
     "data": {
      "text/plain": [
       "Index(['feature', 'target'], dtype='object')"
      ]
     },
     "execution_count": 4,
     "metadata": {},
     "output_type": "execute_result"
    }
   ],
   "source": [
    "df_train.columns"
   ]
  },
  {
   "cell_type": "code",
   "execution_count": 5,
   "metadata": {},
   "outputs": [
    {
     "data": {
      "text/html": [
       "<div>\n",
       "<style scoped>\n",
       "    .dataframe tbody tr th:only-of-type {\n",
       "        vertical-align: middle;\n",
       "    }\n",
       "\n",
       "    .dataframe tbody tr th {\n",
       "        vertical-align: top;\n",
       "    }\n",
       "\n",
       "    .dataframe thead th {\n",
       "        text-align: right;\n",
       "    }\n",
       "</style>\n",
       "<table border=\"1\" class=\"dataframe\">\n",
       "  <thead>\n",
       "    <tr style=\"text-align: right;\">\n",
       "      <th></th>\n",
       "      <th>feature</th>\n",
       "      <th>target</th>\n",
       "    </tr>\n",
       "  </thead>\n",
       "  <tbody>\n",
       "    <tr>\n",
       "      <th>0</th>\n",
       "      <td>EASY4BUY® SAI Baba Waterproof Car Bike Decal S...</td>\n",
       "      <td>26307599</td>\n",
       "    </tr>\n",
       "    <tr>\n",
       "      <th>1</th>\n",
       "      <td>adidas Originals Men's Gazelle Vappnk White an...</td>\n",
       "      <td>30904020</td>\n",
       "    </tr>\n",
       "    <tr>\n",
       "      <th>2</th>\n",
       "      <td>SG Musical 36cm Six Holes Finest Indian Bansur...</td>\n",
       "      <td>26706100</td>\n",
       "    </tr>\n",
       "    <tr>\n",
       "      <th>3</th>\n",
       "      <td>Spykar Mens Blue Skinny Fit Low Rise Jeans (31)</td>\n",
       "      <td>19301050</td>\n",
       "    </tr>\n",
       "    <tr>\n",
       "      <th>4</th>\n",
       "      <td>TOMMY HILFIGER Men's Printed Regular Fit Casua...</td>\n",
       "      <td>19301621</td>\n",
       "    </tr>\n",
       "  </tbody>\n",
       "</table>\n",
       "</div>"
      ],
      "text/plain": [
       "                                             feature    target\n",
       "0  EASY4BUY® SAI Baba Waterproof Car Bike Decal S...  26307599\n",
       "1  adidas Originals Men's Gazelle Vappnk White an...  30904020\n",
       "2  SG Musical 36cm Six Holes Finest Indian Bansur...  26706100\n",
       "3    Spykar Mens Blue Skinny Fit Low Rise Jeans (31)  19301050\n",
       "4  TOMMY HILFIGER Men's Printed Regular Fit Casua...  19301621"
      ]
     },
     "execution_count": 5,
     "metadata": {},
     "output_type": "execute_result"
    },
    {
     "data": {
      "text/html": [
       "<div>\n",
       "<style scoped>\n",
       "    .dataframe tbody tr th:only-of-type {\n",
       "        vertical-align: middle;\n",
       "    }\n",
       "\n",
       "    .dataframe tbody tr th {\n",
       "        vertical-align: top;\n",
       "    }\n",
       "\n",
       "    .dataframe thead th {\n",
       "        text-align: right;\n",
       "    }\n",
       "</style>\n",
       "<table border=\"1\" class=\"dataframe\">\n",
       "  <thead>\n",
       "    <tr style=\"text-align: right;\">\n",
       "      <th></th>\n",
       "      <th>ID</th>\n",
       "      <th>feature</th>\n",
       "    </tr>\n",
       "  </thead>\n",
       "  <tbody>\n",
       "    <tr>\n",
       "      <th>0</th>\n",
       "      <td>320bcdc104345482cb5e6b2f96f8b404</td>\n",
       "      <td>ARTBOX Kids Printed Diary in a Beautiful Pack ...</td>\n",
       "    </tr>\n",
       "    <tr>\n",
       "      <th>1</th>\n",
       "      <td>9bfc6e30373362f1b814df3c4378ff0c</td>\n",
       "      <td>L'Oreal Paris Revitalift Eye Night Cream 15ml</td>\n",
       "    </tr>\n",
       "    <tr>\n",
       "      <th>2</th>\n",
       "      <td>e169087ecdf5991987792e11eaa5fda6</td>\n",
       "      <td>Agro Fresh Diamond Sugar 100g</td>\n",
       "    </tr>\n",
       "    <tr>\n",
       "      <th>3</th>\n",
       "      <td>f8c575910b94818d484cd8e9c6a62b94</td>\n",
       "      <td>Raymond Home Exclusive 104 TC Cotton Double Be...</td>\n",
       "    </tr>\n",
       "    <tr>\n",
       "      <th>4</th>\n",
       "      <td>f3501cc33c4620754960d9211fbfded9</td>\n",
       "      <td>DAMDAM Women's Handbag (BLACK-EWDD-0001)</td>\n",
       "    </tr>\n",
       "  </tbody>\n",
       "</table>\n",
       "</div>"
      ],
      "text/plain": [
       "                                 ID  \\\n",
       "0  320bcdc104345482cb5e6b2f96f8b404   \n",
       "1  9bfc6e30373362f1b814df3c4378ff0c   \n",
       "2  e169087ecdf5991987792e11eaa5fda6   \n",
       "3  f8c575910b94818d484cd8e9c6a62b94   \n",
       "4  f3501cc33c4620754960d9211fbfded9   \n",
       "\n",
       "                                             feature  \n",
       "0  ARTBOX Kids Printed Diary in a Beautiful Pack ...  \n",
       "1      L'Oreal Paris Revitalift Eye Night Cream 15ml  \n",
       "2                      Agro Fresh Diamond Sugar 100g  \n",
       "3  Raymond Home Exclusive 104 TC Cotton Double Be...  \n",
       "4           DAMDAM Women's Handbag (BLACK-EWDD-0001)  "
      ]
     },
     "execution_count": 5,
     "metadata": {},
     "output_type": "execute_result"
    }
   ],
   "source": [
    "df_train.head()\n",
    "df_test.head()"
   ]
  },
  {
   "cell_type": "markdown",
   "metadata": {},
   "source": [
    "# Preprocessing Data"
   ]
  },
  {
   "cell_type": "code",
   "execution_count": 6,
   "metadata": {},
   "outputs": [
    {
     "data": {
      "text/plain": [
       "<module 'lib' from '/home/ec2-user/SageMaker/ML_hackathon_2019/lib.py'>"
      ]
     },
     "execution_count": 6,
     "metadata": {},
     "output_type": "execute_result"
    }
   ],
   "source": [
    "import sys\n",
    "import os\n",
    "sys.path.append(os.getcwd())\n",
    "from importlib import reload\n",
    "import lib\n",
    "reload(lib)\n",
    "from lib import *"
   ]
  },
  {
   "cell_type": "code",
   "execution_count": 4,
   "metadata": {},
   "outputs": [
    {
     "data": {
      "application/vnd.jupyter.widget-view+json": {
       "model_id": "a4ff36d4265b40dcb50b091ade017c2e",
       "version_major": 2,
       "version_minor": 0
      },
      "text/plain": [
       "HBox(children=(IntProgress(value=0, max=1449608), HTML(value='')))"
      ]
     },
     "metadata": {},
     "output_type": "display_data"
    },
    {
     "name": "stdout",
     "output_type": "stream",
     "text": [
      "\n"
     ]
    },
    {
     "data": {
      "application/vnd.jupyter.widget-view+json": {
       "model_id": "2fc29d10214046779804d26fff042794",
       "version_major": 2,
       "version_minor": 0
      },
      "text/plain": [
       "HBox(children=(IntProgress(value=0, max=1449608), HTML(value='')))"
      ]
     },
     "metadata": {},
     "output_type": "display_data"
    },
    {
     "name": "stdout",
     "output_type": "stream",
     "text": [
      "\n",
      "Total Words before Min frequency filtering 332242\n",
      "Total Words after Min frequency filtering 87552\n"
     ]
    },
    {
     "data": {
      "application/vnd.jupyter.widget-view+json": {
       "model_id": "40a183d169f54dcf8ff7cd6bec3afa03",
       "version_major": 2,
       "version_minor": 0
      },
      "text/plain": [
       "HBox(children=(IntProgress(value=0, max=1449608), HTML(value='')))"
      ]
     },
     "metadata": {},
     "output_type": "display_data"
    },
    {
     "name": "stdout",
     "output_type": "stream",
     "text": [
      "\n"
     ]
    }
   ],
   "source": [
    "df_train = preprocess_for_word_cnn(df_train,text_columns=['feature'],jobs=32)\n",
    "gl_le_train,gl_le_transform, le = get_text_le(\"text\")\n",
    "_ = gl_le_train(df_train)\n",
    "df_train['text_encoded'] = gl_le_transform(df_train)\n",
    "\n"
   ]
  },
  {
   "cell_type": "code",
   "execution_count": 5,
   "metadata": {},
   "outputs": [
    {
     "data": {
      "application/vnd.jupyter.widget-view+json": {
       "model_id": "0b2fb1409e1843e3b57ae87f9cca51c5",
       "version_major": 2,
       "version_minor": 0
      },
      "text/plain": [
       "HBox(children=(IntProgress(value=0, max=362403), HTML(value='')))"
      ]
     },
     "metadata": {},
     "output_type": "display_data"
    },
    {
     "name": "stdout",
     "output_type": "stream",
     "text": [
      "\n"
     ]
    },
    {
     "data": {
      "application/vnd.jupyter.widget-view+json": {
       "model_id": "2cebd9adc2134c869a5ffbb725009412",
       "version_major": 2,
       "version_minor": 0
      },
      "text/plain": [
       "HBox(children=(IntProgress(value=0, max=362403), HTML(value='')))"
      ]
     },
     "metadata": {},
     "output_type": "display_data"
    },
    {
     "name": "stdout",
     "output_type": "stream",
     "text": [
      "\n"
     ]
    }
   ],
   "source": [
    "df_test = preprocess_for_word_cnn(df_test,text_columns=['feature'],jobs=32)\n",
    "df_test['text_encoded'] = gl_le_transform(df_test)"
   ]
  },
  {
   "cell_type": "code",
   "execution_count": 9,
   "metadata": {},
   "outputs": [
    {
     "data": {
      "text/html": [
       "<div>\n",
       "<style scoped>\n",
       "    .dataframe tbody tr th:only-of-type {\n",
       "        vertical-align: middle;\n",
       "    }\n",
       "\n",
       "    .dataframe tbody tr th {\n",
       "        vertical-align: top;\n",
       "    }\n",
       "\n",
       "    .dataframe thead th {\n",
       "        text-align: right;\n",
       "    }\n",
       "</style>\n",
       "<table border=\"1\" class=\"dataframe\">\n",
       "  <thead>\n",
       "    <tr style=\"text-align: right;\">\n",
       "      <th></th>\n",
       "      <th>ID</th>\n",
       "      <th>feature</th>\n",
       "      <th>text</th>\n",
       "      <th>text_encoded</th>\n",
       "    </tr>\n",
       "  </thead>\n",
       "  <tbody>\n",
       "    <tr>\n",
       "      <th>0</th>\n",
       "      <td>320bcdc104345482cb5e6b2f96f8b404</td>\n",
       "      <td>ARTBOX Kids Printed Diary in a Beautiful Pack ...</td>\n",
       "      <td>[artbox, kid, print, diary, beautiful, pack, p...</td>\n",
       "      <td>[13263, 51, 13, 765, 412, 16, 244, 88, 103]</td>\n",
       "    </tr>\n",
       "    <tr>\n",
       "      <th>1</th>\n",
       "      <td>9bfc6e30373362f1b814df3c4378ff0c</td>\n",
       "      <td>L'Oreal Paris Revitalift Eye Night Cream 15ml</td>\n",
       "      <td>[oreal, paris, revitalift, eye, night, cream, ...</td>\n",
       "      <td>[1942, 1317, 19849, 386, 295, 203, 8]</td>\n",
       "    </tr>\n",
       "    <tr>\n",
       "      <th>2</th>\n",
       "      <td>e169087ecdf5991987792e11eaa5fda6</td>\n",
       "      <td>Agro Fresh Diamond Sugar 100g</td>\n",
       "      <td>[agro, fresh, diamond, sugar, _NUM6_]</td>\n",
       "      <td>[2782, 553, 381, 982, 11]</td>\n",
       "    </tr>\n",
       "    <tr>\n",
       "      <th>3</th>\n",
       "      <td>f8c575910b94818d484cd8e9c6a62b94</td>\n",
       "      <td>Raymond Home Exclusive 104 TC Cotton Double Be...</td>\n",
       "      <td>[raymond, home, exclusive, _NUM6_, cotton, dou...</td>\n",
       "      <td>[1222, 71, 827, 11, 12, 117, 298, 4, 166, 10, 22]</td>\n",
       "    </tr>\n",
       "    <tr>\n",
       "      <th>4</th>\n",
       "      <td>f3501cc33c4620754960d9211fbfded9</td>\n",
       "      <td>DAMDAM Women's Handbag (BLACK-EWDD-0001)</td>\n",
       "      <td>[damdam, woman, handbag, black, ewdd, _NUM1_]</td>\n",
       "      <td>[38728, 5, 476, 9, 1, 4]</td>\n",
       "    </tr>\n",
       "  </tbody>\n",
       "</table>\n",
       "</div>"
      ],
      "text/plain": [
       "                                 ID  \\\n",
       "0  320bcdc104345482cb5e6b2f96f8b404   \n",
       "1  9bfc6e30373362f1b814df3c4378ff0c   \n",
       "2  e169087ecdf5991987792e11eaa5fda6   \n",
       "3  f8c575910b94818d484cd8e9c6a62b94   \n",
       "4  f3501cc33c4620754960d9211fbfded9   \n",
       "\n",
       "                                             feature  \\\n",
       "0  ARTBOX Kids Printed Diary in a Beautiful Pack ...   \n",
       "1      L'Oreal Paris Revitalift Eye Night Cream 15ml   \n",
       "2                      Agro Fresh Diamond Sugar 100g   \n",
       "3  Raymond Home Exclusive 104 TC Cotton Double Be...   \n",
       "4           DAMDAM Women's Handbag (BLACK-EWDD-0001)   \n",
       "\n",
       "                                                text  \\\n",
       "0  [artbox, kid, print, diary, beautiful, pack, p...   \n",
       "1  [oreal, paris, revitalift, eye, night, cream, ...   \n",
       "2              [agro, fresh, diamond, sugar, _NUM6_]   \n",
       "3  [raymond, home, exclusive, _NUM6_, cotton, dou...   \n",
       "4      [damdam, woman, handbag, black, ewdd, _NUM1_]   \n",
       "\n",
       "                                        text_encoded  \n",
       "0        [13263, 51, 13, 765, 412, 16, 244, 88, 103]  \n",
       "1              [1942, 1317, 19849, 386, 295, 203, 8]  \n",
       "2                          [2782, 553, 381, 982, 11]  \n",
       "3  [1222, 71, 827, 11, 12, 117, 298, 4, 166, 10, 22]  \n",
       "4                           [38728, 5, 476, 9, 1, 4]  "
      ]
     },
     "execution_count": 9,
     "metadata": {},
     "output_type": "execute_result"
    }
   ],
   "source": [
    "df_test.head()"
   ]
  },
  {
   "cell_type": "code",
   "execution_count": null,
   "metadata": {},
   "outputs": [],
   "source": []
  },
  {
   "cell_type": "code",
   "execution_count": 10,
   "metadata": {},
   "outputs": [
    {
     "data": {
      "text/html": [
       "<div>\n",
       "<style scoped>\n",
       "    .dataframe tbody tr th:only-of-type {\n",
       "        vertical-align: middle;\n",
       "    }\n",
       "\n",
       "    .dataframe tbody tr th {\n",
       "        vertical-align: top;\n",
       "    }\n",
       "\n",
       "    .dataframe thead th {\n",
       "        text-align: right;\n",
       "    }\n",
       "</style>\n",
       "<table border=\"1\" class=\"dataframe\">\n",
       "  <thead>\n",
       "    <tr style=\"text-align: right;\">\n",
       "      <th></th>\n",
       "      <th>feature</th>\n",
       "      <th>target</th>\n",
       "      <th>text</th>\n",
       "      <th>text_encoded</th>\n",
       "    </tr>\n",
       "  </thead>\n",
       "  <tbody>\n",
       "    <tr>\n",
       "      <th>0</th>\n",
       "      <td>EASY4BUY® SAI Baba Waterproof Car Bike Decal S...</td>\n",
       "      <td>26307599</td>\n",
       "      <td>[easy, _NUM2_, buy, sai, baba, waterproof, car...</td>\n",
       "      <td>[475, 2, 855, 1514, 2659, 235, 60, 225, 537, 1...</td>\n",
       "    </tr>\n",
       "    <tr>\n",
       "      <th>1</th>\n",
       "      <td>adidas Originals Men's Gazelle Vappnk White an...</td>\n",
       "      <td>30904020</td>\n",
       "      <td>[adidas, original, men, gazelle, vappnk, white...</td>\n",
       "      <td>[1007, 329, 7, 22746, 1, 22, 1, 36, 99, 3, 30, 6]</td>\n",
       "    </tr>\n",
       "    <tr>\n",
       "      <th>2</th>\n",
       "      <td>SG Musical 36cm Six Holes Finest Indian Bansur...</td>\n",
       "      <td>26706100</td>\n",
       "      <td>[musical, _NUM5_, _NUM2_, hole, fine, indian, ...</td>\n",
       "      <td>[974, 6, 2, 1205, 806, 223, 6245, 7499, 9, 108...</td>\n",
       "    </tr>\n",
       "    <tr>\n",
       "      <th>3</th>\n",
       "      <td>Spykar Mens Blue Skinny Fit Low Rise Jeans (31)</td>\n",
       "      <td>19301050</td>\n",
       "      <td>[spykar, men, blue, skinny, fit, low, rise, je...</td>\n",
       "      <td>[2333, 7, 17, 528, 19, 606, 190, 97, 6]</td>\n",
       "    </tr>\n",
       "    <tr>\n",
       "      <th>4</th>\n",
       "      <td>TOMMY HILFIGER Men's Printed Regular Fit Casua...</td>\n",
       "      <td>19301621</td>\n",
       "      <td>[tommy, hilfiger, men, print, regular, fit, ca...</td>\n",
       "      <td>[787, 815, 7, 13, 37, 19, 31, 14, 3, 1964, 11,...</td>\n",
       "    </tr>\n",
       "  </tbody>\n",
       "</table>\n",
       "</div>"
      ],
      "text/plain": [
       "                                             feature    target  \\\n",
       "0  EASY4BUY® SAI Baba Waterproof Car Bike Decal S...  26307599   \n",
       "1  adidas Originals Men's Gazelle Vappnk White an...  30904020   \n",
       "2  SG Musical 36cm Six Holes Finest Indian Bansur...  26706100   \n",
       "3    Spykar Mens Blue Skinny Fit Low Rise Jeans (31)  19301050   \n",
       "4  TOMMY HILFIGER Men's Printed Regular Fit Casua...  19301621   \n",
       "\n",
       "                                                text  \\\n",
       "0  [easy, _NUM2_, buy, sai, baba, waterproof, car...   \n",
       "1  [adidas, original, men, gazelle, vappnk, white...   \n",
       "2  [musical, _NUM5_, _NUM2_, hole, fine, indian, ...   \n",
       "3  [spykar, men, blue, skinny, fit, low, rise, je...   \n",
       "4  [tommy, hilfiger, men, print, regular, fit, ca...   \n",
       "\n",
       "                                        text_encoded  \n",
       "0  [475, 2, 855, 1514, 2659, 235, 60, 225, 537, 1...  \n",
       "1  [1007, 329, 7, 22746, 1, 22, 1, 36, 99, 3, 30, 6]  \n",
       "2  [974, 6, 2, 1205, 806, 223, 6245, 7499, 9, 108...  \n",
       "3            [2333, 7, 17, 528, 19, 606, 190, 97, 6]  \n",
       "4  [787, 815, 7, 13, 37, 19, 31, 14, 3, 1964, 11,...  "
      ]
     },
     "execution_count": 10,
     "metadata": {},
     "output_type": "execute_result"
    }
   ],
   "source": [
    "df_train.head()"
   ]
  },
  {
   "cell_type": "code",
   "execution_count": 11,
   "metadata": {},
   "outputs": [
    {
     "data": {
      "text/plain": [
       "1316"
      ]
     },
     "execution_count": 11,
     "metadata": {},
     "output_type": "execute_result"
    }
   ],
   "source": [
    "df_train.target.nunique()"
   ]
  },
  {
   "cell_type": "code",
   "execution_count": 12,
   "metadata": {},
   "outputs": [],
   "source": [
    "# Intermediate save\n",
    "df_test[[\"ID\",\"feature\",\"text\",\"text_encoded\"]].to_csv(\"asin_classification/test.csv\",index=False)\n",
    "df_train[[\"feature\",\"text\",\"text_encoded\",\"target\"]].to_csv(\"asin_classification/train.csv\",index=False)\n",
    "\n"
   ]
  },
  {
   "cell_type": "code",
   "execution_count": 15,
   "metadata": {},
   "outputs": [
    {
     "name": "stdout",
     "output_type": "stream",
     "text": [
      "558\n"
     ]
    },
    {
     "data": {
      "text/plain": [
       "43.8424498209171"
      ]
     },
     "execution_count": 15,
     "metadata": {},
     "output_type": "execute_result"
    },
    {
     "data": {
      "text/plain": [
       "558"
      ]
     },
     "execution_count": 15,
     "metadata": {},
     "output_type": "execute_result"
    },
    {
     "data": {
      "text/plain": [
       "array([  4.,   9., 108., 158.])"
      ]
     },
     "execution_count": 15,
     "metadata": {},
     "output_type": "execute_result"
    }
   ],
   "source": [
    "# What is the max word length of an asin?\n",
    "\n",
    "max_len = 0\n",
    "for c in df_train.text:\n",
    "    max_len = max(max_len,len(c))\n",
    "print(max_len)\n",
    "\n",
    "df_train.text.apply(len).mean()\n",
    "df_train.text.apply(len).max()\n",
    "\n",
    "np.percentile(df_train.text.apply(len), [1,5,95,99])"
   ]
  },
  {
   "cell_type": "code",
   "execution_count": 16,
   "metadata": {},
   "outputs": [
    {
     "name": "stdout",
     "output_type": "stream",
     "text": [
      "4186\n"
     ]
    },
    {
     "data": {
      "text/plain": [
       "355.25368168497965"
      ]
     },
     "execution_count": 16,
     "metadata": {},
     "output_type": "execute_result"
    },
    {
     "data": {
      "text/plain": [
       "array([  41.,   69.,  955., 1423.])"
      ]
     },
     "execution_count": 16,
     "metadata": {},
     "output_type": "execute_result"
    }
   ],
   "source": [
    "# What is the max character length of an asin?\n",
    "\n",
    "max_len = 0\n",
    "for c in df_train.char:\n",
    "    max_len = max(max_len,len(c))\n",
    "print(max_len)\n",
    "\n",
    "df_train.char.apply(len).mean()\n",
    "\n",
    "np.percentile(df_train.char.apply(len), [1,5,95,99])"
   ]
  },
  {
   "cell_type": "code",
   "execution_count": 48,
   "metadata": {},
   "outputs": [
    {
     "data": {
      "text/plain": [
       "4186"
      ]
     },
     "execution_count": 48,
     "metadata": {},
     "output_type": "execute_result"
    }
   ],
   "source": []
  },
  {
   "cell_type": "code",
   "execution_count": null,
   "metadata": {},
   "outputs": [],
   "source": [
    "start = time()\n",
    "glove = api.load(\"glove-twitter-25\") \n",
    "print(\"total = \",(time()-start))\n",
    "\n",
    "ptr_glove = PreTrainedEmbeddingsTransformer(glove,size=25)\n",
    "ptr_glove.fit()\n"
   ]
  },
  {
   "cell_type": "code",
   "execution_count": 18,
   "metadata": {
    "collapsed": true
   },
   "outputs": [
    {
     "name": "stdout",
     "output_type": "stream",
     "text": [
      "Fasttext Transforms start at: 2019-06-12 20:48:33.769052\n",
      "Number of Unique Test Tokens for Fasttext transform 105\n"
     ]
    },
    {
     "name": "stderr",
     "output_type": "stream",
     "text": [
      "/home/ec2-user/SageMaker/ML_hackathon_2019/lib.py:230: RuntimeWarning: invalid value encountered in true_divide\n",
      "  token2vec = {k: self.model.wv[k] if k in self.model.wv else empty for k in uniq_tokens}\n"
     ]
    },
    {
     "data": {
      "application/vnd.jupyter.widget-view+json": {
       "model_id": "d98d79670f6b44f4b995802aef5953b0",
       "version_major": 2,
       "version_minor": 0
      },
      "text/plain": [
       "HBox(children=(IntProgress(value=0, max=5), HTML(value='')))"
      ]
     },
     "metadata": {},
     "output_type": "display_data"
    },
    {
     "name": "stdout",
     "output_type": "stream",
     "text": [
      "Fasttext Transforms done at: 2019-06-12 20:48:33.798613\n"
     ]
    },
    {
     "data": {
      "text/plain": [
       "array([list([array([0., 0., 0., 0., 0., 0., 0., 0., 0., 0., 0., 0., 0., 0., 0., 0., 0.,\n",
       "       0., 0., 0., 0., 0., 0., 0., 0.]), array([-0.34577322, -0.24588524,  0.05102374, -0.10197101,  0.08651397,\n",
       "        0.07678932, -0.1665935 , -0.3043444 ,  0.32156006, -0.18454368,\n",
       "        0.17527086,  0.09763581, -0.34966585, -0.08168061, -0.13189802,\n",
       "        0.0683877 ,  0.09058966,  0.13328592,  0.16063175,  0.39769828,\n",
       "       -0.30992848,  0.00171429,  0.18304455,  0.02893994, -0.06448579],\n",
       "      dtype=float32), array([-0.3268838 , -0.13950849, -0.07745891, -0.19274539,  0.14657307,\n",
       "       -0.13236557, -0.09916801, -0.3344287 , -0.03204315, -0.14627622,\n",
       "        0.25205323, -0.01479604, -0.4430464 , -0.06483459, -0.2673904 ,\n",
       "       -0.09216734,  0.11876208, -0.17181139,  0.07366584,  0.25502172,\n",
       "       -0.27456424, -0.23463401, -0.1821145 ,  0.0150461 , -0.15898505],\n",
       "      dtype=float32), array([ 0.04465171, -0.1731172 , -0.01628751, -0.11452806,  0.32375216,\n",
       "       -0.02755725,  0.10969554, -0.11666184,  0.29412177, -0.04823791,\n",
       "        0.19485265,  0.14610069, -0.6682359 ,  0.02212024, -0.02455298,\n",
       "        0.14129484,  0.12534729,  0.05251759,  0.06431399,  0.01592671,\n",
       "       -0.27322045, -0.13009734,  0.03188542, -0.01823701, -0.3031661 ],\n",
       "      dtype=float32), array([ 0.0034013 ,  0.14922546, -0.06988734, -0.00362517, -0.02549871,\n",
       "        0.10276823,  0.17762439, -0.01440097,  0.0839482 ,  0.05845881,\n",
       "       -0.08305135,  0.060772  , -0.9024251 , -0.04480561, -0.06963109,\n",
       "        0.11349093, -0.02101279, -0.0706421 , -0.01805037, -0.18577765,\n",
       "       -0.05517654,  0.08536687,  0.03588595, -0.14627631,  0.03745836],\n",
       "      dtype=float32), array([0., 0., 0., 0., 0., 0., 0., 0., 0., 0., 0., 0., 0., 0., 0., 0., 0.,\n",
       "       0., 0., 0., 0., 0., 0., 0., 0.]), array([0., 0., 0., 0., 0., 0., 0., 0., 0., 0., 0., 0., 0., 0., 0., 0., 0.,\n",
       "       0., 0., 0., 0., 0., 0., 0., 0.]), array([-0.00236238, -0.17442288,  0.06280133, -0.07010364,  0.13413529,\n",
       "        0.09106518,  0.13971886,  0.04370285,  0.08838624, -0.01537925,\n",
       "        0.0895259 , -0.02219369, -0.8627714 , -0.15097296, -0.14006113,\n",
       "       -0.06696034,  0.09514832, -0.07610164,  0.02981051,  0.20428704,\n",
       "       -0.08671191,  0.05762848,  0.1435615 , -0.1273954 , -0.005097  ],\n",
       "      dtype=float32), array([-0.06388887,  0.16104151, -0.10110112,  0.13854733, -0.11391877,\n",
       "       -0.02942462,  0.1715292 , -0.10942569,  0.02048256,  0.01760089,\n",
       "       -0.0627747 ,  0.12285125, -0.8490645 ,  0.0454467 , -0.13189879,\n",
       "        0.07689254, -0.00153977, -0.12574118, -0.02194765, -0.16618277,\n",
       "        0.03510283,  0.09743838,  0.25198093, -0.01199076, -0.03167212],\n",
       "      dtype=float32), array([-0.1446174 , -0.09619772,  0.12884265,  0.02294222, -0.00228483,\n",
       "       -0.11966308,  0.06092589,  0.00238007,  0.0428149 ,  0.0080689 ,\n",
       "        0.17861265,  0.10032248, -0.80065274,  0.03947484, -0.12512253,\n",
       "        0.08445162,  0.2290869 , -0.05945484, -0.00452674,  0.09326231,\n",
       "       -0.20983349,  0.18362051,  0.26210743,  0.10627826, -0.05413622],\n",
       "      dtype=float32), array([-0.10197677, -0.02426303, -0.10022511,  0.02754214,  0.15741138,\n",
       "        0.13271795,  0.19471277, -0.21890774,  0.05087628,  0.04847801,\n",
       "        0.01117761, -0.013905  , -0.85815436,  0.02997645, -0.09889185,\n",
       "       -0.11799998,  0.18739985, -0.08743498,  0.09708013,  0.01223581,\n",
       "       -0.00627255, -0.02663327,  0.02507379, -0.05385711, -0.16455618],\n",
       "      dtype=float32), array([-0.00242786, -0.11380259, -0.08524548, -0.14111151,  0.23967688,\n",
       "       -0.06703878,  0.07898883,  0.11870292,  0.265091  ,  0.13420598,\n",
       "        0.28417414,  0.1132551 , -0.53784233, -0.12283947, -0.16055962,\n",
       "       -0.04996761,  0.25551564, -0.14420041, -0.03305414,  0.13446058,\n",
       "       -0.35075104,  0.14811392, -0.16379271,  0.27128685, -0.11156083],\n",
       "      dtype=float32), array([-0.05057939, -0.00411662, -0.04974976, -0.02971438, -0.0053214 ,\n",
       "        0.09875136,  0.33956835, -0.15249705, -0.13430099,  0.01688988,\n",
       "       -0.18320826,  0.10002904, -0.8258328 ,  0.05159338,  0.06174828,\n",
       "        0.04441614,  0.04102046, -0.215553  ,  0.09222367, -0.05144117,\n",
       "        0.02017216,  0.02875184, -0.14070435, -0.04995127, -0.10276444],\n",
       "      dtype=float32), array([-0.08388565, -0.04225762, -0.26669404, -0.04099665, -0.07572412,\n",
       "       -0.27805525,  0.0282639 ,  0.09397162, -0.00116405,  0.18313478,\n",
       "        0.02862774, -0.42045376, -0.46472147,  0.00595777, -0.10389706,\n",
       "        0.31010562, -0.17519264,  0.16912144, -0.46415073, -0.02587037,\n",
       "        0.06561497,  0.05875901,  0.05471035, -0.00143467, -0.07373904],\n",
       "      dtype=float32), array([-0.03076035,  0.03097682,  0.13192648, -0.14384799, -0.1783449 ,\n",
       "        0.2028978 ,  0.07563423,  0.07138087,  0.16563356,  0.16811226,\n",
       "       -0.29237252,  0.05207593, -0.63921386, -0.12817042,  0.06895678,\n",
       "        0.20209822,  0.20789029, -0.3778689 , -0.0927023 , -0.11664868,\n",
       "        0.06932146,  0.01827367, -0.03762307,  0.05124515, -0.21050353],\n",
       "      dtype=float32), array([-0.00242786, -0.11380259, -0.08524548, -0.14111151,  0.23967688,\n",
       "       -0.06703878,  0.07898883,  0.11870292,  0.265091  ,  0.13420598,\n",
       "        0.28417414,  0.1132551 , -0.53784233, -0.12283947, -0.16055962,\n",
       "       -0.04996761,  0.25551564, -0.14420041, -0.03305414,  0.13446058,\n",
       "       -0.35075104,  0.14811392, -0.16379271,  0.27128685, -0.11156083],\n",
       "      dtype=float32), array([-0.11526068, -0.08748525, -0.02084829,  0.09287642,  0.05078248,\n",
       "        0.01856993,  0.02634453, -0.15735652, -0.01874283,  0.12172931,\n",
       "        0.14296351,  0.19293214, -0.8349249 , -0.11594651, -0.14059651,\n",
       "        0.07313044,  0.10940527,  0.06021799, -0.15020587, -0.07126397,\n",
       "       -0.14665441,  0.1448338 ,  0.18744546,  0.09611455, -0.05512101],\n",
       "      dtype=float32), array([-0.11950904,  0.0687208 ,  0.01580801, -0.20326567, -0.03064697,\n",
       "       -0.08353115,  0.07383778, -0.3762573 , -0.20073031, -0.00613026,\n",
       "       -0.16471772,  0.17861743, -0.6743144 ,  0.01547122, -0.12094583,\n",
       "        0.14465164,  0.24886176, -0.12062783,  0.22053622,  0.0610222 ,\n",
       "        0.04152562, -0.00672724, -0.22411811,  0.09232542, -0.07257155],\n",
       "      dtype=float32), array([-0.05822903, -0.16355586, -0.07352014, -0.15997492,  0.29376242,\n",
       "       -0.00999018,  0.04900849, -0.08787347,  0.34377712, -0.12259152,\n",
       "        0.09121025, -0.02230871, -0.6926593 , -0.13151427, -0.03318283,\n",
       "        0.0234    ,  0.08446825,  0.00941161, -0.01655442,  0.07180736,\n",
       "       -0.2508319 , -0.22641642, -0.24763198,  0.01850396, -0.11442529],\n",
       "      dtype=float32), array([-0.03076035,  0.03097682,  0.13192648, -0.14384799, -0.1783449 ,\n",
       "        0.2028978 ,  0.07563423,  0.07138087,  0.16563356,  0.16811226,\n",
       "       -0.29237252,  0.05207593, -0.63921386, -0.12817042,  0.06895678,\n",
       "        0.20209822,  0.20789029, -0.3778689 , -0.0927023 , -0.11664868,\n",
       "        0.06932146,  0.01827367, -0.03762307,  0.05124515, -0.21050353],\n",
       "      dtype=float32), array([-0.1446174 , -0.09619772,  0.12884265,  0.02294222, -0.00228483,\n",
       "       -0.11966308,  0.06092589,  0.00238007,  0.0428149 ,  0.0080689 ,\n",
       "        0.17861265,  0.10032248, -0.80065274,  0.03947484, -0.12512253,\n",
       "        0.08445162,  0.2290869 , -0.05945484, -0.00452674,  0.09326231,\n",
       "       -0.20983349,  0.18362051,  0.26210743,  0.10627826, -0.05413622],\n",
       "      dtype=float32), array([-0.31222093, -0.28535283, -0.10215775, -0.00390509,  0.10098239,\n",
       "       -0.16730964, -0.06325877, -0.12571625,  0.03926355, -0.09070984,\n",
       "        0.30829042,  0.08334246, -0.5486415 , -0.06046943, -0.31516412,\n",
       "        0.09567901,  0.16056888, -0.0145743 , -0.02556175,  0.33625984,\n",
       "       -0.22424918, -0.00151284,  0.12002743,  0.12035213, -0.09401187],\n",
       "      dtype=float32), array([-0.32270977, -0.36428833,  0.0432776 , -0.02211841,  0.06182928,\n",
       "       -0.14459473, -0.03160913, -0.15353057,  0.0234131 , -0.0672927 ,\n",
       "        0.2811131 ,  0.09603503, -0.52525336, -0.02393713, -0.35199428,\n",
       "       -0.02751474,  0.21599813,  0.0433193 ,  0.01024305,  0.3002432 ,\n",
       "       -0.17433798, -0.03136071,  0.13039128,  0.13846946, -0.10348218],\n",
       "      dtype=float32), array([-0.27338913, -0.17451766,  0.05281229,  0.00977729,  0.01685683,\n",
       "        0.05264557,  0.38370648,  0.06742065, -0.19085291, -0.11114747,\n",
       "       -0.1293816 ,  0.0714606 , -0.7621832 ,  0.01104788, -0.18953669,\n",
       "       -0.04832834,  0.05704704, -0.05578872, -0.03429912,  0.11279012,\n",
       "       -0.00374317, -0.0577964 , -0.13483079, -0.00959512, -0.07255921],\n",
       "      dtype=float32), array([-0.18881856, -0.20675816, -0.33281773,  0.16489726,  0.21135218,\n",
       "       -0.13010661,  0.17824286, -0.35472354,  0.04754885, -0.13878003,\n",
       "        0.14302647,  0.2810844 , -0.40486714,  0.04094208,  0.0389913 ,\n",
       "        0.19608007,  0.07889601, -0.01862669,  0.02218147, -0.01606374,\n",
       "       -0.11189757,  0.15495478, -0.0571734 , -0.12663348, -0.41801602],\n",
       "      dtype=float32), array([-3.30050111e-01, -2.12228209e-01, -8.10052156e-02, -1.01101540e-01,\n",
       "        1.96074635e-01, -1.28077298e-01, -7.52965584e-02, -2.19667375e-01,\n",
       "        4.11863029e-02, -9.77911204e-02,  2.15947792e-01, -2.33872590e-04,\n",
       "       -5.60805321e-01, -1.10892870e-01, -3.45778614e-01, -8.51250887e-02,\n",
       "        1.43568441e-01, -5.88826127e-02,  5.97044639e-02,  3.17545265e-01,\n",
       "       -1.93063557e-01, -1.76514998e-01, -2.37273332e-02,  2.48219515e-03,\n",
       "       -1.07189246e-01], dtype=float32), array([-0.3321022 , -0.1467748 ,  0.02616376, -0.20589958,  0.3864281 ,\n",
       "       -0.14126152, -0.10226033, -0.2703715 ,  0.37541577,  0.04569877,\n",
       "        0.28375718,  0.05685111, -0.3775755 , -0.13357188, -0.08603377,\n",
       "        0.04845896,  0.31069463, -0.04688306,  0.16833664,  0.0721046 ,\n",
       "       -0.08923778, -0.13654569, -0.02829977,  0.0624261 , -0.10837407],\n",
       "      dtype=float32), array([-0.17669614, -0.16820264, -0.14338958, -0.01503447,  0.31927913,\n",
       "        0.2647002 ,  0.00667265,  0.2671998 ,  0.04732495, -0.15799035,\n",
       "        0.15635143, -0.28459394, -0.5982554 ,  0.04240306,  0.01791932,\n",
       "        0.03114196, -0.00250543, -0.00839892,  0.14163986, -0.14641744,\n",
       "       -0.12025666,  0.0566714 , -0.32909718,  0.0492164 , -0.11242028],\n",
       "      dtype=float32), array([-0.0654851 ,  0.14522254, -0.17475525, -0.25246748,  0.25861073,\n",
       "       -0.010249  , -0.05530981, -0.25357324,  0.24771668, -0.0011227 ,\n",
       "        0.11220253, -0.10153989, -0.65929455,  0.01633226,  0.11923656,\n",
       "       -0.16687754,  0.11456564, -0.03378792,  0.12023997,  0.07032599,\n",
       "       -0.11230082, -0.33949697, -0.07257441, -0.10399719, -0.08432852],\n",
       "      dtype=float32), array([-0.16831766, -0.02476287,  0.10445596, -0.19167548,  0.09797715,\n",
       "       -0.02227323,  0.03353207, -0.1082582 ,  0.16367526, -0.0046917 ,\n",
       "        0.11422554, -0.11111553, -0.78403085, -0.20786019, -0.10905111,\n",
       "       -0.03925906,  0.10854578, -0.21116738, -0.06716068,  0.09946024,\n",
       "       -0.19701834, -0.23700869, -0.06273602,  0.07799841,  0.03362245],\n",
       "      dtype=float32), array([-0.04902158,  0.05777586,  0.02543602, -0.02800924,  0.17193425,\n",
       "        0.1023536 , -0.0170704 , -0.20046495,  0.357701  ,  0.23697916,\n",
       "        0.19633536, -0.08708031, -0.7022988 , -0.06300827,  0.18097906,\n",
       "        0.09781193,  0.13906643, -0.02882745,  0.01108944, -0.0774841 ,\n",
       "       -0.23833692, -0.05120645,  0.13330632, -0.17566957, -0.0905755 ],\n",
       "      dtype=float32), array([ 0.04465171, -0.1731172 , -0.01628751, -0.11452806,  0.32375216,\n",
       "       -0.02755725,  0.10969554, -0.11666184,  0.29412177, -0.04823791,\n",
       "        0.19485265,  0.14610069, -0.6682359 ,  0.02212024, -0.02455298,\n",
       "        0.14129484,  0.12534729,  0.05251759,  0.06431399,  0.01592671,\n",
       "       -0.27322045, -0.13009734,  0.03188542, -0.01823701, -0.3031661 ],\n",
       "      dtype=float32), array([ 7.0009511e-03,  1.0779008e-01, -1.5097328e-01, -5.7962406e-03,\n",
       "        3.8575372e-01, -3.5533294e-02,  5.0463516e-02,  9.7888932e-02,\n",
       "       -5.0860911e-04, -8.7002225e-02, -3.1895120e-02, -2.2665563e-01,\n",
       "       -7.5271052e-01,  3.7679240e-02,  1.5594274e-01,  8.1679083e-02,\n",
       "        1.2737781e-01,  9.5260143e-02,  1.7573909e-01, -9.7555108e-02,\n",
       "       -1.3330499e-02, -1.5257081e-01, -9.7823359e-02, -2.3947172e-02,\n",
       "       -2.1228972e-01], dtype=float32), array([ 0.19056836,  0.07584108, -0.07718377,  0.06499483,  0.08927339,\n",
       "       -0.04650081,  0.1423993 , -0.11716983,  0.12027822,  0.02156746,\n",
       "        0.01437365, -0.11205477, -0.8765482 , -0.1751386 , -0.06008393,\n",
       "        0.05792829,  0.0995973 , -0.07675337,  0.09648523, -0.13164501,\n",
       "        0.01253455, -0.06971995,  0.08516627,  0.05910727, -0.10828424],\n",
       "      dtype=float32), array([-0.02300091,  0.18831374, -0.27705055,  0.01344223, -0.04367103,\n",
       "       -0.16060127,  0.23071207, -0.03669528, -0.03318798,  0.07122809,\n",
       "        0.00268449,  0.01357931, -0.82750756, -0.09969898, -0.0474447 ,\n",
       "        0.00173312,  0.00684755, -0.13470167,  0.02398873, -0.21965003,\n",
       "       -0.06233591, -0.11205962, -0.1124037 ,  0.07244529, -0.01133323],\n",
       "      dtype=float32), array([-0.1102031 ,  0.07658727, -0.04022837,  0.05150237,  0.11528444,\n",
       "        0.06145638, -0.24484493, -0.38206893,  0.14691652, -0.02521564,\n",
       "       -0.12740576, -0.1975062 , -0.5469298 ,  0.17727134, -0.25786382,\n",
       "        0.079622  ,  0.19932403, -0.1120863 , -0.09802899, -0.23720406,\n",
       "        0.0696529 , -0.19333503, -0.18002446, -0.19127835, -0.21089974],\n",
       "      dtype=float32), array([-0.1446174 , -0.09619772,  0.12884265,  0.02294222, -0.00228483,\n",
       "       -0.11966308,  0.06092589,  0.00238007,  0.0428149 ,  0.0080689 ,\n",
       "        0.17861265,  0.10032248, -0.80065274,  0.03947484, -0.12512253,\n",
       "        0.08445162,  0.2290869 , -0.05945484, -0.00452674,  0.09326231,\n",
       "       -0.20983349,  0.18362051,  0.26210743,  0.10627826, -0.05413622],\n",
       "      dtype=float32), array([0., 0., 0., 0., 0., 0., 0., 0., 0., 0., 0., 0., 0., 0., 0., 0., 0.,\n",
       "       0., 0., 0., 0., 0., 0., 0., 0.])]),\n",
       "       list([array([ 0.12666173,  0.07423831, -0.06347747,  0.12009914,  0.00494727,\n",
       "       -0.04096688,  0.11895029, -0.31437528,  0.5043759 , -0.07554443,\n",
       "       -0.03931424,  0.08330119, -0.4284876 , -0.09521088,  0.20319776,\n",
       "        0.0095664 ,  0.14087713,  0.2766577 ,  0.3684327 ,  0.16328377,\n",
       "       -0.2401503 , -0.07380649, -0.0827281 , -0.03368459, -0.11307541],\n",
       "      dtype=float32), array([-0.10155547, -0.03435952, -0.19401197,  0.09675525,  0.19495663,\n",
       "       -0.18003818,  0.20218493, -0.27453098,  0.08115341, -0.17695001,\n",
       "        0.07124743,  0.1435468 , -0.6506174 ,  0.17226176, -0.03217633,\n",
       "        0.0327128 ,  0.07793694,  0.27180198,  0.15289298,  0.12130909,\n",
       "       -0.08917708, -0.07953467, -0.32208988,  0.00115191,  0.01048722],\n",
       "      dtype=float32), array([ 0.17950343, -0.00619941,  0.21709605, -0.04355174, -0.09577759,\n",
       "       -0.20707992,  0.33092266, -0.09432356, -0.16105396, -0.3816945 ,\n",
       "       -0.10348395,  0.0175537 , -0.44352648,  0.0660582 , -0.09832334,\n",
       "       -0.03749249, -0.26968658,  0.1142819 , -0.10868032,  0.10294048,\n",
       "       -0.27023485,  0.19616756, -0.26286936, -0.18113148,  0.17842363],\n",
       "      dtype=float32), array([-0.01531458,  0.2360792 , -0.01585621,  0.17829119, -0.19448343,\n",
       "       -0.05163808,  0.06175058, -0.322237  ,  0.10338258, -0.00280936,\n",
       "       -0.30840194,  0.10777991, -0.24989162, -0.14227247, -0.22463073,\n",
       "        0.5092255 ,  0.09028795, -0.23945305,  0.20984918, -0.1652079 ,\n",
       "        0.078801  , -0.08505055,  0.24253254, -0.20258294,  0.0620223 ],\n",
       "      dtype=float32), array([-2.7030651e-02,  1.5670086e-01,  1.6740625e-01, -9.7964659e-02,\n",
       "        5.0075021e-02, -9.2618480e-02,  1.6714339e-01, -2.0521396e-01,\n",
       "       -3.8426838e-04, -1.9253609e-01,  4.5819371e-03,  1.1661434e-01,\n",
       "       -6.5355390e-01,  3.7040877e-01,  8.8938504e-02, -1.7439038e-01,\n",
       "        9.2853099e-02,  4.1972131e-02, -8.6857393e-02, -6.6222161e-02,\n",
       "       -3.0769277e-01,  1.5780225e-01,  1.5827148e-01, -9.5394753e-02,\n",
       "       -1.6300288e-01], dtype=float32), array([-0.00167389, -0.12922779,  0.10626188, -0.03977994,  0.20079827,\n",
       "       -0.13746776,  0.02121351, -0.05504236,  0.22599682, -0.24260847,\n",
       "       -0.15390593,  0.12459862, -0.3990844 ,  0.35337102, -0.06244387,\n",
       "        0.35741872,  0.11410993,  0.3898325 ,  0.15129742,  0.2104485 ,\n",
       "       -0.30018547, -0.12314337,  0.01235289, -0.07140023,  0.00990627],\n",
       "      dtype=float32), array([0., 0., 0., 0., 0., 0., 0., 0., 0., 0., 0., 0., 0., 0., 0., 0., 0.,\n",
       "       0., 0., 0., 0., 0., 0., 0., 0.])]),\n",
       "       list([array([-0.2805827 , -0.09761424,  0.06572445, -0.54989135, -0.27269918,\n",
       "       -0.05348107, -0.09029858, -0.19425294,  0.20235278,  0.00666397,\n",
       "       -0.15900172, -0.0258513 , -0.22159149,  0.06274161,  0.14261897,\n",
       "        0.07503284,  0.11484983, -0.02576394,  0.25187752,  0.3946754 ,\n",
       "       -0.10033084,  0.13695699, -0.03526785, -0.2687886 ,  0.02452421],\n",
       "      dtype=float32), array([ 0.01093986,  0.0452574 , -0.22056553, -0.15888564, -0.02567845,\n",
       "        0.10994944, -0.11005309,  0.14706469, -0.00496272,  0.15318654,\n",
       "       -0.05808645,  0.01324348, -0.8035846 ,  0.12403254, -0.20279346,\n",
       "        0.12186795,  0.1898953 , -0.13516244, -0.03876767, -0.04934879,\n",
       "       -0.02736338,  0.22503701, -0.1029902 , -0.00886632,  0.1138315 ],\n",
       "      dtype=float32), array([-0.25149548, -0.12672548, -0.05038225, -0.22713973,  0.25870264,\n",
       "        0.29887137,  0.10328449, -0.02727642, -0.04175631, -0.24418497,\n",
       "        0.03547145, -0.35985523, -0.573954  , -0.16349725,  0.08546058,\n",
       "        0.25943345,  0.14112474, -0.11918315,  0.07103865,  0.02512485,\n",
       "       -0.09242332, -0.09225196, -0.09439396,  0.02928738, -0.09690387],\n",
       "      dtype=float32), array([-0.04407448, -0.17503607,  0.10012238, -0.21771933,  0.00155297,\n",
       "       -0.02451311,  0.01179326, -0.10385167, -0.15307851,  0.00995749,\n",
       "        0.19257623,  0.08981579, -0.7526992 , -0.12239494, -0.07718049,\n",
       "        0.1247855 ,  0.11598636, -0.21031328, -0.11888503,  0.2171381 ,\n",
       "       -0.21333194,  0.13633332,  0.1922575 ,  0.02097133, -0.07905357],\n",
       "      dtype=float32), array([0., 0., 0., 0., 0., 0., 0., 0., 0., 0., 0., 0., 0., 0., 0., 0., 0.,\n",
       "       0., 0., 0., 0., 0., 0., 0., 0.]), array([0., 0., 0., 0., 0., 0., 0., 0., 0., 0., 0., 0., 0., 0., 0., 0., 0.,\n",
       "       0., 0., 0., 0., 0., 0., 0., 0.]), array([0., 0., 0., 0., 0., 0., 0., 0., 0., 0., 0., 0., 0., 0., 0., 0., 0.,\n",
       "       0., 0., 0., 0., 0., 0., 0., 0.]), array([0., 0., 0., 0., 0., 0., 0., 0., 0., 0., 0., 0., 0., 0., 0., 0., 0.,\n",
       "       0., 0., 0., 0., 0., 0., 0., 0.]), array([-0.26893988, -0.18962166,  0.00434306, -0.15611592,  0.09450351,\n",
       "        0.14416717, -0.092401  , -0.21045849,  0.16851993,  0.04165298,\n",
       "        0.18886217, -0.00528154, -0.56395423, -0.1371312 , -0.20818216,\n",
       "       -0.24234803,  0.1386522 , -0.19777511,  0.11173338,  0.27353394,\n",
       "       -0.23146296,  0.15425552,  0.16221859,  0.03031264, -0.17256147],\n",
       "      dtype=float32), array([-4.13061887e-01, -2.21991256e-01, -1.80632044e-02, -5.90532459e-02,\n",
       "        1.49949998e-01, -1.34655954e-02, -7.89882690e-02, -2.70458937e-01,\n",
       "        1.24694481e-01,  6.41665235e-02,  6.88629299e-02,  6.03255406e-02,\n",
       "       -2.95615643e-01, -1.53205439e-01, -4.69616324e-01, -1.75222382e-01,\n",
       "       -2.61687785e-02,  2.74290251e-05,  1.04046196e-01,  2.77133644e-01,\n",
       "       -2.13111699e-01, -1.05725728e-01,  3.17085594e-01,  3.70844863e-02,\n",
       "       -1.93017647e-01], dtype=float32), array([-0.26893988, -0.18962166,  0.00434306, -0.15611592,  0.09450351,\n",
       "        0.14416717, -0.092401  , -0.21045849,  0.16851993,  0.04165298,\n",
       "        0.18886217, -0.00528154, -0.56395423, -0.1371312 , -0.20818216,\n",
       "       -0.24234803,  0.1386522 , -0.19777511,  0.11173338,  0.27353394,\n",
       "       -0.23146296,  0.15425552,  0.16221859,  0.03031264, -0.17256147],\n",
       "      dtype=float32), array([-4.13061887e-01, -2.21991256e-01, -1.80632044e-02, -5.90532459e-02,\n",
       "        1.49949998e-01, -1.34655954e-02, -7.89882690e-02, -2.70458937e-01,\n",
       "        1.24694481e-01,  6.41665235e-02,  6.88629299e-02,  6.03255406e-02,\n",
       "       -2.95615643e-01, -1.53205439e-01, -4.69616324e-01, -1.75222382e-01,\n",
       "       -2.61687785e-02,  2.74290251e-05,  1.04046196e-01,  2.77133644e-01,\n",
       "       -2.13111699e-01, -1.05725728e-01,  3.17085594e-01,  3.70844863e-02,\n",
       "       -1.93017647e-01], dtype=float32), array([-0.04407448, -0.17503607,  0.10012238, -0.21771933,  0.00155297,\n",
       "       -0.02451311,  0.01179326, -0.10385167, -0.15307851,  0.00995749,\n",
       "        0.19257623,  0.08981579, -0.7526992 , -0.12239494, -0.07718049,\n",
       "        0.1247855 ,  0.11598636, -0.21031328, -0.11888503,  0.2171381 ,\n",
       "       -0.21333194,  0.13633332,  0.1922575 ,  0.02097133, -0.07905357],\n",
       "      dtype=float32), array([ 0.10791775, -0.03888725, -0.1199723 ,  0.01327482,  0.11597057,\n",
       "       -0.175042  , -0.03906553, -0.29556286,  0.42291054, -0.23723748,\n",
       "        0.20660602,  0.16522557, -0.28541455, -0.33733553,  0.11432216,\n",
       "        0.3204674 ,  0.12078965, -0.02142502,  0.01482367,  0.20311171,\n",
       "       -0.13018371, -0.2687192 ,  0.18153419, -0.05294404, -0.20424174],\n",
       "      dtype=float32), array([-0.18748844, -0.36030453, -0.0412422 , -0.15847239,  0.24977158,\n",
       "        0.0261546 ,  0.17505004, -0.34588322,  0.13965167,  0.00186334,\n",
       "        0.0615119 ,  0.10805029, -0.5659679 , -0.14212063, -0.05266972,\n",
       "        0.15477808,  0.1279526 , -0.01139466,  0.07307861,  0.12963434,\n",
       "       -0.2767203 , -0.02654707,  0.10271303,  0.12399587, -0.22539456],\n",
       "      dtype=float32), array([ 0.0203138 , -0.22048303, -0.08255085, -0.01506621, -0.01783244,\n",
       "        0.31251642,  0.17075914, -0.32220888,  0.0056801 ,  0.06495116,\n",
       "       -0.05911447, -0.01828098, -0.68988496, -0.25973862,  0.02198817,\n",
       "        0.01856822,  0.28949982, -0.01253485,  0.07865736,  0.19119109,\n",
       "        0.01197217,  0.12027591,  0.0431184 , -0.0182666 , -0.13094702],\n",
       "      dtype=float32), array([-0.15072669, -0.01336028,  0.0476356 ,  0.04111763,  0.21725176,\n",
       "        0.11894616, -0.02540331, -0.31130588, -0.042314  ,  0.10237906,\n",
       "        0.01726299,  0.11138292, -0.66485745, -0.25804856, -0.13570784,\n",
       "        0.03655153,  0.10737983, -0.23552856, -0.00722834,  0.16829354,\n",
       "        0.0540273 ,  0.26264364,  0.29391912,  0.04619084, -0.0713085 ],\n",
       "      dtype=float32), array([-0.05048951, -0.04418367, -0.00946232,  0.0863082 ,  0.1695681 ,\n",
       "       -0.00689053,  0.16744475, -0.21210873,  0.29389203, -0.00621525,\n",
       "        0.21101734,  0.0792914 , -0.7674482 , -0.11664613,  0.16997232,\n",
       "        0.17102566,  0.07069578, -0.01054183, -0.01698701,  0.14880306,\n",
       "       -0.16621307, -0.08146944,  0.16197114,  0.00163198,  0.01183296],\n",
       "      dtype=float32), array([-0.25665304,  0.05729071, -0.01324283,  0.12182648, -0.01509448,\n",
       "        0.08693221,  0.06980318, -0.2717835 ,  0.1772191 ,  0.17786783,\n",
       "       -0.02054166, -0.04274411, -0.7366846 , -0.12464958, -0.03473312,\n",
       "        0.00904794,  0.17210862, -0.16543907,  0.031052  , -0.06433696,\n",
       "       -0.02999517,  0.07472111,  0.31139898,  0.19727795,  0.00421874],\n",
       "      dtype=float32), array([ 0.07162062, -0.1168911 ,  0.16825275,  0.24790251, -0.05395177,\n",
       "        0.19078502,  0.23629841, -0.11678285,  0.20323929, -0.14449538,\n",
       "       -0.04599392,  0.2149305 , -0.509524  , -0.29573935, -0.15497471,\n",
       "        0.11533597,  0.10968838,  0.00574977,  0.26246902,  0.19929732,\n",
       "       -0.23881726,  0.06563772,  0.24077371,  0.09964471,  0.19454744],\n",
       "      dtype=float32), array([-0.0954178 ,  0.08959052,  0.0952393 ,  0.27612963, -0.10625318,\n",
       "       -0.09984879, -0.17215309, -0.6001394 ,  0.11229565, -0.10130378,\n",
       "       -0.31430164,  0.2412393 , -0.26434302, -0.14292373,  0.07479856,\n",
       "        0.19867542,  0.1691991 ,  0.04659382,  0.18280262,  0.12246589,\n",
       "        0.03128833,  0.08497613,  0.15240438,  0.13221064, -0.20770368],\n",
       "      dtype=float32), array([-0.14360788, -0.23374753, -0.10530748, -0.07514481,  0.18542814,\n",
       "        0.22109285, -0.0317364 , -0.2339109 ,  0.20188859, -0.04262755,\n",
       "        0.22351952, -0.01075179, -0.6763417 , -0.13084748, -0.07211268,\n",
       "       -0.05642588,  0.26950356, -0.07229768,  0.10531229,  0.2129239 ,\n",
       "       -0.19243424,  0.01768652,  0.00504385,  0.04105622, -0.1416978 ],\n",
       "      dtype=float32), array([ 0.03905952,  0.16873117, -0.08086859, -0.15707585, -0.0858694 ,\n",
       "        0.21408786,  0.1607525 ,  0.00242973, -0.00349263, -0.05464362,\n",
       "        0.00665134,  0.0999487 , -0.7072602 ,  0.13921468,  0.20328818,\n",
       "       -0.04164628, -0.07499824, -0.18559179,  0.11010119,  0.06180238,\n",
       "       -0.14649653,  0.15200357,  0.4205921 , -0.08044574,  0.01002048],\n",
       "      dtype=float32), array([-0.08088944, -0.1080878 ,  0.17981175,  0.04903505, -0.01452169,\n",
       "        0.1543327 ,  0.14205903,  0.10619457,  0.30885425, -0.11233389,\n",
       "        0.17025119, -0.0048153 , -0.72603476, -0.12974311,  0.11093012,\n",
       "        0.03736264,  0.17246492, -0.00193795,  0.07530666,  0.07612906,\n",
       "       -0.33360034,  0.16034532,  0.11142207, -0.06232242,  0.0485456 ],\n",
       "      dtype=float32), array([ 0.04658534,  0.10400971, -0.08695111,  0.02676665, -0.05532276,\n",
       "        0.02867039,  0.29596674, -0.00445161,  0.01915681,  0.03252564,\n",
       "        0.00690583,  0.0476225 , -0.8515655 , -0.11878587, -0.13663088,\n",
       "        0.06515192,  0.08088848, -0.24883382,  0.01870135, -0.12804186,\n",
       "       -0.09669157,  0.10973628, -0.03141   ,  0.10643544, -0.04895819],\n",
       "      dtype=float32), array([ 0.03315891, -0.08205324, -0.12187802, -0.2543887 , -0.16155511,\n",
       "       -0.1380701 , -0.02206232,  0.11569835,  0.24384691,  0.11647534,\n",
       "        0.08497041, -0.09753876, -0.75864494,  0.16475853,  0.08807615,\n",
       "       -0.11325147,  0.02459144,  0.04647018,  0.10405695, -0.00609038,\n",
       "       -0.05733003, -0.0233396 , -0.22576456, -0.25079903, -0.09592114],\n",
       "      dtype=float32), array([0., 0., 0., 0., 0., 0., 0., 0., 0., 0., 0., 0., 0., 0., 0., 0., 0.,\n",
       "       0., 0., 0., 0., 0., 0., 0., 0.])]),\n",
       "       list([array([0., 0., 0., 0., 0., 0., 0., 0., 0., 0., 0., 0., 0., 0., 0., 0., 0.,\n",
       "       0., 0., 0., 0., 0., 0., 0., 0.]), array([-1.7552924e-01, -6.4270481e-02, -6.0967699e-02,  2.7841248e-02,\n",
       "        9.9159308e-02, -2.9117970e-02,  2.3079626e-01, -4.2473268e-02,\n",
       "       -1.6420949e-02,  5.4085173e-02,  3.5046279e-02,  8.1188463e-02,\n",
       "       -8.3428890e-01,  4.9642257e-02, -8.1657037e-02, -2.2612950e-04,\n",
       "        1.2690191e-01, -1.5386862e-02,  1.0689172e-01, -7.1096100e-02,\n",
       "        2.2358744e-01,  1.4632779e-01, -1.0009645e-01, -2.3887774e-01,\n",
       "       -8.5580155e-02], dtype=float32), array([-0.17689551, -0.1733842 , -0.34903207, -0.15611722,  0.09492861,\n",
       "        0.08717234, -0.36208788, -0.1355006 ,  0.1767483 , -0.15770757,\n",
       "        0.27381027, -0.08529723, -0.2531285 , -0.11654191, -0.05221363,\n",
       "       -0.16866383,  0.15040258, -0.19025542, -0.1296098 ,  0.44124332,\n",
       "       -0.24482682,  0.0274848 ,  0.07238621, -0.11573587, -0.17187107],\n",
       "      dtype=float32), array([ 0.06105014,  0.13058683,  0.09961057, -0.08227234,  0.16308644,\n",
       "        0.04772377,  0.23782812,  0.17981535,  0.2257204 ,  0.15285793,\n",
       "       -0.01106438,  0.16450746, -0.79474497, -0.04744468, -0.00182215,\n",
       "        0.0010172 ,  0.02732023, -0.17677563, -0.04320257,  0.01005432,\n",
       "       -0.07467421, -0.17698495,  0.1597002 ,  0.0186932 , -0.1125439 ],\n",
       "      dtype=float32), array([-0.41446114, -0.14448652,  0.02184986, -0.2935444 ,  0.03543206,\n",
       "       -0.01608179, -0.3430166 , -0.47324738,  0.19251879, -0.07464224,\n",
       "       -0.02266989, -0.08401157, -0.00495524,  0.03160142, -0.20304339,\n",
       "        0.21870315,  0.11362305, -0.11013512,  0.11525645,  0.22160515,\n",
       "       -0.12048835,  0.24550106,  0.0349788 , -0.09378993, -0.25501686],\n",
       "      dtype=float32), array([-0.00236238, -0.17442288,  0.06280133, -0.07010364,  0.13413529,\n",
       "        0.09106518,  0.13971886,  0.04370285,  0.08838624, -0.01537925,\n",
       "        0.0895259 , -0.02219369, -0.8627714 , -0.15097296, -0.14006113,\n",
       "       -0.06696034,  0.09514832, -0.07610164,  0.02981051,  0.20428704,\n",
       "       -0.08671191,  0.05762848,  0.1435615 , -0.1273954 , -0.005097  ],\n",
       "      dtype=float32), array([-0.12660958, -0.17938933, -0.11368724,  0.04538378,  0.1271455 ,\n",
       "        0.24558407,  0.03312107, -0.2754524 ,  0.11287714,  0.00704967,\n",
       "        0.23434992, -0.06646889, -0.72642505,  0.03040015, -0.08548857,\n",
       "       -0.11668643,  0.30835086, -0.0317503 , -0.02400185,  0.09679689,\n",
       "       -0.13411272, -0.06066219,  0.047711  , -0.10793413, -0.14163236],\n",
       "      dtype=float32), array([-0.10465045, -0.26101694, -0.19522014,  0.16104703, -0.11971053,\n",
       "        0.00073728, -0.07253943, -0.4567451 , -0.02469707, -0.08607534,\n",
       "       -0.06753473,  0.2197241 ,  0.04440092, -0.07479236,  0.00555506,\n",
       "        0.30577648,  0.08248217,  0.16956213,  0.50587255, -0.05820121,\n",
       "       -0.19747536, -0.08066604,  0.12021399,  0.0955606 , -0.32058138],\n",
       "      dtype=float32), array([-3.5015836e-01, -7.9808153e-02,  6.4495832e-02, -1.5733266e-01,\n",
       "       -2.3168735e-02, -2.3222134e-01, -3.2053348e-01, -4.2162156e-01,\n",
       "        2.5366881e-01, -2.6435423e-01,  1.5882669e-01, -5.0879192e-02,\n",
       "        1.7713559e-01, -7.7518836e-02, -7.9955850e-03,  1.1433545e-01,\n",
       "        4.0645406e-02, -1.5675040e-01,  1.4320761e-01,  2.6264149e-01,\n",
       "       -1.9727935e-01,  2.5793505e-01, -2.9002815e-03, -4.2074104e-04,\n",
       "       -2.7092111e-01], dtype=float32), array([-0.22368464,  0.01249867, -0.04054747,  0.10700663, -0.18623699,\n",
       "       -0.16006266, -0.2588984 , -0.56205267,  0.22250661, -0.38040563,\n",
       "        0.05648092,  0.04437546, -0.05849894, -0.2594315 , -0.1661713 ,\n",
       "        0.18609136,  0.0740033 , -0.11555458,  0.3122197 ,  0.00692911,\n",
       "       -0.16751058,  0.03756466,  0.01934587, -0.01975675, -0.1205736 ],\n",
       "      dtype=float32), array([-3.5015836e-01, -7.9808153e-02,  6.4495832e-02, -1.5733266e-01,\n",
       "       -2.3168735e-02, -2.3222134e-01, -3.2053348e-01, -4.2162156e-01,\n",
       "        2.5366881e-01, -2.6435423e-01,  1.5882669e-01, -5.0879192e-02,\n",
       "        1.7713559e-01, -7.7518836e-02, -7.9955850e-03,  1.1433545e-01,\n",
       "        4.0645406e-02, -1.5675040e-01,  1.4320761e-01,  2.6264149e-01,\n",
       "       -1.9727935e-01,  2.5793505e-01, -2.9002815e-03, -4.2074104e-04,\n",
       "       -2.7092111e-01], dtype=float32), array([ 7.18959793e-02, -4.41038609e-02,  4.11672555e-02,  3.40010272e-03,\n",
       "        5.31996429e-01,  6.25266805e-02, -6.63112029e-02, -3.37299928e-02,\n",
       "        9.99914706e-02, -8.65864977e-02,  8.62856209e-02, -2.80407757e-01,\n",
       "       -7.10779130e-01,  4.31888126e-04,  1.93522889e-02,  8.21853131e-02,\n",
       "        1.03917718e-01, -2.75484417e-02,  1.99443355e-01, -1.02415845e-01,\n",
       "       -8.83245990e-02, -3.74075957e-02, -4.54391390e-02,  8.46619084e-02,\n",
       "       -5.05191535e-02], dtype=float32), array([-0.17689551, -0.1733842 , -0.34903207, -0.15611722,  0.09492861,\n",
       "        0.08717234, -0.36208788, -0.1355006 ,  0.1767483 , -0.15770757,\n",
       "        0.27381027, -0.08529723, -0.2531285 , -0.11654191, -0.05221363,\n",
       "       -0.16866383,  0.15040258, -0.19025542, -0.1296098 ,  0.44124332,\n",
       "       -0.24482682,  0.0274848 ,  0.07238621, -0.11573587, -0.17187107],\n",
       "      dtype=float32), array([-0.07348414, -0.2983645 ,  0.04717626,  0.06661197,  0.2543803 ,\n",
       "        0.11177696,  0.09745799,  0.14911139, -0.01195229, -0.09509839,\n",
       "        0.17601556, -0.2392859 , -0.6834969 , -0.07928966, -0.0503506 ,\n",
       "        0.08766142,  0.18426333, -0.02368456,  0.24227722,  0.12371469,\n",
       "       -0.09603318, -0.07762279,  0.23456278,  0.08388291, -0.15185082],\n",
       "      dtype=float32), array([-0.00236238, -0.17442288,  0.06280133, -0.07010364,  0.13413529,\n",
       "        0.09106518,  0.13971886,  0.04370285,  0.08838624, -0.01537925,\n",
       "        0.0895259 , -0.02219369, -0.8627714 , -0.15097296, -0.14006113,\n",
       "       -0.06696034,  0.09514832, -0.07610164,  0.02981051,  0.20428704,\n",
       "       -0.08671191,  0.05762848,  0.1435615 , -0.1273954 , -0.005097  ],\n",
       "      dtype=float32), array([-0.07174277,  0.15015832, -0.03014651, -0.08935431,  0.06569249,\n",
       "        0.02412786,  0.22233719, -0.15557444,  0.00959322, -0.00269624,\n",
       "       -0.14915632,  0.02035622, -0.8839392 ,  0.0142888 ,  0.12257839,\n",
       "       -0.00181109,  0.08874013, -0.10418788, -0.03323406, -0.13672954,\n",
       "       -0.05785294, -0.05810427,  0.03401969,  0.1355178 ,  0.02756661],\n",
       "      dtype=float32), array([-0.00459433, -0.07680589,  0.10178992, -0.05786924,  0.21665244,\n",
       "       -0.03963396,  0.07176252, -0.34695354,  0.29084787,  0.05942329,\n",
       "        0.15396099,  0.24711928, -0.540307  , -0.06471402, -0.11249653,\n",
       "        0.05091097,  0.04087079, -0.08299878, -0.02840788,  0.26219702,\n",
       "       -0.2808077 , -0.10910907,  0.0467261 ,  0.06805493, -0.38260344],\n",
       "      dtype=float32), array([-3.25890452e-01, -3.60225171e-01, -1.04749888e-01, -7.85795674e-02,\n",
       "        1.21318914e-01, -7.52511842e-05, -1.34418011e-01, -3.18341523e-01,\n",
       "        1.47572875e-01, -1.62533462e-01,  2.68694490e-01,  3.60203758e-02,\n",
       "       -3.46328288e-01, -1.28591180e-01, -2.00522572e-01, -1.53260306e-01,\n",
       "        1.68832093e-01, -5.63874543e-02,  9.98452306e-02,  1.84348136e-01,\n",
       "       -3.48494321e-01,  1.13660626e-01,  1.16699494e-01, -8.12581554e-02,\n",
       "       -2.46305063e-01], dtype=float32), array([-0.04840184,  0.02564643, -0.14263716, -0.13906807,  0.08264069,\n",
       "        0.24120249, -0.01145336, -0.00795011,  0.07588841,  0.09110665,\n",
       "        0.04908426,  0.13808696, -0.80863774, -0.10295855, -0.08430205,\n",
       "        0.04306019,  0.11017524, -0.2478087 ,  0.03251208, -0.04280074,\n",
       "       -0.21055672,  0.16130456,  0.00923516,  0.15559447, -0.10969774],\n",
       "      dtype=float32), array([ 0.09485117, -0.04201786, -0.10074782,  0.04566525,  0.17612231,\n",
       "        0.15158108,  0.22543283, -0.04907188,  0.1684727 ,  0.03584665,\n",
       "       -0.09035476,  0.13774338, -0.81797016, -0.07163206, -0.03705681,\n",
       "        0.26735565,  0.14509098, -0.08247285, -0.05034962,  0.10420302,\n",
       "        0.09206969,  0.06112073,  0.02378724,  0.01889294, -0.10739   ],\n",
       "      dtype=float32), array([ 0.03402078, -0.08208644, -0.05831652, -0.07816217,  0.1092283 ,\n",
       "        0.25250876, -0.23018599,  0.05000247,  0.11824905, -0.16297172,\n",
       "        0.00852123,  0.08008451, -0.7358185 , -0.3517129 , -0.04791853,\n",
       "        0.02801981,  0.05008207,  0.0637555 ,  0.12521963,  0.2795951 ,\n",
       "       -0.03310182,  0.16570932,  0.05774729,  0.05950321,  0.01786399],\n",
       "      dtype=float32), array([-0.04840184,  0.02564643, -0.14263716, -0.13906807,  0.08264069,\n",
       "        0.24120249, -0.01145336, -0.00795011,  0.07588841,  0.09110665,\n",
       "        0.04908426,  0.13808696, -0.80863774, -0.10295855, -0.08430205,\n",
       "        0.04306019,  0.11017524, -0.2478087 ,  0.03251208, -0.04280074,\n",
       "       -0.21055672,  0.16130456,  0.00923516,  0.15559447, -0.10969774],\n",
       "      dtype=float32), array([-0.25665304,  0.05729071, -0.01324283,  0.12182648, -0.01509448,\n",
       "        0.08693221,  0.06980318, -0.2717835 ,  0.1772191 ,  0.17786783,\n",
       "       -0.02054166, -0.04274411, -0.7366846 , -0.12464958, -0.03473312,\n",
       "        0.00904794,  0.17210862, -0.16543907,  0.031052  , -0.06433696,\n",
       "       -0.02999517,  0.07472111,  0.31139898,  0.19727795,  0.00421874],\n",
       "      dtype=float32), array([-0.05617992,  0.19687903, -0.23801117,  0.04395926,  0.05171356,\n",
       "        0.01265238,  0.20890895,  0.0274422 ,  0.06523353,  0.13626483,\n",
       "       -0.13475023, -0.0164572 , -0.83134884, -0.04401026,  0.0076474 ,\n",
       "        0.06369249,  0.0653695 , -0.14971304,  0.06677268, -0.14773576,\n",
       "        0.14148661,  0.0706536 , -0.11268278,  0.11163843, -0.10335725],\n",
       "      dtype=float32), array([-8.52956728e-04,  9.34116691e-02,  1.10164598e-01, -1.15668856e-01,\n",
       "       -1.92534197e-02, -5.99287674e-02,  3.08376104e-01,  1.92198697e-02,\n",
       "        3.74526083e-02, -6.39638081e-02,  4.35943492e-02,  1.23090856e-01,\n",
       "       -8.64117146e-01,  1.17401190e-01,  5.66459894e-02, -3.65060940e-02,\n",
       "        1.40610188e-01, -9.17817578e-02, -8.94084126e-02, -8.69891569e-02,\n",
       "       -1.45174995e-01,  3.10848337e-02,  1.22594656e-02, -4.66740504e-02,\n",
       "       -1.03125788e-01], dtype=float32), array([ 0.01788356,  0.05108583,  0.11322977, -0.0836399 , -0.01706461,\n",
       "        0.0712854 ,  0.34178624,  0.02763175,  0.0711646 , -0.00551373,\n",
       "       -0.17786011, -0.0440323 , -0.846424  ,  0.0620628 ,  0.08352451,\n",
       "        0.00770191, -0.00914201, -0.1785092 , -0.10358345, -0.1630192 ,\n",
       "       -0.10424878,  0.02558348,  0.03137849,  0.08083797, -0.00389856],\n",
       "      dtype=float32), array([-0.19190842, -0.00610877, -0.0353791 ,  0.00424309,  0.11992171,\n",
       "        0.28727353,  0.12432198, -0.3124116 ,  0.07785371,  0.24882318,\n",
       "       -0.13930646,  0.06862475, -0.6702466 , -0.13713147, -0.0081631 ,\n",
       "       -0.01676185,  0.11236281, -0.05690822,  0.01946758, -0.0254594 ,\n",
       "        0.00415937,  0.04509114,  0.37938815,  0.16691244,  0.02627257],\n",
       "      dtype=float32), array([-0.25665304,  0.05729071, -0.01324283,  0.12182648, -0.01509448,\n",
       "        0.08693221,  0.06980318, -0.2717835 ,  0.1772191 ,  0.17786783,\n",
       "       -0.02054166, -0.04274411, -0.7366846 , -0.12464958, -0.03473312,\n",
       "        0.00904794,  0.17210862, -0.16543907,  0.031052  , -0.06433696,\n",
       "       -0.02999517,  0.07472111,  0.31139898,  0.19727795,  0.00421874],\n",
       "      dtype=float32), array([-2.43098482e-01, -1.03127122e-01,  3.06951534e-02,  1.60379961e-01,\n",
       "        1.35994598e-01,  6.93128854e-02,  1.06637292e-01, -1.83516517e-01,\n",
       "       -4.86119539e-02,  1.51481569e-01,  6.89043701e-02,  1.81107983e-01,\n",
       "       -6.26081228e-01, -1.01010948e-01, -9.68095884e-02,  3.71017552e-04,\n",
       "       -2.23369487e-02, -1.51806846e-01, -1.14379816e-01, -2.77348366e-02,\n",
       "       -3.58626433e-02,  3.27513069e-01,  4.35625672e-01,  6.31192550e-02,\n",
       "       -1.45407990e-01], dtype=float32), array([-0.07768495, -0.2720529 ,  0.03248057, -0.02655517,  0.22032873,\n",
       "        0.0486779 ,  0.21620509,  0.16071948,  0.16125584, -0.07445989,\n",
       "        0.09626219,  0.00172893, -0.7729256 , -0.12696654, -0.01764408,\n",
       "        0.12337925,  0.05109264, -0.12020991, -0.14314064,  0.25631064,\n",
       "       -0.10480201, -0.02082852, -0.07100495, -0.06652375,  0.02621618],\n",
       "      dtype=float32), array([ 0.04404172,  0.02384553,  0.1843313 , -0.1415279 ,  0.03392563,\n",
       "       -0.05475475,  0.20901509,  0.17603353,  0.18382116, -0.07374649,\n",
       "        0.01763002,  0.03680657, -0.7388832 , -0.06997228, -0.14614671,\n",
       "        0.16230409, -0.10445885, -0.11445217, -0.06254661,  0.11169612,\n",
       "       -0.29224262,  0.1858808 , -0.21387945, -0.13340794,  0.03633876],\n",
       "      dtype=float32), array([-0.22041227, -0.19799188,  0.14055566,  0.04430467,  0.25828823,\n",
       "       -0.03840482, -0.07747192,  0.03437293, -0.06781188, -0.14614743,\n",
       "        0.31275025, -0.17685965, -0.53918606, -0.14626144, -0.05547605,\n",
       "        0.02967391,  0.17066382, -0.14703773,  0.18548623,  0.13811277,\n",
       "       -0.18012008,  0.17845105,  0.4018302 , -0.10910598, -0.04604163],\n",
       "      dtype=float32), array([-0.0596644 ,  0.2744784 ,  0.05288173,  0.09426975,  0.03611138,\n",
       "        0.02418072,  0.02187355, -0.24988073,  0.13398318,  0.05834247,\n",
       "        0.01742622,  0.22865438, -0.66899544, -0.10068645, -0.04867417,\n",
       "        0.02664936,  0.13223982, -0.15158972, -0.04427586, -0.11045899,\n",
       "        0.0290315 ,  0.23628433,  0.4143238 , -0.07702475,  0.14490908],\n",
       "      dtype=float32), array([-0.01997465, -0.13710658, -0.0565548 , -0.05753557,  0.1972251 ,\n",
       "        0.11186082, -0.14484748, -0.16535619, -0.09192786,  0.19135241,\n",
       "        0.18335938, -0.05193092, -0.64986604,  0.10730443, -0.40973744,\n",
       "       -0.2361976 ,  0.16306509, -0.16696432, -0.1619791 ,  0.09873366,\n",
       "       -0.04563932,  0.07686895, -0.06777602,  0.03864095, -0.17643844],\n",
       "      dtype=float32), array([0., 0., 0., 0., 0., 0., 0., 0., 0., 0., 0., 0., 0., 0., 0., 0., 0.,\n",
       "       0., 0., 0., 0., 0., 0., 0., 0.]), array([-0.24442591, -0.2232641 ,  0.03132677,  0.11792581,  0.19151938,\n",
       "        0.19220111, -0.04835969, -0.25030982,  0.0530729 ,  0.06731198,\n",
       "        0.00083253,  0.11235639, -0.5247234 , -0.04752985, -0.2888799 ,\n",
       "       -0.05813713,  0.0271918 , -0.15343828, -0.03105287, -0.0055043 ,\n",
       "       -0.03772401,  0.2604342 ,  0.44090807,  0.07651726, -0.2402666 ],\n",
       "      dtype=float32), array([-0.01997465, -0.13710658, -0.0565548 , -0.05753557,  0.1972251 ,\n",
       "        0.11186082, -0.14484748, -0.16535619, -0.09192786,  0.19135241,\n",
       "        0.18335938, -0.05193092, -0.64986604,  0.10730443, -0.40973744,\n",
       "       -0.2361976 ,  0.16306509, -0.16696432, -0.1619791 ,  0.09873366,\n",
       "       -0.04563932,  0.07686895, -0.06777602,  0.03864095, -0.17643844],\n",
       "      dtype=float32), array([0., 0., 0., 0., 0., 0., 0., 0., 0., 0., 0., 0., 0., 0., 0., 0., 0.,\n",
       "       0., 0., 0., 0., 0., 0., 0., 0.]), array([-0.044004  ,  0.2046626 ,  0.02412521, -0.01147681,  0.29980776,\n",
       "        0.02007868,  0.21461874,  0.05116506,  0.01754637, -0.20388314,\n",
       "       -0.12399497,  0.17665918, -0.719859  , -0.13367376,  0.03555659,\n",
       "        0.088381  , -0.06672091, -0.01742012, -0.01506786,  0.16730797,\n",
       "       -0.06367478,  0.10674868,  0.20441394, -0.18152487,  0.24440823],\n",
       "      dtype=float32), array([-0.01997465, -0.13710658, -0.0565548 , -0.05753557,  0.1972251 ,\n",
       "        0.11186082, -0.14484748, -0.16535619, -0.09192786,  0.19135241,\n",
       "        0.18335938, -0.05193092, -0.64986604,  0.10730443, -0.40973744,\n",
       "       -0.2361976 ,  0.16306509, -0.16696432, -0.1619791 ,  0.09873366,\n",
       "       -0.04563932,  0.07686895, -0.06777602,  0.03864095, -0.17643844],\n",
       "      dtype=float32), array([0., 0., 0., 0., 0., 0., 0., 0., 0., 0., 0., 0., 0., 0., 0., 0., 0.,\n",
       "       0., 0., 0., 0., 0., 0., 0., 0.]), array([-0.00703495, -0.29996198,  0.01849882, -0.04299898,  0.28878906,\n",
       "        0.09345222,  0.0285922 , -0.34634027,  0.1094991 , -0.06063748,\n",
       "        0.07835609,  0.16995528, -0.5911754 ,  0.11380174, -0.1085357 ,\n",
       "        0.00941331,  0.05961294,  0.07847835, -0.03844759,  0.05898262,\n",
       "       -0.2462897 ,  0.15701574,  0.2446243 ,  0.14272912, -0.29947716],\n",
       "      dtype=float32), array([-0.20698154, -0.03402891, -0.01673613, -0.01729488,  0.10589633,\n",
       "       -0.00935385,  0.0682791 , -0.18502432, -0.08519246,  0.09854038,\n",
       "        0.10931677,  0.17867562, -0.5708112 ,  0.01728057,  0.20478773,\n",
       "       -0.07473274,  0.00459156,  0.015152  , -0.08325046, -0.13604124,\n",
       "       -0.13854791,  0.37569535,  0.47561878,  0.05850996, -0.23466174],\n",
       "      dtype=float32), array([-0.08490163, -0.01214467, -0.01449694, -0.00157698, -0.02676287,\n",
       "        0.15322612,  0.26245376, -0.07867435, -0.0451551 , -0.00951665,\n",
       "       -0.10540438,  0.05233049, -0.8719367 ,  0.08875   ,  0.00346179,\n",
       "        0.05008287,  0.06434289, -0.11642041, -0.22105435, -0.03851652,\n",
       "       -0.0860351 ,  0.05654188,  0.08556008,  0.11511897, -0.08545581],\n",
       "      dtype=float32), array([ 0.09485117, -0.04201786, -0.10074782,  0.04566525,  0.17612231,\n",
       "        0.15158108,  0.22543283, -0.04907188,  0.1684727 ,  0.03584665,\n",
       "       -0.09035476,  0.13774338, -0.81797016, -0.07163206, -0.03705681,\n",
       "        0.26735565,  0.14509098, -0.08247285, -0.05034962,  0.10420302,\n",
       "        0.09206969,  0.06112073,  0.02378724,  0.01889294, -0.10739   ],\n",
       "      dtype=float32), array([-0.10727302, -0.21637106,  0.07441472, -0.21988073,  0.14402705,\n",
       "        0.09442958, -0.0142163 , -0.23789705,  0.11499234, -0.06115598,\n",
       "        0.1822571 ,  0.07804528, -0.5668505 , -0.16320935, -0.238365  ,\n",
       "        0.04812536,  0.05098964, -0.08195467,  0.06087326,  0.1748361 ,\n",
       "       -0.3083049 ,  0.12052397,  0.36779377,  0.12659569, -0.18304092],\n",
       "      dtype=float32), array([0., 0., 0., 0., 0., 0., 0., 0., 0., 0., 0., 0., 0., 0., 0., 0., 0.,\n",
       "       0., 0., 0., 0., 0., 0., 0., 0.]), array([0., 0., 0., 0., 0., 0., 0., 0., 0., 0., 0., 0., 0., 0., 0., 0., 0.,\n",
       "       0., 0., 0., 0., 0., 0., 0., 0.]), array([-0.10727302, -0.21637106,  0.07441472, -0.21988073,  0.14402705,\n",
       "        0.09442958, -0.0142163 , -0.23789705,  0.11499234, -0.06115598,\n",
       "        0.1822571 ,  0.07804528, -0.5668505 , -0.16320935, -0.238365  ,\n",
       "        0.04812536,  0.05098964, -0.08195467,  0.06087326,  0.1748361 ,\n",
       "       -0.3083049 ,  0.12052397,  0.36779377,  0.12659569, -0.18304092],\n",
       "      dtype=float32), array([0., 0., 0., 0., 0., 0., 0., 0., 0., 0., 0., 0., 0., 0., 0., 0., 0.,\n",
       "       0., 0., 0., 0., 0., 0., 0., 0.])]),\n",
       "       list([array([-0.0763677 ,  0.17787519, -0.07902815, -0.01812561, -0.12237667,\n",
       "       -0.12040628,  0.15156358, -0.08196855, -0.03368755, -0.21369588,\n",
       "        0.11757657,  0.17813994, -0.80360556,  0.22264509,  0.05129734,\n",
       "       -0.10897241, -0.00310358, -0.0638488 , -0.02893084, -0.19591683,\n",
       "       -0.16221192,  0.00561517,  0.09105013, -0.0668174 , -0.11030263],\n",
       "      dtype=float32), array([-7.4495584e-02,  1.6558026e-03,  4.1130003e-01,  2.0949474e-04,\n",
       "       -1.8160173e-01, -1.2404597e-01,  1.5811838e-01, -3.8332134e-02,\n",
       "       -9.5911995e-02, -3.7512857e-01, -1.6095105e-01,  1.1089465e-01,\n",
       "       -5.7124710e-01, -2.1864872e-01,  1.3017718e-01,  1.7601404e-02,\n",
       "        3.5333462e-02,  1.0205659e-01,  4.3135364e-02,  1.5106615e-01,\n",
       "        1.4904472e-01,  2.2946805e-01, -4.4364288e-02, -2.4000087e-01,\n",
       "        1.2187729e-02], dtype=float32), array([0., 0., 0., 0., 0., 0., 0., 0., 0., 0., 0., 0., 0., 0., 0., 0., 0.,\n",
       "       0., 0., 0., 0., 0., 0., 0., 0.]), array([0., 0., 0., 0., 0., 0., 0., 0., 0., 0., 0., 0., 0., 0., 0., 0., 0.,\n",
       "       0., 0., 0., 0., 0., 0., 0., 0.]), array([ 0.03294515, -0.16490112,  0.36220643,  0.02344622,  0.09704017,\n",
       "       -0.18777308,  0.25827345,  0.2298373 ,  0.1434083 , -0.39017594,\n",
       "        0.11831304, -0.16615544, -0.47369802,  0.0180476 , -0.02260298,\n",
       "        0.21095419, -0.06268317,  0.21859601, -0.03353367,  0.06701383,\n",
       "       -0.20791054,  0.06366998, -0.15027733, -0.18025611,  0.17874913],\n",
       "      dtype=float32), array([ 0.04218153,  0.0110777 ,  0.16184121, -0.02778155,  0.16160125,\n",
       "       -0.17039807,  0.3314667 , -0.05014336,  0.127403  , -0.16082671,\n",
       "        0.05169242,  0.0899779 , -0.78941363, -0.00869266,  0.03052849,\n",
       "       -0.01632069,  0.14124696,  0.0405837 , -0.05377018, -0.00487484,\n",
       "       -0.16386434, -0.18053328, -0.18622616,  0.08261891, -0.02869655],\n",
       "      dtype=float32), array([0., 0., 0., 0., 0., 0., 0., 0., 0., 0., 0., 0., 0., 0., 0., 0., 0.,\n",
       "       0., 0., 0., 0., 0., 0., 0., 0.]), array([0., 0., 0., 0., 0., 0., 0., 0., 0., 0., 0., 0., 0., 0., 0., 0., 0.,\n",
       "       0., 0., 0., 0., 0., 0., 0., 0.])])], dtype=object)"
      ]
     },
     "execution_count": 18,
     "metadata": {},
     "output_type": "execute_result"
    }
   ],
   "source": [
    "ptr_glove.transform(df_train['text'].head().values)"
   ]
  },
  {
   "cell_type": "code",
   "execution_count": 20,
   "metadata": {},
   "outputs": [],
   "source": [
    "\n",
    "df_test[[\"ID\",\"GL\",\"text\",\"text_encoded\",\"char\",\"char_encoded\"]].to_csv(\"price_prediction/test.csv\",index=False)\n",
    "df_train[[\"ID\",\"GL\",\"text\",\"text_encoded\",\"char\",\"char_encoded\",\"PRICE\"]].to_csv(\"price_prediction/train.csv\",index=False)\n"
   ]
  },
  {
   "cell_type": "code",
   "execution_count": 19,
   "metadata": {},
   "outputs": [
    {
     "name": "stdout",
     "output_type": "stream",
     "text": [
      "Fasttext Transforms start at: 2019-06-12 20:49:31.612184\n",
      "Number of Unique Test Tokens for Fasttext transform 160522\n"
     ]
    },
    {
     "name": "stderr",
     "output_type": "stream",
     "text": [
      "/home/ec2-user/SageMaker/ML_hackathon_2019/lib.py:230: RuntimeWarning: invalid value encountered in true_divide\n",
      "  token2vec = {k: self.model.wv[k] if k in self.model.wv else empty for k in uniq_tokens}\n"
     ]
    },
    {
     "data": {
      "application/vnd.jupyter.widget-view+json": {
       "model_id": "ad72823cfca34b8d9b0fc3cc8c4e5653",
       "version_major": 2,
       "version_minor": 0
      },
      "text/plain": [
       "HBox(children=(IntProgress(value=0, max=362403), HTML(value='')))"
      ]
     },
     "metadata": {},
     "output_type": "display_data"
    },
    {
     "name": "stdout",
     "output_type": "stream",
     "text": [
      "Fasttext Transforms done at: 2019-06-12 20:49:44.720385\n",
      "Fasttext Transforms start at: 2019-06-12 20:49:44.740831\n",
      "Number of Unique Test Tokens for Fasttext transform 332242\n"
     ]
    },
    {
     "data": {
      "application/vnd.jupyter.widget-view+json": {
       "model_id": "5985ef138fc643ccbe0c27296d56000f",
       "version_major": 2,
       "version_minor": 0
      },
      "text/plain": [
       "HBox(children=(IntProgress(value=0, max=1449608), HTML(value='')))"
      ]
     },
     "metadata": {},
     "output_type": "display_data"
    },
    {
     "name": "stdout",
     "output_type": "stream",
     "text": [
      "Fasttext Transforms done at: 2019-06-12 20:50:35.406689\n"
     ]
    },
    {
     "ename": "KeyboardInterrupt",
     "evalue": "",
     "output_type": "error",
     "traceback": [
      "\u001b[0;31m---------------------------------------------------------------------------\u001b[0m",
      "\u001b[0;31mKeyboardInterrupt\u001b[0m                         Traceback (most recent call last)",
      "\u001b[0;32m<ipython-input-19-7798dfa9096d>\u001b[0m in \u001b[0;36m<module>\u001b[0;34m()\u001b[0m\n\u001b[1;32m      3\u001b[0m \u001b[0;34m\u001b[0m\u001b[0m\n\u001b[1;32m      4\u001b[0m \u001b[0mdf_test\u001b[0m\u001b[0;34m[\u001b[0m\u001b[0;34m[\u001b[0m\u001b[0;34m\"ID\"\u001b[0m\u001b[0;34m,\u001b[0m\u001b[0;34m\"GL\"\u001b[0m\u001b[0;34m,\u001b[0m\u001b[0;34m\"text\"\u001b[0m\u001b[0;34m,\u001b[0m\u001b[0;34m\"text_encoded\"\u001b[0m\u001b[0;34m,\u001b[0m\u001b[0;34m\"char\"\u001b[0m\u001b[0;34m,\u001b[0m\u001b[0;34m\"char_encoded\"\u001b[0m\u001b[0;34m,\u001b[0m\u001b[0;34m\"glove_encoded\"\u001b[0m\u001b[0;34m]\u001b[0m\u001b[0;34m]\u001b[0m\u001b[0;34m.\u001b[0m\u001b[0mto_csv\u001b[0m\u001b[0;34m(\u001b[0m\u001b[0;34m\"price_prediction/test.csv\"\u001b[0m\u001b[0;34m,\u001b[0m\u001b[0mindex\u001b[0m\u001b[0;34m=\u001b[0m\u001b[0;32mFalse\u001b[0m\u001b[0;34m)\u001b[0m\u001b[0;34m\u001b[0m\u001b[0m\n\u001b[0;32m----> 5\u001b[0;31m \u001b[0mdf_train\u001b[0m\u001b[0;34m[\u001b[0m\u001b[0;34m[\u001b[0m\u001b[0;34m\"ID\"\u001b[0m\u001b[0;34m,\u001b[0m\u001b[0;34m\"GL\"\u001b[0m\u001b[0;34m,\u001b[0m\u001b[0;34m\"text\"\u001b[0m\u001b[0;34m,\u001b[0m\u001b[0;34m\"text_encoded\"\u001b[0m\u001b[0;34m,\u001b[0m\u001b[0;34m\"char\"\u001b[0m\u001b[0;34m,\u001b[0m\u001b[0;34m\"char_encoded\"\u001b[0m\u001b[0;34m,\u001b[0m\u001b[0;34m\"glove_encoded\"\u001b[0m\u001b[0;34m,\u001b[0m\u001b[0;34m\"PRICE\"\u001b[0m\u001b[0;34m]\u001b[0m\u001b[0;34m]\u001b[0m\u001b[0;34m.\u001b[0m\u001b[0mto_csv\u001b[0m\u001b[0;34m(\u001b[0m\u001b[0;34m\"price_prediction/train.csv\"\u001b[0m\u001b[0;34m,\u001b[0m\u001b[0mindex\u001b[0m\u001b[0;34m=\u001b[0m\u001b[0;32mFalse\u001b[0m\u001b[0;34m)\u001b[0m\u001b[0;34m\u001b[0m\u001b[0m\n\u001b[0m",
      "\u001b[0;32m~/anaconda3/envs/tensorflow_p36/lib/python3.6/site-packages/pandas/core/generic.py\u001b[0m in \u001b[0;36mto_csv\u001b[0;34m(self, path_or_buf, sep, na_rep, float_format, columns, header, index, index_label, mode, encoding, compression, quoting, quotechar, line_terminator, chunksize, tupleize_cols, date_format, doublequote, escapechar, decimal)\u001b[0m\n\u001b[1;32m   3018\u001b[0m                                  \u001b[0mdoublequote\u001b[0m\u001b[0;34m=\u001b[0m\u001b[0mdoublequote\u001b[0m\u001b[0;34m,\u001b[0m\u001b[0;34m\u001b[0m\u001b[0m\n\u001b[1;32m   3019\u001b[0m                                  escapechar=escapechar, decimal=decimal)\n\u001b[0;32m-> 3020\u001b[0;31m         \u001b[0mformatter\u001b[0m\u001b[0;34m.\u001b[0m\u001b[0msave\u001b[0m\u001b[0;34m(\u001b[0m\u001b[0;34m)\u001b[0m\u001b[0;34m\u001b[0m\u001b[0m\n\u001b[0m\u001b[1;32m   3021\u001b[0m \u001b[0;34m\u001b[0m\u001b[0m\n\u001b[1;32m   3022\u001b[0m         \u001b[0;32mif\u001b[0m \u001b[0mpath_or_buf\u001b[0m \u001b[0;32mis\u001b[0m \u001b[0;32mNone\u001b[0m\u001b[0;34m:\u001b[0m\u001b[0;34m\u001b[0m\u001b[0m\n",
      "\u001b[0;32m~/anaconda3/envs/tensorflow_p36/lib/python3.6/site-packages/pandas/io/formats/csvs.py\u001b[0m in \u001b[0;36msave\u001b[0;34m(self)\u001b[0m\n\u001b[1;32m    170\u001b[0m                 \u001b[0mself\u001b[0m\u001b[0;34m.\u001b[0m\u001b[0mwriter\u001b[0m \u001b[0;34m=\u001b[0m \u001b[0mUnicodeWriter\u001b[0m\u001b[0;34m(\u001b[0m\u001b[0mf\u001b[0m\u001b[0;34m,\u001b[0m \u001b[0;34m**\u001b[0m\u001b[0mwriter_kwargs\u001b[0m\u001b[0;34m)\u001b[0m\u001b[0;34m\u001b[0m\u001b[0m\n\u001b[1;32m    171\u001b[0m \u001b[0;34m\u001b[0m\u001b[0m\n\u001b[0;32m--> 172\u001b[0;31m             \u001b[0mself\u001b[0m\u001b[0;34m.\u001b[0m\u001b[0m_save\u001b[0m\u001b[0;34m(\u001b[0m\u001b[0;34m)\u001b[0m\u001b[0;34m\u001b[0m\u001b[0m\n\u001b[0m\u001b[1;32m    173\u001b[0m \u001b[0;34m\u001b[0m\u001b[0m\n\u001b[1;32m    174\u001b[0m         \u001b[0;32mfinally\u001b[0m\u001b[0;34m:\u001b[0m\u001b[0;34m\u001b[0m\u001b[0m\n",
      "\u001b[0;32m~/anaconda3/envs/tensorflow_p36/lib/python3.6/site-packages/pandas/io/formats/csvs.py\u001b[0m in \u001b[0;36m_save\u001b[0;34m(self)\u001b[0m\n\u001b[1;32m    286\u001b[0m                 \u001b[0;32mbreak\u001b[0m\u001b[0;34m\u001b[0m\u001b[0m\n\u001b[1;32m    287\u001b[0m \u001b[0;34m\u001b[0m\u001b[0m\n\u001b[0;32m--> 288\u001b[0;31m             \u001b[0mself\u001b[0m\u001b[0;34m.\u001b[0m\u001b[0m_save_chunk\u001b[0m\u001b[0;34m(\u001b[0m\u001b[0mstart_i\u001b[0m\u001b[0;34m,\u001b[0m \u001b[0mend_i\u001b[0m\u001b[0;34m)\u001b[0m\u001b[0;34m\u001b[0m\u001b[0m\n\u001b[0m\u001b[1;32m    289\u001b[0m \u001b[0;34m\u001b[0m\u001b[0m\n\u001b[1;32m    290\u001b[0m     \u001b[0;32mdef\u001b[0m \u001b[0m_save_chunk\u001b[0m\u001b[0;34m(\u001b[0m\u001b[0mself\u001b[0m\u001b[0;34m,\u001b[0m \u001b[0mstart_i\u001b[0m\u001b[0;34m,\u001b[0m \u001b[0mend_i\u001b[0m\u001b[0;34m)\u001b[0m\u001b[0;34m:\u001b[0m\u001b[0;34m\u001b[0m\u001b[0m\n",
      "\u001b[0;32m~/anaconda3/envs/tensorflow_p36/lib/python3.6/site-packages/pandas/io/formats/csvs.py\u001b[0m in \u001b[0;36m_save_chunk\u001b[0;34m(self, start_i, end_i)\u001b[0m\n\u001b[1;32m    313\u001b[0m \u001b[0;34m\u001b[0m\u001b[0m\n\u001b[1;32m    314\u001b[0m         libwriters.write_csv_rows(self.data, ix, self.nlevels,\n\u001b[0;32m--> 315\u001b[0;31m                                   self.cols, self.writer)\n\u001b[0m",
      "\u001b[0;32mpandas/_libs/writers.pyx\u001b[0m in \u001b[0;36mpandas._libs.writers.write_csv_rows\u001b[0;34m()\u001b[0m\n",
      "\u001b[0;32m~/anaconda3/envs/tensorflow_p36/lib/python3.6/site-packages/numpy/core/arrayprint.py\u001b[0m in \u001b[0;36marray_repr\u001b[0;34m(arr, max_line_width, precision, suppress_small)\u001b[0m\n\u001b[1;32m   1429\u001b[0m     \u001b[0;32melif\u001b[0m \u001b[0marr\u001b[0m\u001b[0;34m.\u001b[0m\u001b[0msize\u001b[0m \u001b[0;34m>\u001b[0m \u001b[0;36m0\u001b[0m \u001b[0;32mor\u001b[0m \u001b[0marr\u001b[0m\u001b[0;34m.\u001b[0m\u001b[0mshape\u001b[0m \u001b[0;34m==\u001b[0m \u001b[0;34m(\u001b[0m\u001b[0;36m0\u001b[0m\u001b[0;34m,\u001b[0m\u001b[0;34m)\u001b[0m\u001b[0;34m:\u001b[0m\u001b[0;34m\u001b[0m\u001b[0m\n\u001b[1;32m   1430\u001b[0m         lst = array2string(arr, max_line_width, precision, suppress_small,\n\u001b[0;32m-> 1431\u001b[0;31m                            ', ', prefix, suffix=suffix)\n\u001b[0m\u001b[1;32m   1432\u001b[0m     \u001b[0;32melse\u001b[0m\u001b[0;34m:\u001b[0m  \u001b[0;31m# show zero-length shape unless it is (0,)\u001b[0m\u001b[0;34m\u001b[0m\u001b[0m\n\u001b[1;32m   1433\u001b[0m         \u001b[0mlst\u001b[0m \u001b[0;34m=\u001b[0m \u001b[0;34m\"[], shape=%s\"\u001b[0m \u001b[0;34m%\u001b[0m \u001b[0;34m(\u001b[0m\u001b[0mrepr\u001b[0m\u001b[0;34m(\u001b[0m\u001b[0marr\u001b[0m\u001b[0;34m.\u001b[0m\u001b[0mshape\u001b[0m\u001b[0;34m)\u001b[0m\u001b[0;34m,\u001b[0m\u001b[0;34m)\u001b[0m\u001b[0;34m\u001b[0m\u001b[0m\n",
      "\u001b[0;32m~/anaconda3/envs/tensorflow_p36/lib/python3.6/site-packages/numpy/core/arrayprint.py\u001b[0m in \u001b[0;36marray2string\u001b[0;34m(a, max_line_width, precision, suppress_small, separator, prefix, style, formatter, threshold, edgeitems, sign, floatmode, suffix, **kwarg)\u001b[0m\n\u001b[1;32m    666\u001b[0m         \u001b[0;32mreturn\u001b[0m \u001b[0;34m\"[]\"\u001b[0m\u001b[0;34m\u001b[0m\u001b[0m\n\u001b[1;32m    667\u001b[0m \u001b[0;34m\u001b[0m\u001b[0m\n\u001b[0;32m--> 668\u001b[0;31m     \u001b[0;32mreturn\u001b[0m \u001b[0m_array2string\u001b[0m\u001b[0;34m(\u001b[0m\u001b[0ma\u001b[0m\u001b[0;34m,\u001b[0m \u001b[0moptions\u001b[0m\u001b[0;34m,\u001b[0m \u001b[0mseparator\u001b[0m\u001b[0;34m,\u001b[0m \u001b[0mprefix\u001b[0m\u001b[0;34m)\u001b[0m\u001b[0;34m\u001b[0m\u001b[0m\n\u001b[0m\u001b[1;32m    669\u001b[0m \u001b[0;34m\u001b[0m\u001b[0m\n\u001b[1;32m    670\u001b[0m \u001b[0;34m\u001b[0m\u001b[0m\n",
      "\u001b[0;32m~/anaconda3/envs/tensorflow_p36/lib/python3.6/site-packages/numpy/core/arrayprint.py\u001b[0m in \u001b[0;36mwrapper\u001b[0;34m(self, *args, **kwargs)\u001b[0m\n\u001b[1;32m    458\u001b[0m             \u001b[0mrepr_running\u001b[0m\u001b[0;34m.\u001b[0m\u001b[0madd\u001b[0m\u001b[0;34m(\u001b[0m\u001b[0mkey\u001b[0m\u001b[0;34m)\u001b[0m\u001b[0;34m\u001b[0m\u001b[0m\n\u001b[1;32m    459\u001b[0m             \u001b[0;32mtry\u001b[0m\u001b[0;34m:\u001b[0m\u001b[0;34m\u001b[0m\u001b[0m\n\u001b[0;32m--> 460\u001b[0;31m                 \u001b[0;32mreturn\u001b[0m \u001b[0mf\u001b[0m\u001b[0;34m(\u001b[0m\u001b[0mself\u001b[0m\u001b[0;34m,\u001b[0m \u001b[0;34m*\u001b[0m\u001b[0margs\u001b[0m\u001b[0;34m,\u001b[0m \u001b[0;34m**\u001b[0m\u001b[0mkwargs\u001b[0m\u001b[0;34m)\u001b[0m\u001b[0;34m\u001b[0m\u001b[0m\n\u001b[0m\u001b[1;32m    461\u001b[0m             \u001b[0;32mfinally\u001b[0m\u001b[0;34m:\u001b[0m\u001b[0;34m\u001b[0m\u001b[0m\n\u001b[1;32m    462\u001b[0m                 \u001b[0mrepr_running\u001b[0m\u001b[0;34m.\u001b[0m\u001b[0mdiscard\u001b[0m\u001b[0;34m(\u001b[0m\u001b[0mkey\u001b[0m\u001b[0;34m)\u001b[0m\u001b[0;34m\u001b[0m\u001b[0m\n",
      "\u001b[0;32m~/anaconda3/envs/tensorflow_p36/lib/python3.6/site-packages/numpy/core/arrayprint.py\u001b[0m in \u001b[0;36m_array2string\u001b[0;34m(a, options, separator, prefix)\u001b[0m\n\u001b[1;32m    493\u001b[0m     lst = _formatArray(a, format_function, options['linewidth'],\n\u001b[1;32m    494\u001b[0m                        \u001b[0mnext_line_prefix\u001b[0m\u001b[0;34m,\u001b[0m \u001b[0mseparator\u001b[0m\u001b[0;34m,\u001b[0m \u001b[0moptions\u001b[0m\u001b[0;34m[\u001b[0m\u001b[0;34m'edgeitems'\u001b[0m\u001b[0;34m]\u001b[0m\u001b[0;34m,\u001b[0m\u001b[0;34m\u001b[0m\u001b[0m\n\u001b[0;32m--> 495\u001b[0;31m                        summary_insert, options['legacy'])\n\u001b[0m\u001b[1;32m    496\u001b[0m     \u001b[0;32mreturn\u001b[0m \u001b[0mlst\u001b[0m\u001b[0;34m\u001b[0m\u001b[0m\n\u001b[1;32m    497\u001b[0m \u001b[0;34m\u001b[0m\u001b[0m\n",
      "\u001b[0;32m~/anaconda3/envs/tensorflow_p36/lib/python3.6/site-packages/numpy/core/arrayprint.py\u001b[0m in \u001b[0;36m_formatArray\u001b[0;34m(a, format_function, line_width, next_line_prefix, separator, edge_items, summary_insert, legacy)\u001b[0m\n\u001b[1;32m    794\u001b[0m         return recurser(index=(),\n\u001b[1;32m    795\u001b[0m                         \u001b[0mhanging_indent\u001b[0m\u001b[0;34m=\u001b[0m\u001b[0mnext_line_prefix\u001b[0m\u001b[0;34m,\u001b[0m\u001b[0;34m\u001b[0m\u001b[0m\n\u001b[0;32m--> 796\u001b[0;31m                         curr_width=line_width)\n\u001b[0m\u001b[1;32m    797\u001b[0m     \u001b[0;32mfinally\u001b[0m\u001b[0;34m:\u001b[0m\u001b[0;34m\u001b[0m\u001b[0m\n\u001b[1;32m    798\u001b[0m         \u001b[0;31m# recursive closures have a cyclic reference to themselves, which\u001b[0m\u001b[0;34m\u001b[0m\u001b[0;34m\u001b[0m\u001b[0m\n",
      "\u001b[0;32m~/anaconda3/envs/tensorflow_p36/lib/python3.6/site-packages/numpy/core/arrayprint.py\u001b[0m in \u001b[0;36mrecurser\u001b[0;34m(index, hanging_indent, curr_width)\u001b[0m\n\u001b[1;32m    748\u001b[0m \u001b[0;34m\u001b[0m\u001b[0m\n\u001b[1;32m    749\u001b[0m             \u001b[0;32mfor\u001b[0m \u001b[0mi\u001b[0m \u001b[0;32min\u001b[0m \u001b[0mrange\u001b[0m\u001b[0;34m(\u001b[0m\u001b[0mtrailing_items\u001b[0m\u001b[0;34m,\u001b[0m \u001b[0;36m1\u001b[0m\u001b[0;34m,\u001b[0m \u001b[0;34m-\u001b[0m\u001b[0;36m1\u001b[0m\u001b[0;34m)\u001b[0m\u001b[0;34m:\u001b[0m\u001b[0;34m\u001b[0m\u001b[0m\n\u001b[0;32m--> 750\u001b[0;31m                 \u001b[0mword\u001b[0m \u001b[0;34m=\u001b[0m \u001b[0mrecurser\u001b[0m\u001b[0;34m(\u001b[0m\u001b[0mindex\u001b[0m \u001b[0;34m+\u001b[0m \u001b[0;34m(\u001b[0m\u001b[0;34m-\u001b[0m\u001b[0mi\u001b[0m\u001b[0;34m,\u001b[0m\u001b[0;34m)\u001b[0m\u001b[0;34m,\u001b[0m \u001b[0mnext_hanging_indent\u001b[0m\u001b[0;34m,\u001b[0m \u001b[0mnext_width\u001b[0m\u001b[0;34m)\u001b[0m\u001b[0;34m\u001b[0m\u001b[0m\n\u001b[0m\u001b[1;32m    751\u001b[0m                 s, line = _extendLine(\n\u001b[1;32m    752\u001b[0m                     s, line, word, elem_width, hanging_indent, legacy)\n",
      "\u001b[0;32m~/anaconda3/envs/tensorflow_p36/lib/python3.6/site-packages/numpy/core/arrayprint.py\u001b[0m in \u001b[0;36mrecurser\u001b[0;34m(index, hanging_indent, curr_width)\u001b[0m\n\u001b[1;32m    702\u001b[0m \u001b[0;34m\u001b[0m\u001b[0m\n\u001b[1;32m    703\u001b[0m         \u001b[0;32mif\u001b[0m \u001b[0maxes_left\u001b[0m \u001b[0;34m==\u001b[0m \u001b[0;36m0\u001b[0m\u001b[0;34m:\u001b[0m\u001b[0;34m\u001b[0m\u001b[0m\n\u001b[0;32m--> 704\u001b[0;31m             \u001b[0;32mreturn\u001b[0m \u001b[0mformat_function\u001b[0m\u001b[0;34m(\u001b[0m\u001b[0ma\u001b[0m\u001b[0;34m[\u001b[0m\u001b[0mindex\u001b[0m\u001b[0;34m]\u001b[0m\u001b[0;34m)\u001b[0m\u001b[0;34m\u001b[0m\u001b[0m\n\u001b[0m\u001b[1;32m    705\u001b[0m \u001b[0;34m\u001b[0m\u001b[0m\n\u001b[1;32m    706\u001b[0m         \u001b[0;31m# when recursing, add a space to align with the [ added, and reduce the\u001b[0m\u001b[0;34m\u001b[0m\u001b[0;34m\u001b[0m\u001b[0m\n",
      "\u001b[0;32m~/anaconda3/envs/tensorflow_p36/lib/python3.6/site-packages/numpy/core/arrayprint.py\u001b[0m in \u001b[0;36m__call__\u001b[0;34m(self, x)\u001b[0m\n\u001b[1;32m    939\u001b[0m                                       \u001b[0msign\u001b[0m\u001b[0;34m=\u001b[0m\u001b[0mself\u001b[0m\u001b[0;34m.\u001b[0m\u001b[0msign\u001b[0m \u001b[0;34m==\u001b[0m \u001b[0;34m'+'\u001b[0m\u001b[0;34m,\u001b[0m\u001b[0;34m\u001b[0m\u001b[0m\n\u001b[1;32m    940\u001b[0m                                       \u001b[0mpad_left\u001b[0m\u001b[0;34m=\u001b[0m\u001b[0mself\u001b[0m\u001b[0;34m.\u001b[0m\u001b[0mpad_left\u001b[0m\u001b[0;34m,\u001b[0m\u001b[0;34m\u001b[0m\u001b[0m\n\u001b[0;32m--> 941\u001b[0;31m                                       exp_digits=self.exp_size)\n\u001b[0m\u001b[1;32m    942\u001b[0m         \u001b[0;32melse\u001b[0m\u001b[0;34m:\u001b[0m\u001b[0;34m\u001b[0m\u001b[0m\n\u001b[1;32m    943\u001b[0m             return dragon4_positional(x,\n",
      "\u001b[0;31mKeyboardInterrupt\u001b[0m: "
     ]
    }
   ],
   "source": [
    "df_test['glove_encoded'] = ptr_glove.transform(df_test['text'].values)\n",
    "df_train['glove_encoded'] = ptr_glove.transform(df_train['text'].values)\n",
    "\n",
    "\n",
    "df_test[[\"ID\",\"GL\",\"text\",\"text_encoded\",\"char\",\"char_encoded\",\"glove_encoded\"]].to_csv(\"price_prediction/test.csv\",index=False)\n",
    "df_train[[\"ID\",\"GL\",\"text\",\"text_encoded\",\"char\",\"char_encoded\",\"glove_encoded\",\"PRICE\"]].to_csv(\"price_prediction/train.csv\",index=False)\n"
   ]
  },
  {
   "cell_type": "code",
   "execution_count": null,
   "metadata": {},
   "outputs": [],
   "source": [
    "start = time()\n",
    "fasttext = api.load(\"fasttext-wiki-news-subwords-300\") \n",
    "print(\"total = \",(time()-start))\n",
    "\n",
    "ptr = PreTrainedEmbeddingsTransformer(fasttext,size=300)\n",
    "ptr.fit()\n",
    "\n",
    "\n",
    "import gc\n",
    "gc.collect()"
   ]
  },
  {
   "cell_type": "code",
   "execution_count": null,
   "metadata": {},
   "outputs": [],
   "source": [
    "\n",
    "df_test['fasttext_encoded'] = ptr.transform(df_test['text'].values)\n",
    "df_test[[\"ID\",\"GL\",\"text\",\"text_encoded\",\"char\",\"char_encoded\",\"fasttext_encoded\"]].to_csv(\"price_prediction/test.csv\",index=False)\n",
    "gc.collect()"
   ]
  },
  {
   "cell_type": "code",
   "execution_count": null,
   "metadata": {},
   "outputs": [],
   "source": [
    "# Intermediate save\n",
    "df_train['fasttext_encoded'] = ptr.transform(df_train['text'].values)\n",
    "df_train[[\"ID\",\"GL\",\"text\",\"text_encoded\",\"char\",\"char_encoded\",\"fasttext_encoded\",\"PRICE\"]].to_csv(\"price_prediction/train.csv\",index=False)\n",
    "\n"
   ]
  },
  {
   "cell_type": "code",
   "execution_count": null,
   "metadata": {},
   "outputs": [],
   "source": []
  }
 ],
 "metadata": {
  "kernelspec": {
   "display_name": "conda_tensorflow_p36",
   "language": "python",
   "name": "conda_tensorflow_p36"
  },
  "language_info": {
   "codemirror_mode": {
    "name": "ipython",
    "version": 3
   },
   "file_extension": ".py",
   "mimetype": "text/x-python",
   "name": "python",
   "nbconvert_exporter": "python",
   "pygments_lexer": "ipython3",
   "version": "3.6.5"
  },
  "toc": {
   "base_numbering": 1,
   "nav_menu": {},
   "number_sections": true,
   "sideBar": true,
   "skip_h1_title": false,
   "title_cell": "Table of Contents",
   "title_sidebar": "Contents",
   "toc_cell": false,
   "toc_position": {},
   "toc_section_display": true,
   "toc_window_display": false
  }
 },
 "nbformat": 4,
 "nbformat_minor": 2
}
